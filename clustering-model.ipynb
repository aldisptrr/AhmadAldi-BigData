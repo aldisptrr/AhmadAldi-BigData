{
 "cells": [
  {
   "cell_type": "code",
   "execution_count": 1,
   "id": "67668287",
   "metadata": {
    "_cell_guid": "b1076dfc-b9ad-4769-8c92-a6c4dae69d19",
    "_uuid": "8f2839f25d086af736a60e9eeb907d3b93b6e0e5",
    "execution": {
     "iopub.execute_input": "2022-04-15T09:31:44.894554Z",
     "iopub.status.busy": "2022-04-15T09:31:44.893562Z",
     "iopub.status.idle": "2022-04-15T09:31:44.905320Z",
     "shell.execute_reply": "2022-04-15T09:31:44.904268Z",
     "shell.execute_reply.started": "2022-04-15T09:29:03.933230Z"
    },
    "papermill": {
     "duration": 0.060708,
     "end_time": "2022-04-15T09:31:44.905587",
     "exception": false,
     "start_time": "2022-04-15T09:31:44.844879",
     "status": "completed"
    },
    "tags": []
   },
   "outputs": [
    {
     "name": "stdout",
     "output_type": "stream",
     "text": [
      "/kaggle/input/datajasa-dataset/DataInput.csv\n"
     ]
    }
   ],
   "source": [
    "# This Python 3 environment comes with many helpful analytics libraries installed\n",
    "# It is defined by the kaggle/python Docker image: https://github.com/kaggle/docker-python\n",
    "# For example, here's several helpful packages to load\n",
    "\n",
    "import numpy as np # linear algebra\n",
    "import pandas as pd # data processing, CSV file I/O (e.g. pd.read_csv)\n",
    "\n",
    "# Input data files are available in the read-only \"../input/\" directory\n",
    "# For example, running this (by clicking run or pressing Shift+Enter) will list all files under the input directory\n",
    "\n",
    "import os\n",
    "for dirname, _, filenames in os.walk('/kaggle/input'):\n",
    "    for filename in filenames:\n",
    "        print(os.path.join(dirname, filename))\n",
    "\n",
    "# You can write up to 20GB to the current directory (/kaggle/working/) that gets preserved as output when you create a version using \"Save & Run All\" \n",
    "# You can also write temporary files to /kaggle/temp/, but they won't be saved outside of the current session"
   ]
  },
  {
   "cell_type": "code",
   "execution_count": 2,
   "id": "2c05a6a2",
   "metadata": {
    "execution": {
     "iopub.execute_input": "2022-04-15T09:31:44.982284Z",
     "iopub.status.busy": "2022-04-15T09:31:44.981311Z",
     "iopub.status.idle": "2022-04-15T09:31:46.070904Z",
     "shell.execute_reply": "2022-04-15T09:31:46.071628Z",
     "shell.execute_reply.started": "2022-04-15T09:29:03.947975Z"
    },
    "papermill": {
     "duration": 1.124004,
     "end_time": "2022-04-15T09:31:46.071883",
     "exception": false,
     "start_time": "2022-04-15T09:31:44.947879",
     "status": "completed"
    },
    "tags": []
   },
   "outputs": [],
   "source": [
    "import pandas as pd\n",
    "import numpy as np\n",
    "import matplotlib.pyplot as plt\n",
    "import seaborn as sns\n",
    "from matplotlib.colors import ListedColormap\n",
    "%matplotlib inline\n",
    "from scipy import stats"
   ]
  },
  {
   "cell_type": "markdown",
   "id": "5eb04c73",
   "metadata": {
    "papermill": {
     "duration": 0.029347,
     "end_time": "2022-04-15T09:31:46.138146",
     "exception": false,
     "start_time": "2022-04-15T09:31:46.108799",
     "status": "completed"
    },
    "tags": []
   },
   "source": [
    "**Load Data**"
   ]
  },
  {
   "cell_type": "code",
   "execution_count": 3,
   "id": "879ffb54",
   "metadata": {
    "execution": {
     "iopub.execute_input": "2022-04-15T09:31:46.202633Z",
     "iopub.status.busy": "2022-04-15T09:31:46.201907Z",
     "iopub.status.idle": "2022-04-15T09:31:46.231653Z",
     "shell.execute_reply": "2022-04-15T09:31:46.232329Z",
     "shell.execute_reply.started": "2022-04-15T09:29:03.958648Z"
    },
    "papermill": {
     "duration": 0.064865,
     "end_time": "2022-04-15T09:31:46.232575",
     "exception": false,
     "start_time": "2022-04-15T09:31:46.167710",
     "status": "completed"
    },
    "tags": []
   },
   "outputs": [
    {
     "name": "stdout",
     "output_type": "stream",
     "text": [
      "<class 'pandas.core.frame.DataFrame'>\n",
      "RangeIndex: 3 entries, 0 to 2\n",
      "Data columns (total 6 columns):\n",
      " #   Column                   Non-Null Count  Dtype  \n",
      "---  ------                   --------------  -----  \n",
      " 0   Emitten                  3 non-null      object \n",
      " 1   DER                      3 non-null      float64\n",
      " 2   Operating Profit Margin  3 non-null      float64\n",
      " 3   Return on Assets         3 non-null      float64\n",
      " 4   Sales Growth             3 non-null      float64\n",
      " 5   Category                 0 non-null      float64\n",
      "dtypes: float64(5), object(1)\n",
      "memory usage: 272.0+ bytes\n"
     ]
    }
   ],
   "source": [
    "df0=pd.read_csv('../input/datajasa-dataset/DataInput.csv')\n",
    "df0.info()"
   ]
  },
  {
   "cell_type": "code",
   "execution_count": 4,
   "id": "53d909d3",
   "metadata": {
    "execution": {
     "iopub.execute_input": "2022-04-15T09:31:46.306119Z",
     "iopub.status.busy": "2022-04-15T09:31:46.305170Z",
     "iopub.status.idle": "2022-04-15T09:31:46.330390Z",
     "shell.execute_reply": "2022-04-15T09:31:46.330885Z",
     "shell.execute_reply.started": "2022-04-15T09:29:03.988326Z"
    },
    "papermill": {
     "duration": 0.064495,
     "end_time": "2022-04-15T09:31:46.331054",
     "exception": false,
     "start_time": "2022-04-15T09:31:46.266559",
     "status": "completed"
    },
    "tags": []
   },
   "outputs": [
    {
     "data": {
      "text/html": [
       "<div>\n",
       "<style scoped>\n",
       "    .dataframe tbody tr th:only-of-type {\n",
       "        vertical-align: middle;\n",
       "    }\n",
       "\n",
       "    .dataframe tbody tr th {\n",
       "        vertical-align: top;\n",
       "    }\n",
       "\n",
       "    .dataframe thead th {\n",
       "        text-align: right;\n",
       "    }\n",
       "</style>\n",
       "<table border=\"1\" class=\"dataframe\">\n",
       "  <thead>\n",
       "    <tr style=\"text-align: right;\">\n",
       "      <th></th>\n",
       "      <th>DER</th>\n",
       "      <th>Operating Profit Margin</th>\n",
       "      <th>Return on Assets</th>\n",
       "      <th>Sales Growth</th>\n",
       "      <th>Category</th>\n",
       "    </tr>\n",
       "  </thead>\n",
       "  <tbody>\n",
       "    <tr>\n",
       "      <th>count</th>\n",
       "      <td>3.000000e+00</td>\n",
       "      <td>3.000000e+00</td>\n",
       "      <td>3.000000</td>\n",
       "      <td>3.000000</td>\n",
       "      <td>0.0</td>\n",
       "    </tr>\n",
       "    <tr>\n",
       "      <th>mean</th>\n",
       "      <td>9.048202e+12</td>\n",
       "      <td>1.194284e+14</td>\n",
       "      <td>-34.184392</td>\n",
       "      <td>0.330193</td>\n",
       "      <td>NaN</td>\n",
       "    </tr>\n",
       "    <tr>\n",
       "      <th>std</th>\n",
       "      <td>1.567195e+13</td>\n",
       "      <td>2.068560e+14</td>\n",
       "      <td>89.215214</td>\n",
       "      <td>0.494247</td>\n",
       "      <td>NaN</td>\n",
       "    </tr>\n",
       "    <tr>\n",
       "      <th>min</th>\n",
       "      <td>5.448545e-03</td>\n",
       "      <td>-4.581904e+01</td>\n",
       "      <td>-135.437060</td>\n",
       "      <td>-0.014861</td>\n",
       "      <td>NaN</td>\n",
       "    </tr>\n",
       "    <tr>\n",
       "      <th>25%</th>\n",
       "      <td>3.421530e-01</td>\n",
       "      <td>-2.290861e+01</td>\n",
       "      <td>-67.717617</td>\n",
       "      <td>0.047089</td>\n",
       "      <td>NaN</td>\n",
       "    </tr>\n",
       "    <tr>\n",
       "      <th>50%</th>\n",
       "      <td>6.788575e-01</td>\n",
       "      <td>1.827037e-03</td>\n",
       "      <td>0.001827</td>\n",
       "      <td>0.109040</td>\n",
       "      <td>NaN</td>\n",
       "    </tr>\n",
       "    <tr>\n",
       "      <th>75%</th>\n",
       "      <td>1.357230e+13</td>\n",
       "      <td>1.791425e+14</td>\n",
       "      <td>16.441942</td>\n",
       "      <td>0.502719</td>\n",
       "      <td>NaN</td>\n",
       "    </tr>\n",
       "    <tr>\n",
       "      <th>max</th>\n",
       "      <td>2.714461e+13</td>\n",
       "      <td>3.582851e+14</td>\n",
       "      <td>32.882056</td>\n",
       "      <td>0.896399</td>\n",
       "      <td>NaN</td>\n",
       "    </tr>\n",
       "  </tbody>\n",
       "</table>\n",
       "</div>"
      ],
      "text/plain": [
       "                DER  Operating Profit Margin  Return on Assets  Sales Growth  \\\n",
       "count  3.000000e+00             3.000000e+00          3.000000      3.000000   \n",
       "mean   9.048202e+12             1.194284e+14        -34.184392      0.330193   \n",
       "std    1.567195e+13             2.068560e+14         89.215214      0.494247   \n",
       "min    5.448545e-03            -4.581904e+01       -135.437060     -0.014861   \n",
       "25%    3.421530e-01            -2.290861e+01        -67.717617      0.047089   \n",
       "50%    6.788575e-01             1.827037e-03          0.001827      0.109040   \n",
       "75%    1.357230e+13             1.791425e+14         16.441942      0.502719   \n",
       "max    2.714461e+13             3.582851e+14         32.882056      0.896399   \n",
       "\n",
       "       Category  \n",
       "count       0.0  \n",
       "mean        NaN  \n",
       "std         NaN  \n",
       "min         NaN  \n",
       "25%         NaN  \n",
       "50%         NaN  \n",
       "75%         NaN  \n",
       "max         NaN  "
      ]
     },
     "execution_count": 4,
     "metadata": {},
     "output_type": "execute_result"
    }
   ],
   "source": [
    "df0.describe()"
   ]
  },
  {
   "cell_type": "markdown",
   "id": "1539ca62",
   "metadata": {
    "papermill": {
     "duration": 0.030075,
     "end_time": "2022-04-15T09:31:46.391664",
     "exception": false,
     "start_time": "2022-04-15T09:31:46.361589",
     "status": "completed"
    },
    "tags": []
   },
   "source": [
    "**Data Clensing**"
   ]
  },
  {
   "cell_type": "code",
   "execution_count": 5,
   "id": "59ead702",
   "metadata": {
    "execution": {
     "iopub.execute_input": "2022-04-15T09:31:46.458778Z",
     "iopub.status.busy": "2022-04-15T09:31:46.457980Z",
     "iopub.status.idle": "2022-04-15T09:31:46.460619Z",
     "shell.execute_reply": "2022-04-15T09:31:46.461091Z",
     "shell.execute_reply.started": "2022-04-15T09:29:04.019267Z"
    },
    "papermill": {
     "duration": 0.039166,
     "end_time": "2022-04-15T09:31:46.461252",
     "exception": false,
     "start_time": "2022-04-15T09:31:46.422086",
     "status": "completed"
    },
    "tags": []
   },
   "outputs": [],
   "source": [
    "df0.drop([\"Emitten\",\"Category\"], axis=1, inplace=True)"
   ]
  },
  {
   "cell_type": "markdown",
   "id": "fe8eb9fa",
   "metadata": {
    "papermill": {
     "duration": 0.029835,
     "end_time": "2022-04-15T09:31:46.522159",
     "exception": false,
     "start_time": "2022-04-15T09:31:46.492324",
     "status": "completed"
    },
    "tags": []
   },
   "source": [
    "**Scatter Plot**"
   ]
  },
  {
   "cell_type": "code",
   "execution_count": 6,
   "id": "d77d2cf4",
   "metadata": {
    "execution": {
     "iopub.execute_input": "2022-04-15T09:31:46.586406Z",
     "iopub.status.busy": "2022-04-15T09:31:46.585542Z",
     "iopub.status.idle": "2022-04-15T09:31:48.287247Z",
     "shell.execute_reply": "2022-04-15T09:31:48.286627Z",
     "shell.execute_reply.started": "2022-04-15T09:29:04.026959Z"
    },
    "papermill": {
     "duration": 1.734928,
     "end_time": "2022-04-15T09:31:48.287384",
     "exception": false,
     "start_time": "2022-04-15T09:31:46.552456",
     "status": "completed"
    },
    "tags": []
   },
   "outputs": [
    {
     "data": {
      "text/plain": [
       "<Figure size 1080x1080 with 0 Axes>"
      ]
     },
     "metadata": {},
     "output_type": "display_data"
    },
    {
     "data": {
      "image/png": "[encoded data removed]",
      "text/plain": [
       "<Figure size 540x540 with 12 Axes>"
      ]
     },
     "metadata": {
      "needs_background": "light"
     },
     "output_type": "display_data"
    }
   ],
   "source": [
    "plt.figure(figsize=(15, 15))\n",
    "sns.pairplot(df0, vars = df0.columns[1:13]);"
   ]
  },
  {
   "cell_type": "markdown",
   "id": "1ccd956a",
   "metadata": {
    "papermill": {
     "duration": 0.033581,
     "end_time": "2022-04-15T09:31:48.353847",
     "exception": false,
     "start_time": "2022-04-15T09:31:48.320266",
     "status": "completed"
    },
    "tags": []
   },
   "source": [
    "**Clustering Load Data**"
   ]
  },
  {
   "cell_type": "code",
   "execution_count": 7,
   "id": "baeb22a5",
   "metadata": {
    "execution": {
     "iopub.execute_input": "2022-04-15T09:31:48.423692Z",
     "iopub.status.busy": "2022-04-15T09:31:48.422565Z",
     "iopub.status.idle": "2022-04-15T09:31:48.447318Z",
     "shell.execute_reply": "2022-04-15T09:31:48.447876Z",
     "shell.execute_reply.started": "2022-04-15T09:29:06.082648Z"
    },
    "papermill": {
     "duration": 0.061972,
     "end_time": "2022-04-15T09:31:48.448060",
     "exception": false,
     "start_time": "2022-04-15T09:31:48.386088",
     "status": "completed"
    },
    "tags": []
   },
   "outputs": [
    {
     "data": {
      "text/html": [
       "<div>\n",
       "<style scoped>\n",
       "    .dataframe tbody tr th:only-of-type {\n",
       "        vertical-align: middle;\n",
       "    }\n",
       "\n",
       "    .dataframe tbody tr th {\n",
       "        vertical-align: top;\n",
       "    }\n",
       "\n",
       "    .dataframe thead th {\n",
       "        text-align: right;\n",
       "    }\n",
       "</style>\n",
       "<table border=\"1\" class=\"dataframe\">\n",
       "  <thead>\n",
       "    <tr style=\"text-align: right;\">\n",
       "      <th></th>\n",
       "      <th>DER</th>\n",
       "      <th>Operating Profit Margin</th>\n",
       "      <th>Return on Assets</th>\n",
       "      <th>Sales Growth</th>\n",
       "      <th>Category</th>\n",
       "    </tr>\n",
       "  </thead>\n",
       "  <tbody>\n",
       "    <tr>\n",
       "      <th>count</th>\n",
       "      <td>3.000000e+00</td>\n",
       "      <td>3.000000e+00</td>\n",
       "      <td>3.000000</td>\n",
       "      <td>3.000000</td>\n",
       "      <td>0.0</td>\n",
       "    </tr>\n",
       "    <tr>\n",
       "      <th>mean</th>\n",
       "      <td>9.048202e+12</td>\n",
       "      <td>1.194284e+14</td>\n",
       "      <td>-34.184392</td>\n",
       "      <td>0.330193</td>\n",
       "      <td>NaN</td>\n",
       "    </tr>\n",
       "    <tr>\n",
       "      <th>std</th>\n",
       "      <td>1.567195e+13</td>\n",
       "      <td>2.068560e+14</td>\n",
       "      <td>89.215214</td>\n",
       "      <td>0.494247</td>\n",
       "      <td>NaN</td>\n",
       "    </tr>\n",
       "    <tr>\n",
       "      <th>min</th>\n",
       "      <td>5.448545e-03</td>\n",
       "      <td>-4.581904e+01</td>\n",
       "      <td>-135.437060</td>\n",
       "      <td>-0.014861</td>\n",
       "      <td>NaN</td>\n",
       "    </tr>\n",
       "    <tr>\n",
       "      <th>25%</th>\n",
       "      <td>3.421530e-01</td>\n",
       "      <td>-2.290861e+01</td>\n",
       "      <td>-67.717617</td>\n",
       "      <td>0.047089</td>\n",
       "      <td>NaN</td>\n",
       "    </tr>\n",
       "    <tr>\n",
       "      <th>50%</th>\n",
       "      <td>6.788575e-01</td>\n",
       "      <td>1.827037e-03</td>\n",
       "      <td>0.001827</td>\n",
       "      <td>0.109040</td>\n",
       "      <td>NaN</td>\n",
       "    </tr>\n",
       "    <tr>\n",
       "      <th>75%</th>\n",
       "      <td>1.357230e+13</td>\n",
       "      <td>1.791425e+14</td>\n",
       "      <td>16.441942</td>\n",
       "      <td>0.502719</td>\n",
       "      <td>NaN</td>\n",
       "    </tr>\n",
       "    <tr>\n",
       "      <th>max</th>\n",
       "      <td>2.714461e+13</td>\n",
       "      <td>3.582851e+14</td>\n",
       "      <td>32.882056</td>\n",
       "      <td>0.896399</td>\n",
       "      <td>NaN</td>\n",
       "    </tr>\n",
       "  </tbody>\n",
       "</table>\n",
       "</div>"
      ],
      "text/plain": [
       "                DER  Operating Profit Margin  Return on Assets  Sales Growth  \\\n",
       "count  3.000000e+00             3.000000e+00          3.000000      3.000000   \n",
       "mean   9.048202e+12             1.194284e+14        -34.184392      0.330193   \n",
       "std    1.567195e+13             2.068560e+14         89.215214      0.494247   \n",
       "min    5.448545e-03            -4.581904e+01       -135.437060     -0.014861   \n",
       "25%    3.421530e-01            -2.290861e+01        -67.717617      0.047089   \n",
       "50%    6.788575e-01             1.827037e-03          0.001827      0.109040   \n",
       "75%    1.357230e+13             1.791425e+14         16.441942      0.502719   \n",
       "max    2.714461e+13             3.582851e+14         32.882056      0.896399   \n",
       "\n",
       "       Category  \n",
       "count       0.0  \n",
       "mean        NaN  \n",
       "std         NaN  \n",
       "min         NaN  \n",
       "25%         NaN  \n",
       "50%         NaN  \n",
       "75%         NaN  \n",
       "max         NaN  "
      ]
     },
     "execution_count": 7,
     "metadata": {},
     "output_type": "execute_result"
    }
   ],
   "source": [
    "df0 = pd.read_csv('../input/datajasa-dataset/DataInput.csv')\n",
    "df1 = df0[['DER','Operating Profit Margin','Return on Assets','Sales Growth','Category']]\n",
    "df1.describe()"
   ]
  },
  {
   "cell_type": "code",
   "execution_count": 8,
   "id": "4d43fb59",
   "metadata": {
    "execution": {
     "iopub.execute_input": "2022-04-15T09:31:48.520434Z",
     "iopub.status.busy": "2022-04-15T09:31:48.517456Z",
     "iopub.status.idle": "2022-04-15T09:31:48.740143Z",
     "shell.execute_reply": "2022-04-15T09:31:48.739453Z",
     "shell.execute_reply.started": "2022-04-15T09:29:06.112389Z"
    },
    "papermill": {
     "duration": 0.25825,
     "end_time": "2022-04-15T09:31:48.740301",
     "exception": false,
     "start_time": "2022-04-15T09:31:48.482051",
     "status": "completed"
    },
    "tags": []
   },
   "outputs": [
    {
     "data": {
      "text/plain": [
       "<AxesSubplot:xlabel='Emitten', ylabel='Operating Profit Margin'>"
      ]
     },
     "execution_count": 8,
     "metadata": {},
     "output_type": "execute_result"
    },
    {
     "data": {
      "image/png": "[encoded data removed]",
      "text/plain": [
       "<Figure size 1296x288 with 1 Axes>"
      ]
     },
     "metadata": {
      "needs_background": "light"
     },
     "output_type": "display_data"
    }
   ],
   "source": [
    "plt.figure(figsize=(18, 4))\n",
    "plt.xticks(rotation=45)\n",
    "sns.scatterplot(x='Emitten', y='Operating Profit Margin', \n",
    "                data=df0, s=80)"
   ]
  },
  {
   "cell_type": "code",
   "execution_count": 9,
   "id": "c8964cff",
   "metadata": {
    "execution": {
     "iopub.execute_input": "2022-04-15T09:31:48.835770Z",
     "iopub.status.busy": "2022-04-15T09:31:48.834662Z",
     "iopub.status.idle": "2022-04-15T09:31:49.023533Z",
     "shell.execute_reply": "2022-04-15T09:31:49.023003Z",
     "shell.execute_reply.started": "2022-04-15T09:29:06.348112Z"
    },
    "papermill": {
     "duration": 0.247855,
     "end_time": "2022-04-15T09:31:49.023686",
     "exception": false,
     "start_time": "2022-04-15T09:31:48.775831",
     "status": "completed"
    },
    "tags": []
   },
   "outputs": [
    {
     "data": {
      "text/plain": [
       "<AxesSubplot:xlabel='Emitten', ylabel='DER'>"
      ]
     },
     "execution_count": 9,
     "metadata": {},
     "output_type": "execute_result"
    },
    {
     "data": {
      "image/png": "[encoded data removed]",
      "text/plain": [
       "<Figure size 1296x288 with 1 Axes>"
      ]
     },
     "metadata": {
      "needs_background": "light"
     },
     "output_type": "display_data"
    }
   ],
   "source": [
    "plt.figure(figsize=(18, 4))\n",
    "plt.xticks(rotation=45)\n",
    "sns.scatterplot(x='Emitten', y='DER', \n",
    "                data=df0, s=80)"
   ]
  },
  {
   "cell_type": "code",
   "execution_count": 10,
   "id": "f07654a3",
   "metadata": {
    "execution": {
     "iopub.execute_input": "2022-04-15T09:31:49.239613Z",
     "iopub.status.busy": "2022-04-15T09:31:49.238065Z",
     "iopub.status.idle": "2022-04-15T09:31:49.427305Z",
     "shell.execute_reply": "2022-04-15T09:31:49.426525Z",
     "shell.execute_reply.started": "2022-04-15T09:29:06.528183Z"
    },
    "papermill": {
     "duration": 0.368495,
     "end_time": "2022-04-15T09:31:49.427461",
     "exception": false,
     "start_time": "2022-04-15T09:31:49.058966",
     "status": "completed"
    },
    "tags": []
   },
   "outputs": [
    {
     "data": {
      "text/plain": [
       "<AxesSubplot:xlabel='Emitten', ylabel='Sales Growth'>"
      ]
     },
     "execution_count": 10,
     "metadata": {},
     "output_type": "execute_result"
    },
    {
     "data": {
      "image/png": "[encoded data removed]",
      "text/plain": [
       "<Figure size 1296x288 with 1 Axes>"
      ]
     },
     "metadata": {
      "needs_background": "light"
     },
     "output_type": "display_data"
    }
   ],
   "source": [
    "plt.figure(figsize=(18, 4))\n",
    "plt.xticks(rotation=45)\n",
    "sns.scatterplot(x='Emitten', y='Sales Growth', \n",
    "                data=df0, s=80)"
   ]
  },
  {
   "cell_type": "code",
   "execution_count": 11,
   "id": "d257cd9f",
   "metadata": {
    "execution": {
     "iopub.execute_input": "2022-04-15T09:31:49.509433Z",
     "iopub.status.busy": "2022-04-15T09:31:49.508830Z",
     "iopub.status.idle": "2022-04-15T09:31:49.512821Z",
     "shell.execute_reply": "2022-04-15T09:31:49.512354Z",
     "shell.execute_reply.started": "2022-04-15T09:29:06.701261Z"
    },
    "papermill": {
     "duration": 0.048066,
     "end_time": "2022-04-15T09:31:49.512962",
     "exception": false,
     "start_time": "2022-04-15T09:31:49.464896",
     "status": "completed"
    },
    "tags": []
   },
   "outputs": [
    {
     "name": "stdout",
     "output_type": "stream",
     "text": [
      "Jumlah baris sebelum memfilter outlier: 3\n",
      "Jumlah baris setelah memfilter outlier: 3\n"
     ]
    }
   ],
   "source": [
    "print(f'Jumlah baris sebelum memfilter outlier: {len(df1)}')\n",
    "\n",
    "filtered_entries = np.array([False] * len(df1))\n",
    "for col in ['Operating Profit Margin']:\n",
    "    zscore = abs(stats.zscore(df1[col]))\n",
    "    filtered_entries = (zscore < 3) | filtered_entries\n",
    "    \n",
    "df1 = df1[filtered_entries]\n",
    "\n",
    "print(f'Jumlah baris setelah memfilter outlier: {len(df1)}')"
   ]
  },
  {
   "cell_type": "code",
   "execution_count": 12,
   "id": "6c018aab",
   "metadata": {
    "execution": {
     "iopub.execute_input": "2022-04-15T09:31:49.609630Z",
     "iopub.status.busy": "2022-04-15T09:31:49.591872Z",
     "iopub.status.idle": "2022-04-15T09:31:49.613401Z",
     "shell.execute_reply": "2022-04-15T09:31:49.612883Z",
     "shell.execute_reply.started": "2022-04-15T09:29:06.713062Z"
    },
    "papermill": {
     "duration": 0.064286,
     "end_time": "2022-04-15T09:31:49.613560",
     "exception": false,
     "start_time": "2022-04-15T09:31:49.549274",
     "status": "completed"
    },
    "tags": []
   },
   "outputs": [
    {
     "data": {
      "text/html": [
       "<div>\n",
       "<style scoped>\n",
       "    .dataframe tbody tr th:only-of-type {\n",
       "        vertical-align: middle;\n",
       "    }\n",
       "\n",
       "    .dataframe tbody tr th {\n",
       "        vertical-align: top;\n",
       "    }\n",
       "\n",
       "    .dataframe thead th {\n",
       "        text-align: right;\n",
       "    }\n",
       "</style>\n",
       "<table border=\"1\" class=\"dataframe\">\n",
       "  <thead>\n",
       "    <tr style=\"text-align: right;\">\n",
       "      <th></th>\n",
       "      <th>DER</th>\n",
       "      <th>Operating Profit Margin</th>\n",
       "      <th>Return on Assets</th>\n",
       "      <th>Sales Growth</th>\n",
       "      <th>Category</th>\n",
       "    </tr>\n",
       "  </thead>\n",
       "  <tbody>\n",
       "    <tr>\n",
       "      <th>count</th>\n",
       "      <td>3.000000e+00</td>\n",
       "      <td>3.000000e+00</td>\n",
       "      <td>3.000000</td>\n",
       "      <td>3.000000</td>\n",
       "      <td>0.0</td>\n",
       "    </tr>\n",
       "    <tr>\n",
       "      <th>mean</th>\n",
       "      <td>9.048202e+12</td>\n",
       "      <td>1.194284e+14</td>\n",
       "      <td>-34.184392</td>\n",
       "      <td>0.330193</td>\n",
       "      <td>NaN</td>\n",
       "    </tr>\n",
       "    <tr>\n",
       "      <th>std</th>\n",
       "      <td>1.567195e+13</td>\n",
       "      <td>2.068560e+14</td>\n",
       "      <td>89.215214</td>\n",
       "      <td>0.494247</td>\n",
       "      <td>NaN</td>\n",
       "    </tr>\n",
       "    <tr>\n",
       "      <th>min</th>\n",
       "      <td>5.448545e-03</td>\n",
       "      <td>-4.581904e+01</td>\n",
       "      <td>-135.437060</td>\n",
       "      <td>-0.014861</td>\n",
       "      <td>NaN</td>\n",
       "    </tr>\n",
       "    <tr>\n",
       "      <th>25%</th>\n",
       "      <td>3.421530e-01</td>\n",
       "      <td>-2.290861e+01</td>\n",
       "      <td>-67.717617</td>\n",
       "      <td>0.047089</td>\n",
       "      <td>NaN</td>\n",
       "    </tr>\n",
       "    <tr>\n",
       "      <th>50%</th>\n",
       "      <td>6.788575e-01</td>\n",
       "      <td>1.827037e-03</td>\n",
       "      <td>0.001827</td>\n",
       "      <td>0.109040</td>\n",
       "      <td>NaN</td>\n",
       "    </tr>\n",
       "    <tr>\n",
       "      <th>75%</th>\n",
       "      <td>1.357230e+13</td>\n",
       "      <td>1.791425e+14</td>\n",
       "      <td>16.441942</td>\n",
       "      <td>0.502719</td>\n",
       "      <td>NaN</td>\n",
       "    </tr>\n",
       "    <tr>\n",
       "      <th>max</th>\n",
       "      <td>2.714461e+13</td>\n",
       "      <td>3.582851e+14</td>\n",
       "      <td>32.882056</td>\n",
       "      <td>0.896399</td>\n",
       "      <td>NaN</td>\n",
       "    </tr>\n",
       "  </tbody>\n",
       "</table>\n",
       "</div>"
      ],
      "text/plain": [
       "                DER  Operating Profit Margin  Return on Assets  Sales Growth  \\\n",
       "count  3.000000e+00             3.000000e+00          3.000000      3.000000   \n",
       "mean   9.048202e+12             1.194284e+14        -34.184392      0.330193   \n",
       "std    1.567195e+13             2.068560e+14         89.215214      0.494247   \n",
       "min    5.448545e-03            -4.581904e+01       -135.437060     -0.014861   \n",
       "25%    3.421530e-01            -2.290861e+01        -67.717617      0.047089   \n",
       "50%    6.788575e-01             1.827037e-03          0.001827      0.109040   \n",
       "75%    1.357230e+13             1.791425e+14         16.441942      0.502719   \n",
       "max    2.714461e+13             3.582851e+14         32.882056      0.896399   \n",
       "\n",
       "       Category  \n",
       "count       0.0  \n",
       "mean        NaN  \n",
       "std         NaN  \n",
       "min         NaN  \n",
       "25%         NaN  \n",
       "50%         NaN  \n",
       "75%         NaN  \n",
       "max         NaN  "
      ]
     },
     "execution_count": 12,
     "metadata": {},
     "output_type": "execute_result"
    }
   ],
   "source": [
    "df1.describe()"
   ]
  },
  {
   "cell_type": "markdown",
   "id": "24599869",
   "metadata": {
    "papermill": {
     "duration": 0.035674,
     "end_time": "2022-04-15T09:31:49.685853",
     "exception": false,
     "start_time": "2022-04-15T09:31:49.650179",
     "status": "completed"
    },
    "tags": []
   },
   "source": [
    "**Standarisasi Fitur**"
   ]
  },
  {
   "cell_type": "code",
   "execution_count": 13,
   "id": "bc34d83a",
   "metadata": {
    "execution": {
     "iopub.execute_input": "2022-04-15T09:31:49.764344Z",
     "iopub.status.busy": "2022-04-15T09:31:49.763630Z",
     "iopub.status.idle": "2022-04-15T09:31:49.925532Z",
     "shell.execute_reply": "2022-04-15T09:31:49.924962Z",
     "shell.execute_reply.started": "2022-04-15T09:29:06.750148Z"
    },
    "papermill": {
     "duration": 0.20371,
     "end_time": "2022-04-15T09:31:49.925669",
     "exception": false,
     "start_time": "2022-04-15T09:31:49.721959",
     "status": "completed"
    },
    "tags": []
   },
   "outputs": [
    {
     "data": {
      "text/html": [
       "<div>\n",
       "<style scoped>\n",
       "    .dataframe tbody tr th:only-of-type {\n",
       "        vertical-align: middle;\n",
       "    }\n",
       "\n",
       "    .dataframe tbody tr th {\n",
       "        vertical-align: top;\n",
       "    }\n",
       "\n",
       "    .dataframe thead th {\n",
       "        text-align: right;\n",
       "    }\n",
       "</style>\n",
       "<table border=\"1\" class=\"dataframe\">\n",
       "  <thead>\n",
       "    <tr style=\"text-align: right;\">\n",
       "      <th></th>\n",
       "      <th>DER</th>\n",
       "      <th>Operating Profit Margin</th>\n",
       "      <th>Sales Growth</th>\n",
       "    </tr>\n",
       "  </thead>\n",
       "  <tbody>\n",
       "    <tr>\n",
       "      <th>count</th>\n",
       "      <td>3.000000e+00</td>\n",
       "      <td>3.000000e+00</td>\n",
       "      <td>3.000000</td>\n",
       "    </tr>\n",
       "    <tr>\n",
       "      <th>mean</th>\n",
       "      <td>3.700743e-17</td>\n",
       "      <td>-1.110223e-16</td>\n",
       "      <td>0.000000</td>\n",
       "    </tr>\n",
       "    <tr>\n",
       "      <th>std</th>\n",
       "      <td>1.224745e+00</td>\n",
       "      <td>1.224745e+00</td>\n",
       "      <td>1.224745</td>\n",
       "    </tr>\n",
       "    <tr>\n",
       "      <th>min</th>\n",
       "      <td>-7.071068e-01</td>\n",
       "      <td>-7.071068e-01</td>\n",
       "      <td>-0.855042</td>\n",
       "    </tr>\n",
       "    <tr>\n",
       "      <th>25%</th>\n",
       "      <td>-7.071068e-01</td>\n",
       "      <td>-7.071068e-01</td>\n",
       "      <td>-0.701530</td>\n",
       "    </tr>\n",
       "    <tr>\n",
       "      <th>50%</th>\n",
       "      <td>-7.071068e-01</td>\n",
       "      <td>-7.071068e-01</td>\n",
       "      <td>-0.548018</td>\n",
       "    </tr>\n",
       "    <tr>\n",
       "      <th>75%</th>\n",
       "      <td>3.535534e-01</td>\n",
       "      <td>3.535534e-01</td>\n",
       "      <td>0.427521</td>\n",
       "    </tr>\n",
       "    <tr>\n",
       "      <th>max</th>\n",
       "      <td>1.414214e+00</td>\n",
       "      <td>1.414214e+00</td>\n",
       "      <td>1.403060</td>\n",
       "    </tr>\n",
       "  </tbody>\n",
       "</table>\n",
       "</div>"
      ],
      "text/plain": [
       "                DER  Operating Profit Margin  Sales Growth\n",
       "count  3.000000e+00             3.000000e+00      3.000000\n",
       "mean   3.700743e-17            -1.110223e-16      0.000000\n",
       "std    1.224745e+00             1.224745e+00      1.224745\n",
       "min   -7.071068e-01            -7.071068e-01     -0.855042\n",
       "25%   -7.071068e-01            -7.071068e-01     -0.701530\n",
       "50%   -7.071068e-01            -7.071068e-01     -0.548018\n",
       "75%    3.535534e-01             3.535534e-01      0.427521\n",
       "max    1.414214e+00             1.414214e+00      1.403060"
      ]
     },
     "execution_count": 13,
     "metadata": {},
     "output_type": "execute_result"
    }
   ],
   "source": [
    "feats = ['DER','Operating Profit Margin','Sales Growth']\n",
    "X = df1[feats].values\n",
    "y = df1['Category'].values\n",
    "\n",
    "from sklearn.preprocessing import StandardScaler\n",
    "X_std = StandardScaler().fit_transform(X)\n",
    "new_df = pd.DataFrame(data = X_std, columns = feats)\n",
    "new_df.describe()"
   ]
  },
  {
   "cell_type": "code",
   "execution_count": 14,
   "id": "e05341c2",
   "metadata": {
    "execution": {
     "iopub.execute_input": "2022-04-15T09:31:50.005747Z",
     "iopub.status.busy": "2022-04-15T09:31:50.005058Z",
     "iopub.status.idle": "2022-04-15T09:31:50.281216Z",
     "shell.execute_reply": "2022-04-15T09:31:50.280679Z",
     "shell.execute_reply.started": "2022-04-15T09:29:06.778256Z"
    },
    "papermill": {
     "duration": 0.31777,
     "end_time": "2022-04-15T09:31:50.281346",
     "exception": false,
     "start_time": "2022-04-15T09:31:49.963576",
     "status": "completed"
    },
    "tags": []
   },
   "outputs": [],
   "source": [
    "from sklearn.cluster import KMeans\n",
    "wcss=[]"
   ]
  },
  {
   "cell_type": "code",
   "execution_count": 15,
   "id": "3ef38b76",
   "metadata": {
    "execution": {
     "iopub.execute_input": "2022-04-15T09:31:50.360727Z",
     "iopub.status.busy": "2022-04-15T09:31:50.358082Z",
     "iopub.status.idle": "2022-04-15T09:31:50.364320Z",
     "shell.execute_reply": "2022-04-15T09:31:50.363807Z",
     "shell.execute_reply.started": "2022-04-15T09:29:06.790784Z"
    },
    "papermill": {
     "duration": 0.046451,
     "end_time": "2022-04-15T09:31:50.364458",
     "exception": false,
     "start_time": "2022-04-15T09:31:50.318007",
     "status": "completed"
    },
    "tags": []
   },
   "outputs": [
    {
     "data": {
      "text/plain": [
       "(3, 6)"
      ]
     },
     "execution_count": 15,
     "metadata": {},
     "output_type": "execute_result"
    }
   ],
   "source": [
    "df0.shape"
   ]
  },
  {
   "cell_type": "markdown",
   "id": "f2412f1e",
   "metadata": {
    "papermill": {
     "duration": 0.037429,
     "end_time": "2022-04-15T09:31:50.438749",
     "exception": false,
     "start_time": "2022-04-15T09:31:50.401320",
     "status": "completed"
    },
    "tags": []
   },
   "source": [
    "**K Means**"
   ]
  },
  {
   "cell_type": "code",
   "execution_count": 16,
   "id": "0aacb480",
   "metadata": {
    "execution": {
     "iopub.execute_input": "2022-04-15T09:31:50.526643Z",
     "iopub.status.busy": "2022-04-15T09:31:50.520139Z",
     "iopub.status.idle": "2022-04-15T09:31:50.926801Z",
     "shell.execute_reply": "2022-04-15T09:31:50.926309Z",
     "shell.execute_reply.started": "2022-04-15T09:29:06.804849Z"
    },
    "papermill": {
     "duration": 0.451125,
     "end_time": "2022-04-15T09:31:50.926959",
     "exception": false,
     "start_time": "2022-04-15T09:31:50.475834",
     "status": "completed"
    },
    "tags": []
   },
   "outputs": [
    {
     "data": {
      "text/plain": [
       "[<matplotlib.lines.Line2D at 0x7f4ce83ac650>]"
      ]
     },
     "execution_count": 16,
     "metadata": {},
     "output_type": "execute_result"
    },
    {
     "data": {
      "image/png": "[encoded data removed]",
      "text/plain": [
       "<Figure size 864x432 with 1 Axes>"
      ]
     },
     "metadata": {
      "needs_background": "light"
     },
     "output_type": "display_data"
    }
   ],
   "source": [
    "from sklearn.cluster import KMeans\n",
    "inertia = []\n",
    "\n",
    "for i in range(1, 4):\n",
    "  kmeans = KMeans(n_clusters=i, init='k-means++', max_iter=300, n_init=10, random_state=0)\n",
    "  kmeans.fit(new_df.values)\n",
    "  inertia.append(kmeans.inertia_)\n",
    "\n",
    "plt.figure(figsize=(12, 6))\n",
    "plt.plot(inertia) #Elbow Method"
   ]
  },
  {
   "cell_type": "markdown",
   "id": "2437c6e9",
   "metadata": {
    "papermill": {
     "duration": 0.038031,
     "end_time": "2022-04-15T09:31:51.005734",
     "exception": false,
     "start_time": "2022-04-15T09:31:50.967703",
     "status": "completed"
    },
    "tags": []
   },
   "source": [
    "**Memilih Jumlah Cluster**"
   ]
  },
  {
   "cell_type": "code",
   "execution_count": 17,
   "id": "47d04dba",
   "metadata": {
    "execution": {
     "iopub.execute_input": "2022-04-15T09:31:51.089791Z",
     "iopub.status.busy": "2022-04-15T09:31:51.088816Z",
     "iopub.status.idle": "2022-04-15T09:31:51.107429Z",
     "shell.execute_reply": "2022-04-15T09:31:51.106789Z",
     "shell.execute_reply.started": "2022-04-15T09:29:07.017814Z"
    },
    "papermill": {
     "duration": 0.062639,
     "end_time": "2022-04-15T09:31:51.107600",
     "exception": false,
     "start_time": "2022-04-15T09:31:51.044961",
     "status": "completed"
    },
    "tags": []
   },
   "outputs": [
    {
     "data": {
      "text/plain": [
       "KMeans(n_clusters=1, random_state=0)"
      ]
     },
     "execution_count": 17,
     "metadata": {},
     "output_type": "execute_result"
    }
   ],
   "source": [
    "from sklearn.cluster import KMeans\n",
    "kmeans = KMeans(n_clusters=1, init='k-means++', max_iter=300, n_init=10, random_state=0)\n",
    "kmeans.fit(new_df.values)"
   ]
  },
  {
   "cell_type": "code",
   "execution_count": 18,
   "id": "2b6c7b88",
   "metadata": {
    "execution": {
     "iopub.execute_input": "2022-04-15T09:31:51.191939Z",
     "iopub.status.busy": "2022-04-15T09:31:51.189453Z",
     "iopub.status.idle": "2022-04-15T09:31:51.194893Z",
     "shell.execute_reply": "2022-04-15T09:31:51.194413Z",
     "shell.execute_reply.started": "2022-04-15T09:29:07.040066Z"
    },
    "papermill": {
     "duration": 0.048185,
     "end_time": "2022-04-15T09:31:51.195025",
     "exception": false,
     "start_time": "2022-04-15T09:31:51.146840",
     "status": "completed"
    },
    "tags": []
   },
   "outputs": [],
   "source": [
    "new_df['target'] = y\n",
    "new_df['fit'] = kmeans.labels_"
   ]
  },
  {
   "cell_type": "markdown",
   "id": "7e9d789b",
   "metadata": {
    "papermill": {
     "duration": 0.038038,
     "end_time": "2022-04-15T09:31:51.271312",
     "exception": false,
     "start_time": "2022-04-15T09:31:51.233274",
     "status": "completed"
    },
    "tags": []
   },
   "source": [
    "**Plot Cluster**"
   ]
  },
  {
   "cell_type": "code",
   "execution_count": 19,
   "id": "0ce05729",
   "metadata": {
    "execution": {
     "iopub.execute_input": "2022-04-15T09:31:51.377780Z",
     "iopub.status.busy": "2022-04-15T09:31:51.373987Z",
     "iopub.status.idle": "2022-04-15T09:31:51.563673Z",
     "shell.execute_reply": "2022-04-15T09:31:51.563173Z",
     "shell.execute_reply.started": "2022-04-15T09:29:07.047683Z"
    },
    "papermill": {
     "duration": 0.254481,
     "end_time": "2022-04-15T09:31:51.563811",
     "exception": false,
     "start_time": "2022-04-15T09:31:51.309330",
     "status": "completed"
    },
    "tags": []
   },
   "outputs": [
    {
     "data": {
      "image/png": "[encoded data removed]",
      "text/plain": [
       "<Figure size 576x576 with 1 Axes>"
      ]
     },
     "metadata": {
      "needs_background": "light"
     },
     "output_type": "display_data"
    }
   ],
   "source": [
    "plt.rcParams[\"figure.figsize\"] = (8, 8)\n",
    "sns.scatterplot(x='DER', y='Operating Profit Margin', hue=new_df.target.to_list(), data=new_df);"
   ]
  },
  {
   "cell_type": "code",
   "execution_count": 20,
   "id": "06ffbb75",
   "metadata": {
    "execution": {
     "iopub.execute_input": "2022-04-15T09:31:51.651820Z",
     "iopub.status.busy": "2022-04-15T09:31:51.651215Z",
     "iopub.status.idle": "2022-04-15T09:31:51.660239Z",
     "shell.execute_reply": "2022-04-15T09:31:51.659759Z",
     "shell.execute_reply.started": "2022-04-15T09:29:07.230049Z"
    },
    "papermill": {
     "duration": 0.056566,
     "end_time": "2022-04-15T09:31:51.660378",
     "exception": false,
     "start_time": "2022-04-15T09:31:51.603812",
     "status": "completed"
    },
    "tags": []
   },
   "outputs": [
    {
     "data": {
      "text/html": [
       "<div>\n",
       "<style scoped>\n",
       "    .dataframe tbody tr th:only-of-type {\n",
       "        vertical-align: middle;\n",
       "    }\n",
       "\n",
       "    .dataframe tbody tr th {\n",
       "        vertical-align: top;\n",
       "    }\n",
       "\n",
       "    .dataframe thead th {\n",
       "        text-align: right;\n",
       "    }\n",
       "</style>\n",
       "<table border=\"1\" class=\"dataframe\">\n",
       "  <thead>\n",
       "    <tr style=\"text-align: right;\">\n",
       "      <th></th>\n",
       "      <th>DER</th>\n",
       "      <th>Operating Profit Margin</th>\n",
       "      <th>Sales Growth</th>\n",
       "      <th>target</th>\n",
       "      <th>fit</th>\n",
       "    </tr>\n",
       "  </thead>\n",
       "  <tbody>\n",
       "    <tr>\n",
       "      <th>0</th>\n",
       "      <td>1.414214</td>\n",
       "      <td>1.414214</td>\n",
       "      <td>-0.855042</td>\n",
       "      <td>NaN</td>\n",
       "      <td>0</td>\n",
       "    </tr>\n",
       "    <tr>\n",
       "      <th>1</th>\n",
       "      <td>-0.707107</td>\n",
       "      <td>-0.707107</td>\n",
       "      <td>-0.548018</td>\n",
       "      <td>NaN</td>\n",
       "      <td>0</td>\n",
       "    </tr>\n",
       "    <tr>\n",
       "      <th>2</th>\n",
       "      <td>-0.707107</td>\n",
       "      <td>-0.707107</td>\n",
       "      <td>1.403060</td>\n",
       "      <td>NaN</td>\n",
       "      <td>0</td>\n",
       "    </tr>\n",
       "  </tbody>\n",
       "</table>\n",
       "</div>"
      ],
      "text/plain": [
       "        DER  Operating Profit Margin  Sales Growth  target  fit\n",
       "0  1.414214                 1.414214     -0.855042     NaN    0\n",
       "1 -0.707107                -0.707107     -0.548018     NaN    0\n",
       "2 -0.707107                -0.707107      1.403060     NaN    0"
      ]
     },
     "execution_count": 20,
     "metadata": {},
     "output_type": "execute_result"
    }
   ],
   "source": [
    "new_df.head(5)"
   ]
  },
  {
   "cell_type": "code",
   "execution_count": 21,
   "id": "e7fe73f4",
   "metadata": {
    "execution": {
     "iopub.execute_input": "2022-04-15T09:31:51.755446Z",
     "iopub.status.busy": "2022-04-15T09:31:51.754806Z",
     "iopub.status.idle": "2022-04-15T09:31:51.765898Z",
     "shell.execute_reply": "2022-04-15T09:31:51.765347Z",
     "shell.execute_reply.started": "2022-04-15T09:29:07.243607Z"
    },
    "papermill": {
     "duration": 0.064334,
     "end_time": "2022-04-15T09:31:51.766047",
     "exception": false,
     "start_time": "2022-04-15T09:31:51.701713",
     "status": "completed"
    },
    "tags": []
   },
   "outputs": [
    {
     "data": {
      "text/html": [
       "<div>\n",
       "<style scoped>\n",
       "    .dataframe tbody tr th:only-of-type {\n",
       "        vertical-align: middle;\n",
       "    }\n",
       "\n",
       "    .dataframe tbody tr th {\n",
       "        vertical-align: top;\n",
       "    }\n",
       "\n",
       "    .dataframe thead th {\n",
       "        text-align: right;\n",
       "    }\n",
       "</style>\n",
       "<table border=\"1\" class=\"dataframe\">\n",
       "  <thead>\n",
       "    <tr style=\"text-align: right;\">\n",
       "      <th></th>\n",
       "      <th>Category</th>\n",
       "      <th>DER</th>\n",
       "      <th>Operating Profit Margin</th>\n",
       "      <th>Sales Growth</th>\n",
       "      <th>target</th>\n",
       "      <th>fit</th>\n",
       "    </tr>\n",
       "  </thead>\n",
       "  <tbody>\n",
       "    <tr>\n",
       "      <th>0</th>\n",
       "      <td>2</td>\n",
       "      <td>1.414214</td>\n",
       "      <td>1.414214</td>\n",
       "      <td>-0.855042</td>\n",
       "      <td>NaN</td>\n",
       "      <td>0</td>\n",
       "    </tr>\n",
       "    <tr>\n",
       "      <th>1</th>\n",
       "      <td>2</td>\n",
       "      <td>-0.707107</td>\n",
       "      <td>-0.707107</td>\n",
       "      <td>-0.548018</td>\n",
       "      <td>NaN</td>\n",
       "      <td>0</td>\n",
       "    </tr>\n",
       "    <tr>\n",
       "      <th>2</th>\n",
       "      <td>2</td>\n",
       "      <td>-0.707107</td>\n",
       "      <td>-0.707107</td>\n",
       "      <td>1.403060</td>\n",
       "      <td>NaN</td>\n",
       "      <td>0</td>\n",
       "    </tr>\n",
       "  </tbody>\n",
       "</table>\n",
       "</div>"
      ],
      "text/plain": [
       "   Category       DER  Operating Profit Margin  Sales Growth  target  fit\n",
       "0         2  1.414214                 1.414214     -0.855042     NaN    0\n",
       "1         2 -0.707107                -0.707107     -0.548018     NaN    0\n",
       "2         2 -0.707107                -0.707107      1.403060     NaN    0"
      ]
     },
     "execution_count": 21,
     "metadata": {},
     "output_type": "execute_result"
    }
   ],
   "source": [
    "new_df.insert(0,\"Category\",np.nan,True)\n",
    "new_df.loc[new_df['fit'] == 0, 'Category'] = 2\n",
    "new_df.loc[new_df['fit'] == 1, 'Category'] = 4\n",
    "new_df.loc[new_df['fit'] == 2, 'Category'] = 1\n",
    "new_df.loc[new_df['fit'] == 3, 'Category'] = 0\n",
    "new_df.loc[new_df['fit'] == 4, 'Category'] = 3\n",
    "new_df['Category'] = new_df['Category'].astype(int)\n",
    "new_df.head(5)"
   ]
  },
  {
   "cell_type": "code",
   "execution_count": 22,
   "id": "a144a6c6",
   "metadata": {
    "execution": {
     "iopub.execute_input": "2022-04-15T09:31:51.861608Z",
     "iopub.status.busy": "2022-04-15T09:31:51.852811Z",
     "iopub.status.idle": "2022-04-15T09:31:51.865000Z",
     "shell.execute_reply": "2022-04-15T09:31:51.865408Z",
     "shell.execute_reply.started": "2022-04-15T09:29:07.266929Z"
    },
    "papermill": {
     "duration": 0.059476,
     "end_time": "2022-04-15T09:31:51.865607",
     "exception": false,
     "start_time": "2022-04-15T09:31:51.806131",
     "status": "completed"
    },
    "tags": []
   },
   "outputs": [
    {
     "name": "stdout",
     "output_type": "stream",
     "text": [
      "<class 'pandas.core.frame.DataFrame'>\n",
      "RangeIndex: 3 entries, 0 to 2\n",
      "Data columns (total 4 columns):\n",
      " #   Column                         Non-Null Count  Dtype  \n",
      "---  ------                         --------------  -----  \n",
      " 0   Category                       3 non-null      int64  \n",
      " 1   DER (St.)                      3 non-null      float64\n",
      " 2   Operating Profit Margin (St.)  3 non-null      float64\n",
      " 3   Sales Growth (St.)             3 non-null      float64\n",
      "dtypes: float64(3), int64(1)\n",
      "memory usage: 224.0 bytes\n"
     ]
    }
   ],
   "source": [
    "new_df.drop([\"fit\",\"target\"], axis=1, inplace=True)\n",
    "new_df.columns = ['Category','DER (St.)','Operating Profit Margin (St.)', 'Sales Growth (St.)']\n",
    "new_df.info()"
   ]
  },
  {
   "cell_type": "code",
   "execution_count": 23,
   "id": "050ca705",
   "metadata": {
    "execution": {
     "iopub.execute_input": "2022-04-15T09:31:51.952878Z",
     "iopub.status.busy": "2022-04-15T09:31:51.952197Z",
     "iopub.status.idle": "2022-04-15T09:31:52.348388Z",
     "shell.execute_reply": "2022-04-15T09:31:52.348863Z",
     "shell.execute_reply.started": "2022-04-15T09:29:07.288302Z"
    },
    "papermill": {
     "duration": 0.441694,
     "end_time": "2022-04-15T09:31:52.349024",
     "exception": false,
     "start_time": "2022-04-15T09:31:51.907330",
     "status": "completed"
    },
    "tags": []
   },
   "outputs": [
    {
     "data": {
      "image/png": "[encoded data removed]",
      "text/plain": [
       "<Figure size 576x576 with 1 Axes>"
      ]
     },
     "metadata": {
      "needs_background": "light"
     },
     "output_type": "display_data"
    }
   ],
   "source": [
    "from mpl_toolkits.mplot3d import Axes3D\n",
    "\n",
    "fig = plt.figure()\n",
    "ax = fig.add_subplot(111, projection = '3d')\n",
    "\n",
    "\n",
    "x = new_df['DER (St.)']\n",
    "y = new_df['Operating Profit Margin (St.)']\n",
    "z = new_df['Sales Growth (St.)']\n",
    "\n",
    "ax.set_xlabel(\"DER (St.)\")\n",
    "ax.set_ylabel(\"Operating Profit Margin (St.)\")\n",
    "ax.set_zlabel(\"Sales Growth (St.)\")\n",
    "\n",
    "cmap = ListedColormap(sns.color_palette(\"RdYlGn\", 256).as_hex())\n",
    "\n",
    "sc = ax.scatter(x, y, z, s=40, c=new_df['Category'], marker='o', cmap=cmap, alpha=1)\n",
    "plt.legend(*sc.legend_elements(), bbox_to_anchor=(1.05, 1), loc=2)\n",
    "\n",
    "plt.show()"
   ]
  },
  {
   "cell_type": "markdown",
   "id": "ce21510f",
   "metadata": {
    "papermill": {
     "duration": 0.042212,
     "end_time": "2022-04-15T09:31:52.434488",
     "exception": false,
     "start_time": "2022-04-15T09:31:52.392276",
     "status": "completed"
    },
    "tags": []
   },
   "source": [
    "**Melihat X dan Y**"
   ]
  },
  {
   "cell_type": "code",
   "execution_count": 24,
   "id": "b4198223",
   "metadata": {
    "execution": {
     "iopub.execute_input": "2022-04-15T09:31:52.522431Z",
     "iopub.status.busy": "2022-04-15T09:31:52.521731Z",
     "iopub.status.idle": "2022-04-15T09:31:52.747888Z",
     "shell.execute_reply": "2022-04-15T09:31:52.748331Z",
     "shell.execute_reply.started": "2022-04-15T09:29:07.493331Z"
    },
    "papermill": {
     "duration": 0.271648,
     "end_time": "2022-04-15T09:31:52.748519",
     "exception": false,
     "start_time": "2022-04-15T09:31:52.476871",
     "status": "completed"
    },
    "tags": []
   },
   "outputs": [
    {
     "data": {
      "image/png": "[encoded data removed]",
      "text/plain": [
       "<Figure size 576x576 with 1 Axes>"
      ]
     },
     "metadata": {
      "needs_background": "light"
     },
     "output_type": "display_data"
    }
   ],
   "source": [
    "# color palette as dictionary\n",
    "palette = {0:\"tab:red\",\n",
    "           1:\"tab:orange\", \n",
    "           2:\"yellow\",\n",
    "           3:\"lime\",\n",
    "           4:\"darkgreen\"}\n",
    "\n",
    "sns.scatterplot(x='DER (St.)', y='Sales Growth (St.)', \n",
    "                hue='Category', data=new_df, s=80,\n",
    "                palette=palette)\n",
    "plt.title(\"DER vs Sales Growth (Standardisasi)\", fontsize=18, y=1.05)\n",
    "plt.show()"
   ]
  },
  {
   "cell_type": "markdown",
   "id": "91e5db66",
   "metadata": {
    "papermill": {
     "duration": 0.043147,
     "end_time": "2022-04-15T09:31:52.835392",
     "exception": false,
     "start_time": "2022-04-15T09:31:52.792245",
     "status": "completed"
    },
    "tags": []
   },
   "source": [
    "**Melihat Y dan Z**"
   ]
  },
  {
   "cell_type": "code",
   "execution_count": 25,
   "id": "d459647d",
   "metadata": {
    "execution": {
     "iopub.execute_input": "2022-04-15T09:31:52.927482Z",
     "iopub.status.busy": "2022-04-15T09:31:52.926502Z",
     "iopub.status.idle": "2022-04-15T09:31:53.155599Z",
     "shell.execute_reply": "2022-04-15T09:31:53.154973Z",
     "shell.execute_reply.started": "2022-04-15T09:29:07.694469Z"
    },
    "papermill": {
     "duration": 0.2755,
     "end_time": "2022-04-15T09:31:53.155735",
     "exception": false,
     "start_time": "2022-04-15T09:31:52.880235",
     "status": "completed"
    },
    "tags": []
   },
   "outputs": [
    {
     "data": {
      "image/png": "[encoded data removed]",
      "text/plain": [
       "<Figure size 576x576 with 1 Axes>"
      ]
     },
     "metadata": {
      "needs_background": "light"
     },
     "output_type": "display_data"
    }
   ],
   "source": [
    "sns.scatterplot(x='Operating Profit Margin (St.)', y='Sales Growth (St.)', \n",
    "                hue='Category', data=new_df, s=80,\n",
    "                palette=palette)\n",
    "plt.title(\"Operating Profit Margin vs Sales Growth (Standardisasi)\", fontsize=18, y=1.05)\n",
    "plt.show()"
   ]
  },
  {
   "cell_type": "markdown",
   "id": "efb99382",
   "metadata": {
    "papermill": {
     "duration": 0.043655,
     "end_time": "2022-04-15T09:31:53.244303",
     "exception": false,
     "start_time": "2022-04-15T09:31:53.200648",
     "status": "completed"
    },
    "tags": []
   },
   "source": [
    "**X dan Y**"
   ]
  },
  {
   "cell_type": "code",
   "execution_count": 26,
   "id": "39107546",
   "metadata": {
    "execution": {
     "iopub.execute_input": "2022-04-15T09:31:53.358271Z",
     "iopub.status.busy": "2022-04-15T09:31:53.345924Z",
     "iopub.status.idle": "2022-04-15T09:31:53.561290Z",
     "shell.execute_reply": "2022-04-15T09:31:53.561771Z",
     "shell.execute_reply.started": "2022-04-15T09:29:07.895445Z"
    },
    "papermill": {
     "duration": 0.273829,
     "end_time": "2022-04-15T09:31:53.561942",
     "exception": false,
     "start_time": "2022-04-15T09:31:53.288113",
     "status": "completed"
    },
    "tags": []
   },
   "outputs": [
    {
     "data": {
      "image/png": "[encoded data removed]",
      "text/plain": [
       "<Figure size 576x576 with 1 Axes>"
      ]
     },
     "metadata": {
      "needs_background": "light"
     },
     "output_type": "display_data"
    }
   ],
   "source": [
    "sns.scatterplot(x='DER (St.)', y='Operating Profit Margin (St.)', \n",
    "                hue='Category', data=new_df, s=80,\n",
    "                palette=palette)\n",
    "plt.title(\"DER vs Operating Profit Margin (Standardisasi)\", fontsize=18, y=1.05)\n",
    "plt.show()"
   ]
  },
  {
   "cell_type": "markdown",
   "id": "6902d2d0",
   "metadata": {
    "papermill": {
     "duration": 0.047345,
     "end_time": "2022-04-15T09:31:53.656429",
     "exception": false,
     "start_time": "2022-04-15T09:31:53.609084",
     "status": "completed"
    },
    "tags": []
   },
   "source": [
    "**Export Result**"
   ]
  },
  {
   "cell_type": "code",
   "execution_count": 27,
   "id": "0bd82da5",
   "metadata": {
    "execution": {
     "iopub.execute_input": "2022-04-15T09:31:53.751586Z",
     "iopub.status.busy": "2022-04-15T09:31:53.750893Z",
     "iopub.status.idle": "2022-04-15T09:31:53.763078Z",
     "shell.execute_reply": "2022-04-15T09:31:53.762221Z",
     "shell.execute_reply.started": "2022-04-15T09:29:08.103953Z"
    },
    "papermill": {
     "duration": 0.060532,
     "end_time": "2022-04-15T09:31:53.763275",
     "exception": false,
     "start_time": "2022-04-15T09:31:53.702743",
     "status": "completed"
    },
    "tags": []
   },
   "outputs": [
    {
     "name": "stdout",
     "output_type": "stream",
     "text": [
      "<class 'pandas.core.frame.DataFrame'>\n",
      "RangeIndex: 3 entries, 0 to 2\n",
      "Data columns (total 6 columns):\n",
      " #   Column                   Non-Null Count  Dtype  \n",
      "---  ------                   --------------  -----  \n",
      " 0   Emitten                  3 non-null      object \n",
      " 1   DER                      3 non-null      float64\n",
      " 2   Operating Profit Margin  3 non-null      float64\n",
      " 3   Return on Assets         3 non-null      float64\n",
      " 4   Sales Growth             3 non-null      float64\n",
      " 5   Category                 0 non-null      float64\n",
      "dtypes: float64(5), object(1)\n",
      "memory usage: 272.0+ bytes\n"
     ]
    }
   ],
   "source": [
    "df0.info()"
   ]
  },
  {
   "cell_type": "code",
   "execution_count": 28,
   "id": "3895f199",
   "metadata": {
    "execution": {
     "iopub.execute_input": "2022-04-15T09:31:53.866280Z",
     "iopub.status.busy": "2022-04-15T09:31:53.865675Z",
     "iopub.status.idle": "2022-04-15T09:31:53.867398Z",
     "shell.execute_reply": "2022-04-15T09:31:53.867919Z",
     "shell.execute_reply.started": "2022-04-15T09:29:08.119381Z"
    },
    "papermill": {
     "duration": 0.056942,
     "end_time": "2022-04-15T09:31:53.868157",
     "exception": false,
     "start_time": "2022-04-15T09:31:53.811215",
     "status": "completed"
    },
    "tags": []
   },
   "outputs": [],
   "source": [
    "# drop these row indexes\n",
    "# from dataFrame\n",
    "index_names = df0[ df0['Emitten'] == 'ARTO' ].index\n",
    "df0.drop(index_names, inplace = True)\n",
    "df0.reset_index(drop=True, inplace=True)\n",
    "df0.drop([\"Category\",\n",
    "         ], axis=1, inplace=True)"
   ]
  },
  {
   "cell_type": "code",
   "execution_count": 29,
   "id": "e5a3ef1d",
   "metadata": {
    "execution": {
     "iopub.execute_input": "2022-04-15T09:31:53.965569Z",
     "iopub.status.busy": "2022-04-15T09:31:53.964907Z",
     "iopub.status.idle": "2022-04-15T09:31:53.987747Z",
     "shell.execute_reply": "2022-04-15T09:31:53.988247Z",
     "shell.execute_reply.started": "2022-04-15T09:29:08.133156Z"
    },
    "papermill": {
     "duration": 0.074119,
     "end_time": "2022-04-15T09:31:53.988410",
     "exception": false,
     "start_time": "2022-04-15T09:31:53.914291",
     "status": "completed"
    },
    "tags": []
   },
   "outputs": [
    {
     "data": {
      "text/html": [
       "<div>\n",
       "<style scoped>\n",
       "    .dataframe tbody tr th:only-of-type {\n",
       "        vertical-align: middle;\n",
       "    }\n",
       "\n",
       "    .dataframe tbody tr th {\n",
       "        vertical-align: top;\n",
       "    }\n",
       "\n",
       "    .dataframe thead th {\n",
       "        text-align: right;\n",
       "    }\n",
       "</style>\n",
       "<table border=\"1\" class=\"dataframe\">\n",
       "  <thead>\n",
       "    <tr style=\"text-align: right;\">\n",
       "      <th></th>\n",
       "      <th>Emitten</th>\n",
       "      <th>DER</th>\n",
       "      <th>Operating Profit Margin</th>\n",
       "      <th>Return on Assets</th>\n",
       "      <th>Sales Growth</th>\n",
       "      <th>Category</th>\n",
       "      <th>Category</th>\n",
       "      <th>DER (St.)</th>\n",
       "      <th>Operating Profit Margin (St.)</th>\n",
       "      <th>Sales Growth (St.)</th>\n",
       "      <th>Emitten</th>\n",
       "      <th>DER</th>\n",
       "      <th>Operating Profit Margin</th>\n",
       "      <th>Return on Assets</th>\n",
       "      <th>Sales Growth</th>\n",
       "    </tr>\n",
       "  </thead>\n",
       "  <tbody>\n",
       "    <tr>\n",
       "      <th>0</th>\n",
       "      <td>ASGR</td>\n",
       "      <td>2.714461e+13</td>\n",
       "      <td>3.582851e+14</td>\n",
       "      <td>32.882056</td>\n",
       "      <td>-0.014861</td>\n",
       "      <td>NaN</td>\n",
       "      <td>2</td>\n",
       "      <td>1.414214</td>\n",
       "      <td>1.414214</td>\n",
       "      <td>-0.855042</td>\n",
       "      <td>ASGR</td>\n",
       "      <td>2.714461e+13</td>\n",
       "      <td>3.582851e+14</td>\n",
       "      <td>32.882056</td>\n",
       "      <td>-0.014861</td>\n",
       "    </tr>\n",
       "    <tr>\n",
       "      <th>1</th>\n",
       "      <td>ATIC</td>\n",
       "      <td>5.448545e-03</td>\n",
       "      <td>-4.581904e+01</td>\n",
       "      <td>-135.437060</td>\n",
       "      <td>0.109040</td>\n",
       "      <td>NaN</td>\n",
       "      <td>2</td>\n",
       "      <td>-0.707107</td>\n",
       "      <td>-0.707107</td>\n",
       "      <td>-0.548018</td>\n",
       "      <td>ATIC</td>\n",
       "      <td>5.448545e-03</td>\n",
       "      <td>-4.581904e+01</td>\n",
       "      <td>-135.437060</td>\n",
       "      <td>0.109040</td>\n",
       "    </tr>\n",
       "    <tr>\n",
       "      <th>2</th>\n",
       "      <td>DNET</td>\n",
       "      <td>6.788575e-01</td>\n",
       "      <td>1.827037e-03</td>\n",
       "      <td>0.001827</td>\n",
       "      <td>0.896399</td>\n",
       "      <td>NaN</td>\n",
       "      <td>2</td>\n",
       "      <td>-0.707107</td>\n",
       "      <td>-0.707107</td>\n",
       "      <td>1.403060</td>\n",
       "      <td>DNET</td>\n",
       "      <td>6.788575e-01</td>\n",
       "      <td>1.827037e-03</td>\n",
       "      <td>0.001827</td>\n",
       "      <td>0.896399</td>\n",
       "    </tr>\n",
       "  </tbody>\n",
       "</table>\n",
       "</div>"
      ],
      "text/plain": [
       "  Emitten           DER  Operating Profit Margin  Return on Assets  \\\n",
       "0    ASGR  2.714461e+13             3.582851e+14         32.882056   \n",
       "1    ATIC  5.448545e-03            -4.581904e+01       -135.437060   \n",
       "2    DNET  6.788575e-01             1.827037e-03          0.001827   \n",
       "\n",
       "   Sales Growth  Category  Category  DER (St.)  Operating Profit Margin (St.)  \\\n",
       "0     -0.014861       NaN         2   1.414214                       1.414214   \n",
       "1      0.109040       NaN         2  -0.707107                      -0.707107   \n",
       "2      0.896399       NaN         2  -0.707107                      -0.707107   \n",
       "\n",
       "   Sales Growth (St.) Emitten           DER  Operating Profit Margin  \\\n",
       "0           -0.855042    ASGR  2.714461e+13             3.582851e+14   \n",
       "1           -0.548018    ATIC  5.448545e-03            -4.581904e+01   \n",
       "2            1.403060    DNET  6.788575e-01             1.827037e-03   \n",
       "\n",
       "   Return on Assets  Sales Growth  \n",
       "0         32.882056     -0.014861  \n",
       "1       -135.437060      0.109040  \n",
       "2          0.001827      0.896399  "
      ]
     },
     "execution_count": 29,
     "metadata": {},
     "output_type": "execute_result"
    }
   ],
   "source": [
    "dftemp = pd.read_csv('../input/datajasa-dataset/DataInput.csv')\n",
    "df = pd.concat([dftemp, new_df, df0], axis=1)\n",
    "df.head(5)"
   ]
  },
  {
   "cell_type": "code",
   "execution_count": 30,
   "id": "1e37d093",
   "metadata": {
    "execution": {
     "iopub.execute_input": "2022-04-15T09:31:54.092889Z",
     "iopub.status.busy": "2022-04-15T09:31:54.090690Z",
     "iopub.status.idle": "2022-04-15T09:31:54.098275Z",
     "shell.execute_reply": "2022-04-15T09:31:54.098847Z",
     "shell.execute_reply.started": "2022-04-15T09:29:08.165718Z"
    },
    "papermill": {
     "duration": 0.05659,
     "end_time": "2022-04-15T09:31:54.099018",
     "exception": false,
     "start_time": "2022-04-15T09:31:54.042428",
     "status": "completed"
    },
    "tags": []
   },
   "outputs": [],
   "source": [
    "df.to_csv('DataInput.csv', index = False)"
   ]
  },
  {
   "cell_type": "code",
   "execution_count": 31,
   "id": "e328ad7a",
   "metadata": {
    "execution": {
     "iopub.execute_input": "2022-04-15T09:31:54.193554Z",
     "iopub.status.busy": "2022-04-15T09:31:54.192949Z",
     "iopub.status.idle": "2022-04-15T09:31:54.204370Z",
     "shell.execute_reply": "2022-04-15T09:31:54.205220Z",
     "shell.execute_reply.started": "2022-04-15T09:29:08.173713Z"
    },
    "papermill": {
     "duration": 0.060508,
     "end_time": "2022-04-15T09:31:54.205442",
     "exception": false,
     "start_time": "2022-04-15T09:31:54.144934",
     "status": "completed"
    },
    "tags": []
   },
   "outputs": [
    {
     "name": "stdout",
     "output_type": "stream",
     "text": [
      "<class 'pandas.core.frame.DataFrame'>\n",
      "RangeIndex: 3 entries, 0 to 2\n",
      "Data columns (total 15 columns):\n",
      " #   Column                         Non-Null Count  Dtype  \n",
      "---  ------                         --------------  -----  \n",
      " 0   Emitten                        3 non-null      object \n",
      " 1   DER                            3 non-null      float64\n",
      " 2   Operating Profit Margin        3 non-null      float64\n",
      " 3   Return on Assets               3 non-null      float64\n",
      " 4   Sales Growth                   3 non-null      float64\n",
      " 5   Category                       0 non-null      float64\n",
      " 6   Category                       3 non-null      int64  \n",
      " 7   DER (St.)                      3 non-null      float64\n",
      " 8   Operating Profit Margin (St.)  3 non-null      float64\n",
      " 9   Sales Growth (St.)             3 non-null      float64\n",
      " 10  Emitten                        3 non-null      object \n",
      " 11  DER                            3 non-null      float64\n",
      " 12  Operating Profit Margin        3 non-null      float64\n",
      " 13  Return on Assets               3 non-null      float64\n",
      " 14  Sales Growth                   3 non-null      float64\n",
      "dtypes: float64(12), int64(1), object(2)\n",
      "memory usage: 488.0+ bytes\n"
     ]
    }
   ],
   "source": [
    "df.info()"
   ]
  },
  {
   "cell_type": "markdown",
   "id": "1bedf6ec",
   "metadata": {
    "papermill": {
     "duration": 0.04589,
     "end_time": "2022-04-15T09:31:54.298689",
     "exception": false,
     "start_time": "2022-04-15T09:31:54.252799",
     "status": "completed"
    },
    "tags": []
   },
   "source": [
    "**Get Centroid**"
   ]
  },
  {
   "cell_type": "code",
   "execution_count": 32,
   "id": "8fb7da8c",
   "metadata": {
    "execution": {
     "iopub.execute_input": "2022-04-15T09:31:54.399534Z",
     "iopub.status.busy": "2022-04-15T09:31:54.398880Z",
     "iopub.status.idle": "2022-04-15T09:31:54.401347Z",
     "shell.execute_reply": "2022-04-15T09:31:54.402064Z",
     "shell.execute_reply.started": "2022-04-15T09:29:08.195890Z"
    },
    "papermill": {
     "duration": 0.057293,
     "end_time": "2022-04-15T09:31:54.402252",
     "exception": false,
     "start_time": "2022-04-15T09:31:54.344959",
     "status": "completed"
    },
    "tags": []
   },
   "outputs": [
    {
     "data": {
      "text/plain": [
       "array([[ 7.40148683e-17, -1.48029737e-16,  0.00000000e+00]])"
      ]
     },
     "execution_count": 32,
     "metadata": {},
     "output_type": "execute_result"
    }
   ],
   "source": [
    "kmeans.cluster_centers_"
   ]
  },
  {
   "cell_type": "code",
   "execution_count": 33,
   "id": "a9368522",
   "metadata": {
    "execution": {
     "iopub.execute_input": "2022-04-15T09:31:54.508275Z",
     "iopub.status.busy": "2022-04-15T09:31:54.502927Z",
     "iopub.status.idle": "2022-04-15T09:31:54.739895Z",
     "shell.execute_reply": "2022-04-15T09:31:54.739350Z",
     "shell.execute_reply.started": "2022-04-15T09:29:08.208444Z"
    },
    "papermill": {
     "duration": 0.288377,
     "end_time": "2022-04-15T09:31:54.740035",
     "exception": false,
     "start_time": "2022-04-15T09:31:54.451658",
     "status": "completed"
    },
    "tags": []
   },
   "outputs": [
    {
     "data": {
      "image/png": "[encoded data removed]",
      "text/plain": [
       "<Figure size 576x576 with 1 Axes>"
      ]
     },
     "metadata": {
      "needs_background": "light"
     },
     "output_type": "display_data"
    }
   ],
   "source": [
    "from mpl_toolkits.mplot3d import Axes3D\n",
    "\n",
    "fig = plt.figure()\n",
    "ax = fig.add_subplot(111, projection = '3d')\n",
    "x = [0.07796577,3.3825386,-0.19978728,-0.22183117,-0.32525515]\n",
    "y = [1.27721216,-0.22442569,-1.39490532,0.15549501,-0.03911061]\n",
    "z = [-0.22773712,0.35006475,-0.89274149,4.44060221,0.14030381]\n",
    "\n",
    "ax.set_xlabel(\"DER (St.)\")\n",
    "ax.set_ylabel(\"Operating Profit Margin (St.)\")\n",
    "ax.set_zlabel(\"Sales Growth (St.)\")\n",
    "ax.scatter(x, y, z)\n",
    "plt.show()"
   ]
  }
 ],
 "metadata": {
  "kernelspec": {
   "display_name": "Python 3",
   "language": "python",
   "name": "python3"
  },
  "language_info": {
   "codemirror_mode": {
    "name": "ipython",
    "version": 3
   },
   "file_extension": ".py",
   "mimetype": "text/x-python",
   "name": "python",
   "nbconvert_exporter": "python",
   "pygments_lexer": "ipython3",
   "version": "3.7.12"
  },
  "papermill": {
   "default_parameters": {},
   "duration": 19.817154,
   "end_time": "2022-04-15T09:31:55.600628",
   "environment_variables": {},
   "exception": null,
   "input_path": "__notebook__.ipynb",
   "output_path": "__notebook__.ipynb",
   "parameters": {},
   "start_time": "2022-04-15T09:31:35.783474",
   "version": "2.3.3"
  }
 },
 "nbformat": 4,
 "nbformat_minor": 5
}
