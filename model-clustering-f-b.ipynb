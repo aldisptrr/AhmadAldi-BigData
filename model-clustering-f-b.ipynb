{
 "cells": [
  {
   "cell_type": "code",
   "execution_count": 1,
   "id": "bbc5acf8",
   "metadata": {
    "_cell_guid": "b1076dfc-b9ad-4769-8c92-a6c4dae69d19",
    "_uuid": "8f2839f25d086af736a60e9eeb907d3b93b6e0e5",
    "execution": {
     "iopub.execute_input": "2022-04-19T13:18:11.578099Z",
     "iopub.status.busy": "2022-04-19T13:18:11.577560Z",
     "iopub.status.idle": "2022-04-19T13:18:11.599044Z",
     "shell.execute_reply": "2022-04-19T13:18:11.598142Z"
    },
    "papermill": {
     "duration": 0.071015,
     "end_time": "2022-04-19T13:18:11.601868",
     "exception": false,
     "start_time": "2022-04-19T13:18:11.530853",
     "status": "completed"
    },
    "tags": []
   },
   "outputs": [
    {
     "name": "stdout",
     "output_type": "stream",
     "text": [
      "/kaggle/input/resultfb/resultFB.csv\n",
      "/kaggle/input/datafb-dataset/DataFB.csv\n"
     ]
    }
   ],
   "source": [
    "# This Python 3 environment comes with many helpful analytics libraries installed\n",
    "# It is defined by the kaggle/python Docker image: https://github.com/kaggle/docker-python\n",
    "# For example, here's several helpful packages to load\n",
    "\n",
    "import numpy as np # linear algebra\n",
    "import pandas as pd # data processing, CSV file I/O (e.g. pd.read_csv)\n",
    "\n",
    "# Input data files are available in the read-only \"../input/\" directory\n",
    "# For example, running this (by clicking run or pressing Shift+Enter) will list all files under the input directory\n",
    "\n",
    "import os\n",
    "for dirname, _, filenames in os.walk('/kaggle/input'):\n",
    "    for filename in filenames:\n",
    "        print(os.path.join(dirname, filename))\n",
    "\n",
    "# You can write up to 20GB to the current directory (/kaggle/working/) that gets preserved as output when you create a version using \"Save & Run All\" \n",
    "# You can also write temporary files to /kaggle/temp/, but they won't be saved outside of the current session"
   ]
  },
  {
   "cell_type": "markdown",
   "id": "fee24ad6",
   "metadata": {
    "papermill": {
     "duration": 0.043956,
     "end_time": "2022-04-19T13:18:11.691675",
     "exception": false,
     "start_time": "2022-04-19T13:18:11.647719",
     "status": "completed"
    },
    "tags": []
   },
   "source": [
    "# **1 Exploratory Data Analysis**"
   ]
  },
  {
   "cell_type": "markdown",
   "id": "f7b0b975",
   "metadata": {
    "papermill": {
     "duration": 0.043988,
     "end_time": "2022-04-19T13:18:11.781865",
     "exception": false,
     "start_time": "2022-04-19T13:18:11.737877",
     "status": "completed"
    },
    "tags": []
   },
   "source": [
    "# 1.1 Load Data"
   ]
  },
  {
   "cell_type": "code",
   "execution_count": 2,
   "id": "e2828ac0",
   "metadata": {
    "execution": {
     "iopub.execute_input": "2022-04-19T13:18:11.883666Z",
     "iopub.status.busy": "2022-04-19T13:18:11.883025Z",
     "iopub.status.idle": "2022-04-19T13:18:12.879923Z",
     "shell.execute_reply": "2022-04-19T13:18:12.879053Z"
    },
    "papermill": {
     "duration": 1.045782,
     "end_time": "2022-04-19T13:18:12.882337",
     "exception": false,
     "start_time": "2022-04-19T13:18:11.836555",
     "status": "completed"
    },
    "tags": []
   },
   "outputs": [],
   "source": [
    "import pandas as pd \n",
    "import numpy as np\n",
    "import matplotlib.pyplot as plt\n",
    "import seaborn as sns\n",
    "from matplotlib.colors import ListedColormap\n",
    "%matplotlib inline\n",
    "from scipy import stats"
   ]
  },
  {
   "cell_type": "code",
   "execution_count": 3,
   "id": "12295fd4",
   "metadata": {
    "execution": {
     "iopub.execute_input": "2022-04-19T13:18:12.973369Z",
     "iopub.status.busy": "2022-04-19T13:18:12.973077Z",
     "iopub.status.idle": "2022-04-19T13:18:13.000188Z",
     "shell.execute_reply": "2022-04-19T13:18:12.999604Z"
    },
    "papermill": {
     "duration": 0.074897,
     "end_time": "2022-04-19T13:18:13.002205",
     "exception": false,
     "start_time": "2022-04-19T13:18:12.927308",
     "status": "completed"
    },
    "tags": []
   },
   "outputs": [
    {
     "name": "stdout",
     "output_type": "stream",
     "text": [
      "<class 'pandas.core.frame.DataFrame'>\n",
      "RangeIndex: 20 entries, 0 to 19\n",
      "Data columns (total 7 columns):\n",
      " #   Column                   Non-Null Count  Dtype  \n",
      "---  ------                   --------------  -----  \n",
      " 0   Emitten                  20 non-null     object \n",
      " 1   DER                      20 non-null     float64\n",
      " 2   Operating Profit Margin  20 non-null     float64\n",
      " 3   Return on Assets         20 non-null     float64\n",
      " 4   Sales Growth             20 non-null     float64\n",
      " 5   Category                 0 non-null      float64\n",
      " 6   Unnamed: 6               0 non-null      float64\n",
      "dtypes: float64(6), object(1)\n",
      "memory usage: 1.2+ KB\n"
     ]
    }
   ],
   "source": [
    "df0 = pd.read_csv('../input/datafb-dataset/DataFB.csv')\n",
    "df0.info()"
   ]
  },
  {
   "cell_type": "code",
   "execution_count": 4,
   "id": "9726f01a",
   "metadata": {
    "execution": {
     "iopub.execute_input": "2022-04-19T13:18:13.092939Z",
     "iopub.status.busy": "2022-04-19T13:18:13.092295Z",
     "iopub.status.idle": "2022-04-19T13:18:13.125935Z",
     "shell.execute_reply": "2022-04-19T13:18:13.125325Z"
    },
    "papermill": {
     "duration": 0.081375,
     "end_time": "2022-04-19T13:18:13.128142",
     "exception": false,
     "start_time": "2022-04-19T13:18:13.046767",
     "status": "completed"
    },
    "tags": []
   },
   "outputs": [
    {
     "data": {
      "text/html": [
       "<div>\n",
       "<style scoped>\n",
       "    .dataframe tbody tr th:only-of-type {\n",
       "        vertical-align: middle;\n",
       "    }\n",
       "\n",
       "    .dataframe tbody tr th {\n",
       "        vertical-align: top;\n",
       "    }\n",
       "\n",
       "    .dataframe thead th {\n",
       "        text-align: right;\n",
       "    }\n",
       "</style>\n",
       "<table border=\"1\" class=\"dataframe\">\n",
       "  <thead>\n",
       "    <tr style=\"text-align: right;\">\n",
       "      <th></th>\n",
       "      <th>DER</th>\n",
       "      <th>Operating Profit Margin</th>\n",
       "      <th>Return on Assets</th>\n",
       "      <th>Sales Growth</th>\n",
       "      <th>Category</th>\n",
       "      <th>Unnamed: 6</th>\n",
       "    </tr>\n",
       "  </thead>\n",
       "  <tbody>\n",
       "    <tr>\n",
       "      <th>count</th>\n",
       "      <td>20.000000</td>\n",
       "      <td>20.000000</td>\n",
       "      <td>20.000000</td>\n",
       "      <td>20.000000</td>\n",
       "      <td>0.0</td>\n",
       "      <td>0.0</td>\n",
       "    </tr>\n",
       "    <tr>\n",
       "      <th>mean</th>\n",
       "      <td>5687.932281</td>\n",
       "      <td>476.109549</td>\n",
       "      <td>0.625500</td>\n",
       "      <td>0.029500</td>\n",
       "      <td>NaN</td>\n",
       "      <td>NaN</td>\n",
       "    </tr>\n",
       "    <tr>\n",
       "      <th>std</th>\n",
       "      <td>14552.139453</td>\n",
       "      <td>1393.670384</td>\n",
       "      <td>0.909826</td>\n",
       "      <td>0.084634</td>\n",
       "      <td>NaN</td>\n",
       "      <td>NaN</td>\n",
       "    </tr>\n",
       "    <tr>\n",
       "      <th>min</th>\n",
       "      <td>33.821513</td>\n",
       "      <td>-372.055132</td>\n",
       "      <td>-2.540000</td>\n",
       "      <td>-0.140000</td>\n",
       "      <td>NaN</td>\n",
       "      <td>NaN</td>\n",
       "    </tr>\n",
       "    <tr>\n",
       "      <th>25%</th>\n",
       "      <td>296.375782</td>\n",
       "      <td>-2.329721</td>\n",
       "      <td>0.345000</td>\n",
       "      <td>-0.010000</td>\n",
       "      <td>NaN</td>\n",
       "      <td>NaN</td>\n",
       "    </tr>\n",
       "    <tr>\n",
       "      <th>50%</th>\n",
       "      <td>716.151833</td>\n",
       "      <td>25.708132</td>\n",
       "      <td>0.645000</td>\n",
       "      <td>0.030000</td>\n",
       "      <td>NaN</td>\n",
       "      <td>NaN</td>\n",
       "    </tr>\n",
       "    <tr>\n",
       "      <th>75%</th>\n",
       "      <td>1980.754857</td>\n",
       "      <td>116.321926</td>\n",
       "      <td>1.142500</td>\n",
       "      <td>0.065000</td>\n",
       "      <td>NaN</td>\n",
       "      <td>NaN</td>\n",
       "    </tr>\n",
       "    <tr>\n",
       "      <th>max</th>\n",
       "      <td>58775.946000</td>\n",
       "      <td>4729.034000</td>\n",
       "      <td>1.960000</td>\n",
       "      <td>0.260000</td>\n",
       "      <td>NaN</td>\n",
       "      <td>NaN</td>\n",
       "    </tr>\n",
       "  </tbody>\n",
       "</table>\n",
       "</div>"
      ],
      "text/plain": [
       "                DER  Operating Profit Margin  Return on Assets  Sales Growth  \\\n",
       "count     20.000000                20.000000         20.000000     20.000000   \n",
       "mean    5687.932281               476.109549          0.625500      0.029500   \n",
       "std    14552.139453              1393.670384          0.909826      0.084634   \n",
       "min       33.821513              -372.055132         -2.540000     -0.140000   \n",
       "25%      296.375782                -2.329721          0.345000     -0.010000   \n",
       "50%      716.151833                25.708132          0.645000      0.030000   \n",
       "75%     1980.754857               116.321926          1.142500      0.065000   \n",
       "max    58775.946000              4729.034000          1.960000      0.260000   \n",
       "\n",
       "       Category  Unnamed: 6  \n",
       "count       0.0         0.0  \n",
       "mean        NaN         NaN  \n",
       "std         NaN         NaN  \n",
       "min         NaN         NaN  \n",
       "25%         NaN         NaN  \n",
       "50%         NaN         NaN  \n",
       "75%         NaN         NaN  \n",
       "max         NaN         NaN  "
      ]
     },
     "execution_count": 4,
     "metadata": {},
     "output_type": "execute_result"
    }
   ],
   "source": [
    "df0.describe()"
   ]
  },
  {
   "cell_type": "markdown",
   "id": "81a3c918",
   "metadata": {
    "papermill": {
     "duration": 0.046226,
     "end_time": "2022-04-19T13:18:13.219622",
     "exception": false,
     "start_time": "2022-04-19T13:18:13.173396",
     "status": "completed"
    },
    "tags": []
   },
   "source": [
    "# **Data Clensing**"
   ]
  },
  {
   "cell_type": "code",
   "execution_count": 5,
   "id": "b43de779",
   "metadata": {
    "execution": {
     "iopub.execute_input": "2022-04-19T13:18:13.311868Z",
     "iopub.status.busy": "2022-04-19T13:18:13.311066Z",
     "iopub.status.idle": "2022-04-19T13:18:13.316038Z",
     "shell.execute_reply": "2022-04-19T13:18:13.315299Z"
    },
    "papermill": {
     "duration": 0.053285,
     "end_time": "2022-04-19T13:18:13.317973",
     "exception": false,
     "start_time": "2022-04-19T13:18:13.264688",
     "status": "completed"
    },
    "tags": []
   },
   "outputs": [],
   "source": [
    "df0.drop([\"Emitten\", \"Category\"], axis=1, inplace=True)"
   ]
  },
  {
   "cell_type": "markdown",
   "id": "e1123c30",
   "metadata": {
    "papermill": {
     "duration": 0.054612,
     "end_time": "2022-04-19T13:18:13.417870",
     "exception": false,
     "start_time": "2022-04-19T13:18:13.363258",
     "status": "completed"
    },
    "tags": []
   },
   "source": [
    "# **Scatter Plot**"
   ]
  },
  {
   "cell_type": "code",
   "execution_count": 6,
   "id": "9266a88a",
   "metadata": {
    "execution": {
     "iopub.execute_input": "2022-04-19T13:18:13.519130Z",
     "iopub.status.busy": "2022-04-19T13:18:13.518509Z",
     "iopub.status.idle": "2022-04-19T13:18:16.684831Z",
     "shell.execute_reply": "2022-04-19T13:18:16.684147Z"
    },
    "papermill": {
     "duration": 3.214653,
     "end_time": "2022-04-19T13:18:16.686580",
     "exception": false,
     "start_time": "2022-04-19T13:18:13.471927",
     "status": "completed"
    },
    "tags": []
   },
   "outputs": [
    {
     "data": {
      "text/plain": [
       "<Figure size 1080x1080 with 0 Axes>"
      ]
     },
     "metadata": {},
     "output_type": "display_data"
    },
    {
     "data": {
      "image/png": "[encoded data removed]",
      "text/plain": [
       "<Figure size 720x720 with 20 Axes>"
      ]
     },
     "metadata": {
      "needs_background": "light"
     },
     "output_type": "display_data"
    }
   ],
   "source": [
    "plt.figure(figsize=(15, 15))\n",
    "sns.pairplot(df0, vars = df0.columns[1:13]);"
   ]
  },
  {
   "cell_type": "markdown",
   "id": "745bab02",
   "metadata": {
    "papermill": {
     "duration": 0.046795,
     "end_time": "2022-04-19T13:18:16.781230",
     "exception": false,
     "start_time": "2022-04-19T13:18:16.734435",
     "status": "completed"
    },
    "tags": []
   },
   "source": [
    "# **2 Clustering**"
   ]
  },
  {
   "cell_type": "markdown",
   "id": "e2fea38e",
   "metadata": {
    "papermill": {
     "duration": 0.048229,
     "end_time": "2022-04-19T13:18:16.876638",
     "exception": false,
     "start_time": "2022-04-19T13:18:16.828409",
     "status": "completed"
    },
    "tags": []
   },
   "source": [
    "# **2.1 Load Data**"
   ]
  },
  {
   "cell_type": "code",
   "execution_count": 7,
   "id": "4dcdafb7",
   "metadata": {
    "execution": {
     "iopub.execute_input": "2022-04-19T13:18:16.973100Z",
     "iopub.status.busy": "2022-04-19T13:18:16.972578Z",
     "iopub.status.idle": "2022-04-19T13:18:16.997099Z",
     "shell.execute_reply": "2022-04-19T13:18:16.996469Z"
    },
    "papermill": {
     "duration": 0.074666,
     "end_time": "2022-04-19T13:18:16.998886",
     "exception": false,
     "start_time": "2022-04-19T13:18:16.924220",
     "status": "completed"
    },
    "tags": []
   },
   "outputs": [
    {
     "data": {
      "text/html": [
       "<div>\n",
       "<style scoped>\n",
       "    .dataframe tbody tr th:only-of-type {\n",
       "        vertical-align: middle;\n",
       "    }\n",
       "\n",
       "    .dataframe tbody tr th {\n",
       "        vertical-align: top;\n",
       "    }\n",
       "\n",
       "    .dataframe thead th {\n",
       "        text-align: right;\n",
       "    }\n",
       "</style>\n",
       "<table border=\"1\" class=\"dataframe\">\n",
       "  <thead>\n",
       "    <tr style=\"text-align: right;\">\n",
       "      <th></th>\n",
       "      <th>DER</th>\n",
       "      <th>Operating Profit Margin</th>\n",
       "      <th>Sales Growth</th>\n",
       "      <th>Category</th>\n",
       "    </tr>\n",
       "  </thead>\n",
       "  <tbody>\n",
       "    <tr>\n",
       "      <th>count</th>\n",
       "      <td>20.000000</td>\n",
       "      <td>20.000000</td>\n",
       "      <td>20.000000</td>\n",
       "      <td>0.0</td>\n",
       "    </tr>\n",
       "    <tr>\n",
       "      <th>mean</th>\n",
       "      <td>5687.932281</td>\n",
       "      <td>476.109549</td>\n",
       "      <td>0.029500</td>\n",
       "      <td>NaN</td>\n",
       "    </tr>\n",
       "    <tr>\n",
       "      <th>std</th>\n",
       "      <td>14552.139453</td>\n",
       "      <td>1393.670384</td>\n",
       "      <td>0.084634</td>\n",
       "      <td>NaN</td>\n",
       "    </tr>\n",
       "    <tr>\n",
       "      <th>min</th>\n",
       "      <td>33.821513</td>\n",
       "      <td>-372.055132</td>\n",
       "      <td>-0.140000</td>\n",
       "      <td>NaN</td>\n",
       "    </tr>\n",
       "    <tr>\n",
       "      <th>25%</th>\n",
       "      <td>296.375782</td>\n",
       "      <td>-2.329721</td>\n",
       "      <td>-0.010000</td>\n",
       "      <td>NaN</td>\n",
       "    </tr>\n",
       "    <tr>\n",
       "      <th>50%</th>\n",
       "      <td>716.151833</td>\n",
       "      <td>25.708132</td>\n",
       "      <td>0.030000</td>\n",
       "      <td>NaN</td>\n",
       "    </tr>\n",
       "    <tr>\n",
       "      <th>75%</th>\n",
       "      <td>1980.754857</td>\n",
       "      <td>116.321926</td>\n",
       "      <td>0.065000</td>\n",
       "      <td>NaN</td>\n",
       "    </tr>\n",
       "    <tr>\n",
       "      <th>max</th>\n",
       "      <td>58775.946000</td>\n",
       "      <td>4729.034000</td>\n",
       "      <td>0.260000</td>\n",
       "      <td>NaN</td>\n",
       "    </tr>\n",
       "  </tbody>\n",
       "</table>\n",
       "</div>"
      ],
      "text/plain": [
       "                DER  Operating Profit Margin  Sales Growth  Category\n",
       "count     20.000000                20.000000     20.000000       0.0\n",
       "mean    5687.932281               476.109549      0.029500       NaN\n",
       "std    14552.139453              1393.670384      0.084634       NaN\n",
       "min       33.821513              -372.055132     -0.140000       NaN\n",
       "25%      296.375782                -2.329721     -0.010000       NaN\n",
       "50%      716.151833                25.708132      0.030000       NaN\n",
       "75%     1980.754857               116.321926      0.065000       NaN\n",
       "max    58775.946000              4729.034000      0.260000       NaN"
      ]
     },
     "execution_count": 7,
     "metadata": {},
     "output_type": "execute_result"
    }
   ],
   "source": [
    "df0 = pd.read_csv('../input/datafb-dataset/DataFB.csv')\n",
    "df1 = df0[['DER','Operating Profit Margin','Sales Growth','Category']]\n",
    "df1.describe()\n"
   ]
  },
  {
   "cell_type": "code",
   "execution_count": 8,
   "id": "ba1f6e67",
   "metadata": {
    "execution": {
     "iopub.execute_input": "2022-04-19T13:18:17.095319Z",
     "iopub.status.busy": "2022-04-19T13:18:17.094781Z",
     "iopub.status.idle": "2022-04-19T13:18:17.380757Z",
     "shell.execute_reply": "2022-04-19T13:18:17.379859Z"
    },
    "papermill": {
     "duration": 0.336634,
     "end_time": "2022-04-19T13:18:17.382919",
     "exception": false,
     "start_time": "2022-04-19T13:18:17.046285",
     "status": "completed"
    },
    "tags": []
   },
   "outputs": [
    {
     "data": {
      "text/plain": [
       "<AxesSubplot:xlabel='Emitten', ylabel='Operating Profit Margin'>"
      ]
     },
     "execution_count": 8,
     "metadata": {},
     "output_type": "execute_result"
    },
    {
     "data": {
      "image/png": "[encoded data removed]",
      "text/plain": [
       "<Figure size 1296x288 with 1 Axes>"
      ]
     },
     "metadata": {
      "needs_background": "light"
     },
     "output_type": "display_data"
    }
   ],
   "source": [
    "plt.figure(figsize=(18, 4))\n",
    "plt.xticks(rotation=45)\n",
    "sns.scatterplot(x='Emitten', y='Operating Profit Margin', \n",
    "                data=df0, s=80)"
   ]
  },
  {
   "cell_type": "code",
   "execution_count": 9,
   "id": "abc7e647",
   "metadata": {
    "execution": {
     "iopub.execute_input": "2022-04-19T13:18:17.482447Z",
     "iopub.status.busy": "2022-04-19T13:18:17.482156Z",
     "iopub.status.idle": "2022-04-19T13:18:17.769995Z",
     "shell.execute_reply": "2022-04-19T13:18:17.769317Z"
    },
    "papermill": {
     "duration": 0.339998,
     "end_time": "2022-04-19T13:18:17.771993",
     "exception": false,
     "start_time": "2022-04-19T13:18:17.431995",
     "status": "completed"
    },
    "tags": []
   },
   "outputs": [
    {
     "data": {
      "text/plain": [
       "<AxesSubplot:xlabel='Emitten', ylabel='DER'>"
      ]
     },
     "execution_count": 9,
     "metadata": {},
     "output_type": "execute_result"
    },
    {
     "data": {
      "image/png": "[encoded data removed]",
      "text/plain": [
       "<Figure size 1296x288 with 1 Axes>"
      ]
     },
     "metadata": {
      "needs_background": "light"
     },
     "output_type": "display_data"
    }
   ],
   "source": [
    "plt.figure(figsize=(18, 4))\n",
    "plt.xticks(rotation=45)\n",
    "sns.scatterplot(x='Emitten', y='DER', \n",
    "                data=df0, s=80)"
   ]
  },
  {
   "cell_type": "code",
   "execution_count": 10,
   "id": "07173093",
   "metadata": {
    "execution": {
     "iopub.execute_input": "2022-04-19T13:18:17.877321Z",
     "iopub.status.busy": "2022-04-19T13:18:17.877002Z",
     "iopub.status.idle": "2022-04-19T13:18:18.177689Z",
     "shell.execute_reply": "2022-04-19T13:18:18.176847Z"
    },
    "papermill": {
     "duration": 0.356677,
     "end_time": "2022-04-19T13:18:18.180207",
     "exception": false,
     "start_time": "2022-04-19T13:18:17.823530",
     "status": "completed"
    },
    "tags": []
   },
   "outputs": [
    {
     "data": {
      "text/plain": [
       "<AxesSubplot:xlabel='Emitten', ylabel='Sales Growth'>"
      ]
     },
     "execution_count": 10,
     "metadata": {},
     "output_type": "execute_result"
    },
    {
     "data": {
      "image/png": "[encoded data removed]",
      "text/plain": [
       "<Figure size 1296x288 with 1 Axes>"
      ]
     },
     "metadata": {
      "needs_background": "light"
     },
     "output_type": "display_data"
    }
   ],
   "source": [
    "plt.figure(figsize=(18, 4))\n",
    "plt.xticks(rotation=45)\n",
    "sns.scatterplot(x='Emitten', y='Sales Growth', \n",
    "                data=df0, s=80)"
   ]
  },
  {
   "cell_type": "markdown",
   "id": "90d1e85e",
   "metadata": {
    "papermill": {
     "duration": 0.052863,
     "end_time": "2022-04-19T13:18:18.285309",
     "exception": false,
     "start_time": "2022-04-19T13:18:18.232446",
     "status": "completed"
    },
    "tags": []
   },
   "source": [
    "# **2.2 Outlier**"
   ]
  },
  {
   "cell_type": "code",
   "execution_count": 11,
   "id": "c5be40e3",
   "metadata": {
    "execution": {
     "iopub.execute_input": "2022-04-19T13:18:18.395102Z",
     "iopub.status.busy": "2022-04-19T13:18:18.394267Z",
     "iopub.status.idle": "2022-04-19T13:18:18.403935Z",
     "shell.execute_reply": "2022-04-19T13:18:18.402739Z"
    },
    "papermill": {
     "duration": 0.065561,
     "end_time": "2022-04-19T13:18:18.406166",
     "exception": false,
     "start_time": "2022-04-19T13:18:18.340605",
     "status": "completed"
    },
    "tags": []
   },
   "outputs": [
    {
     "name": "stdout",
     "output_type": "stream",
     "text": [
      "Jumlah baris sebelum memfilter outlier: 20\n",
      "Jumlah baris setelah memfilter outlier: 19\n"
     ]
    }
   ],
   "source": [
    "print(f'Jumlah baris sebelum memfilter outlier: {len(df1)}')\n",
    "\n",
    "filtered_entries = np.array([False] * len(df1))\n",
    "for col in ['Operating Profit Margin']:\n",
    "    zscore = abs(stats.zscore(df1[col]))\n",
    "    filtered_entries = (zscore < 3) | filtered_entries\n",
    "    \n",
    "df1 = df1[filtered_entries]\n",
    "\n",
    "print(f'Jumlah baris setelah memfilter outlier: {len(df1)}')"
   ]
  },
  {
   "cell_type": "code",
   "execution_count": 12,
   "id": "55167a1c",
   "metadata": {
    "execution": {
     "iopub.execute_input": "2022-04-19T13:18:18.512592Z",
     "iopub.status.busy": "2022-04-19T13:18:18.511865Z",
     "iopub.status.idle": "2022-04-19T13:18:18.534800Z",
     "shell.execute_reply": "2022-04-19T13:18:18.533977Z"
    },
    "papermill": {
     "duration": 0.07828,
     "end_time": "2022-04-19T13:18:18.536980",
     "exception": false,
     "start_time": "2022-04-19T13:18:18.458700",
     "status": "completed"
    },
    "tags": []
   },
   "outputs": [
    {
     "data": {
      "text/html": [
       "<div>\n",
       "<style scoped>\n",
       "    .dataframe tbody tr th:only-of-type {\n",
       "        vertical-align: middle;\n",
       "    }\n",
       "\n",
       "    .dataframe tbody tr th {\n",
       "        vertical-align: top;\n",
       "    }\n",
       "\n",
       "    .dataframe thead th {\n",
       "        text-align: right;\n",
       "    }\n",
       "</style>\n",
       "<table border=\"1\" class=\"dataframe\">\n",
       "  <thead>\n",
       "    <tr style=\"text-align: right;\">\n",
       "      <th></th>\n",
       "      <th>DER</th>\n",
       "      <th>Operating Profit Margin</th>\n",
       "      <th>Sales Growth</th>\n",
       "      <th>Category</th>\n",
       "    </tr>\n",
       "  </thead>\n",
       "  <tbody>\n",
       "    <tr>\n",
       "      <th>count</th>\n",
       "      <td>19.000000</td>\n",
       "      <td>19.000000</td>\n",
       "      <td>19.000000</td>\n",
       "      <td>0.0</td>\n",
       "    </tr>\n",
       "    <tr>\n",
       "      <th>mean</th>\n",
       "      <td>2893.826296</td>\n",
       "      <td>252.271420</td>\n",
       "      <td>0.029474</td>\n",
       "      <td>NaN</td>\n",
       "    </tr>\n",
       "    <tr>\n",
       "      <th>std</th>\n",
       "      <td>7662.534224</td>\n",
       "      <td>996.234372</td>\n",
       "      <td>0.086953</td>\n",
       "      <td>NaN</td>\n",
       "    </tr>\n",
       "    <tr>\n",
       "      <th>min</th>\n",
       "      <td>33.821513</td>\n",
       "      <td>-372.055132</td>\n",
       "      <td>-0.140000</td>\n",
       "      <td>NaN</td>\n",
       "    </tr>\n",
       "    <tr>\n",
       "      <th>25%</th>\n",
       "      <td>276.989902</td>\n",
       "      <td>-3.404495</td>\n",
       "      <td>-0.010000</td>\n",
       "      <td>NaN</td>\n",
       "    </tr>\n",
       "    <tr>\n",
       "      <th>50%</th>\n",
       "      <td>712.510757</td>\n",
       "      <td>22.825563</td>\n",
       "      <td>0.030000</td>\n",
       "      <td>NaN</td>\n",
       "    </tr>\n",
       "    <tr>\n",
       "      <th>75%</th>\n",
       "      <td>1377.659500</td>\n",
       "      <td>104.824423</td>\n",
       "      <td>0.070000</td>\n",
       "      <td>NaN</td>\n",
       "    </tr>\n",
       "    <tr>\n",
       "      <th>max</th>\n",
       "      <td>33896.887000</td>\n",
       "      <td>4337.822000</td>\n",
       "      <td>0.260000</td>\n",
       "      <td>NaN</td>\n",
       "    </tr>\n",
       "  </tbody>\n",
       "</table>\n",
       "</div>"
      ],
      "text/plain": [
       "                DER  Operating Profit Margin  Sales Growth  Category\n",
       "count     19.000000                19.000000     19.000000       0.0\n",
       "mean    2893.826296               252.271420      0.029474       NaN\n",
       "std     7662.534224               996.234372      0.086953       NaN\n",
       "min       33.821513              -372.055132     -0.140000       NaN\n",
       "25%      276.989902                -3.404495     -0.010000       NaN\n",
       "50%      712.510757                22.825563      0.030000       NaN\n",
       "75%     1377.659500               104.824423      0.070000       NaN\n",
       "max    33896.887000              4337.822000      0.260000       NaN"
      ]
     },
     "execution_count": 12,
     "metadata": {},
     "output_type": "execute_result"
    }
   ],
   "source": [
    "df1.describe()"
   ]
  },
  {
   "cell_type": "markdown",
   "id": "02804a4c",
   "metadata": {
    "papermill": {
     "duration": 0.052921,
     "end_time": "2022-04-19T13:18:18.643269",
     "exception": false,
     "start_time": "2022-04-19T13:18:18.590348",
     "status": "completed"
    },
    "tags": []
   },
   "source": [
    "# **2.3 Standardisasi Fitur**"
   ]
  },
  {
   "cell_type": "code",
   "execution_count": 13,
   "id": "d83a2ca1",
   "metadata": {
    "execution": {
     "iopub.execute_input": "2022-04-19T13:18:18.751116Z",
     "iopub.status.busy": "2022-04-19T13:18:18.750850Z",
     "iopub.status.idle": "2022-04-19T13:18:18.893217Z",
     "shell.execute_reply": "2022-04-19T13:18:18.892420Z"
    },
    "papermill": {
     "duration": 0.198573,
     "end_time": "2022-04-19T13:18:18.895094",
     "exception": false,
     "start_time": "2022-04-19T13:18:18.696521",
     "status": "completed"
    },
    "tags": []
   },
   "outputs": [
    {
     "data": {
      "text/html": [
       "<div>\n",
       "<style scoped>\n",
       "    .dataframe tbody tr th:only-of-type {\n",
       "        vertical-align: middle;\n",
       "    }\n",
       "\n",
       "    .dataframe tbody tr th {\n",
       "        vertical-align: top;\n",
       "    }\n",
       "\n",
       "    .dataframe thead th {\n",
       "        text-align: right;\n",
       "    }\n",
       "</style>\n",
       "<table border=\"1\" class=\"dataframe\">\n",
       "  <thead>\n",
       "    <tr style=\"text-align: right;\">\n",
       "      <th></th>\n",
       "      <th>DER</th>\n",
       "      <th>Operating Profit Margin</th>\n",
       "      <th>Sales Growth</th>\n",
       "    </tr>\n",
       "  </thead>\n",
       "  <tbody>\n",
       "    <tr>\n",
       "      <th>count</th>\n",
       "      <td>1.900000e+01</td>\n",
       "      <td>1.900000e+01</td>\n",
       "      <td>19.000000</td>\n",
       "    </tr>\n",
       "    <tr>\n",
       "      <th>mean</th>\n",
       "      <td>3.213803e-17</td>\n",
       "      <td>2.045148e-17</td>\n",
       "      <td>0.000000</td>\n",
       "    </tr>\n",
       "    <tr>\n",
       "      <th>std</th>\n",
       "      <td>1.027402e+00</td>\n",
       "      <td>1.027402e+00</td>\n",
       "      <td>1.027402</td>\n",
       "    </tr>\n",
       "    <tr>\n",
       "      <th>min</th>\n",
       "      <td>-3.834731e-01</td>\n",
       "      <td>-6.438591e-01</td>\n",
       "      <td>-2.002435</td>\n",
       "    </tr>\n",
       "    <tr>\n",
       "      <th>25%</th>\n",
       "      <td>-3.508688e-01</td>\n",
       "      <td>-2.636749e-01</td>\n",
       "      <td>-0.466406</td>\n",
       "    </tr>\n",
       "    <tr>\n",
       "      <th>50%</th>\n",
       "      <td>-2.924736e-01</td>\n",
       "      <td>-2.366242e-01</td>\n",
       "      <td>0.006219</td>\n",
       "    </tr>\n",
       "    <tr>\n",
       "      <th>75%</th>\n",
       "      <td>-2.032896e-01</td>\n",
       "      <td>-1.520600e-01</td>\n",
       "      <td>0.478843</td>\n",
       "    </tr>\n",
       "    <tr>\n",
       "      <th>max</th>\n",
       "      <td>4.156930e+00</td>\n",
       "      <td>4.213370e+00</td>\n",
       "      <td>2.723809</td>\n",
       "    </tr>\n",
       "  </tbody>\n",
       "</table>\n",
       "</div>"
      ],
      "text/plain": [
       "                DER  Operating Profit Margin  Sales Growth\n",
       "count  1.900000e+01             1.900000e+01     19.000000\n",
       "mean   3.213803e-17             2.045148e-17      0.000000\n",
       "std    1.027402e+00             1.027402e+00      1.027402\n",
       "min   -3.834731e-01            -6.438591e-01     -2.002435\n",
       "25%   -3.508688e-01            -2.636749e-01     -0.466406\n",
       "50%   -2.924736e-01            -2.366242e-01      0.006219\n",
       "75%   -2.032896e-01            -1.520600e-01      0.478843\n",
       "max    4.156930e+00             4.213370e+00      2.723809"
      ]
     },
     "execution_count": 13,
     "metadata": {},
     "output_type": "execute_result"
    }
   ],
   "source": [
    "feats = ['DER','Operating Profit Margin','Sales Growth']\n",
    "X = df1[feats].values\n",
    "y = df1['Category'].values\n",
    "\n",
    "from sklearn.preprocessing import StandardScaler\n",
    "X_std = StandardScaler().fit_transform(X)\n",
    "new_df = pd.DataFrame(data = X_std, columns = feats)\n",
    "new_df.describe()"
   ]
  },
  {
   "cell_type": "markdown",
   "id": "b38002b8",
   "metadata": {
    "papermill": {
     "duration": 0.055013,
     "end_time": "2022-04-19T13:18:19.004972",
     "exception": false,
     "start_time": "2022-04-19T13:18:18.949959",
     "status": "completed"
    },
    "tags": []
   },
   "source": [
    "# **Melakukan K-Means**"
   ]
  },
  {
   "cell_type": "code",
   "execution_count": 14,
   "id": "a64052e5",
   "metadata": {
    "execution": {
     "iopub.execute_input": "2022-04-19T13:18:19.115936Z",
     "iopub.status.busy": "2022-04-19T13:18:19.115654Z",
     "iopub.status.idle": "2022-04-19T13:18:20.718043Z",
     "shell.execute_reply": "2022-04-19T13:18:20.717090Z"
    },
    "papermill": {
     "duration": 1.659922,
     "end_time": "2022-04-19T13:18:20.720316",
     "exception": false,
     "start_time": "2022-04-19T13:18:19.060394",
     "status": "completed"
    },
    "tags": []
   },
   "outputs": [
    {
     "data": {
      "text/plain": [
       "[<matplotlib.lines.Line2D at 0x7f7ea9c137d0>]"
      ]
     },
     "execution_count": 14,
     "metadata": {},
     "output_type": "execute_result"
    },
    {
     "data": {
      "image/png": "[encoded data removed]",
      "text/plain": [
       "<Figure size 864x432 with 1 Axes>"
      ]
     },
     "metadata": {
      "needs_background": "light"
     },
     "output_type": "display_data"
    }
   ],
   "source": [
    "from sklearn.cluster import KMeans\n",
    "inertia = []\n",
    "\n",
    "for i in range(1, 11):\n",
    "  kmeans = KMeans(n_clusters=i, init='k-means++', max_iter=300, n_init=10, random_state=0)\n",
    "  kmeans.fit(new_df.values)\n",
    "  inertia.append(kmeans.inertia_)\n",
    "\n",
    "plt.figure(figsize=(12, 6))\n",
    "plt.plot(inertia) #Elbow Method"
   ]
  },
  {
   "cell_type": "markdown",
   "id": "346688e3",
   "metadata": {
    "papermill": {
     "duration": 0.055282,
     "end_time": "2022-04-19T13:18:20.830934",
     "exception": false,
     "start_time": "2022-04-19T13:18:20.775652",
     "status": "completed"
    },
    "tags": []
   },
   "source": [
    "# **2.5 Pilih Jumlah Cluster**"
   ]
  },
  {
   "cell_type": "code",
   "execution_count": 15,
   "id": "e67aaa95",
   "metadata": {
    "execution": {
     "iopub.execute_input": "2022-04-19T13:18:20.943854Z",
     "iopub.status.busy": "2022-04-19T13:18:20.943561Z",
     "iopub.status.idle": "2022-04-19T13:18:20.973813Z",
     "shell.execute_reply": "2022-04-19T13:18:20.973141Z"
    },
    "papermill": {
     "duration": 0.089493,
     "end_time": "2022-04-19T13:18:20.975778",
     "exception": false,
     "start_time": "2022-04-19T13:18:20.886285",
     "status": "completed"
    },
    "tags": []
   },
   "outputs": [
    {
     "data": {
      "text/plain": [
       "KMeans(n_clusters=5, random_state=0)"
      ]
     },
     "execution_count": 15,
     "metadata": {},
     "output_type": "execute_result"
    }
   ],
   "source": [
    "from sklearn.cluster import KMeans\n",
    "kmeans = KMeans(n_clusters=5, init='k-means++', max_iter=300, n_init=10, random_state=0)\n",
    "kmeans.fit(new_df.values)"
   ]
  },
  {
   "cell_type": "code",
   "execution_count": 16,
   "id": "dcd3f81e",
   "metadata": {
    "execution": {
     "iopub.execute_input": "2022-04-19T13:18:21.089685Z",
     "iopub.status.busy": "2022-04-19T13:18:21.089405Z",
     "iopub.status.idle": "2022-04-19T13:18:21.095355Z",
     "shell.execute_reply": "2022-04-19T13:18:21.094780Z"
    },
    "papermill": {
     "duration": 0.0643,
     "end_time": "2022-04-19T13:18:21.097299",
     "exception": false,
     "start_time": "2022-04-19T13:18:21.032999",
     "status": "completed"
    },
    "tags": []
   },
   "outputs": [],
   "source": [
    "new_df['target'] = y\n",
    "new_df['fit'] = kmeans.labels_"
   ]
  },
  {
   "cell_type": "markdown",
   "id": "26470acd",
   "metadata": {
    "papermill": {
     "duration": 0.055066,
     "end_time": "2022-04-19T13:18:21.207724",
     "exception": false,
     "start_time": "2022-04-19T13:18:21.152658",
     "status": "completed"
    },
    "tags": []
   },
   "source": [
    "# **2.6 Plot Cluster**"
   ]
  },
  {
   "cell_type": "code",
   "execution_count": 17,
   "id": "2885cbd8",
   "metadata": {
    "execution": {
     "iopub.execute_input": "2022-04-19T13:18:21.320937Z",
     "iopub.status.busy": "2022-04-19T13:18:21.320173Z",
     "iopub.status.idle": "2022-04-19T13:18:21.539141Z",
     "shell.execute_reply": "2022-04-19T13:18:21.538266Z"
    },
    "papermill": {
     "duration": 0.277993,
     "end_time": "2022-04-19T13:18:21.541200",
     "exception": false,
     "start_time": "2022-04-19T13:18:21.263207",
     "status": "completed"
    },
    "tags": []
   },
   "outputs": [
    {
     "data": {
      "image/png": "[encoded data removed]",
      "text/plain": [
       "<Figure size 576x576 with 1 Axes>"
      ]
     },
     "metadata": {
      "needs_background": "light"
     },
     "output_type": "display_data"
    }
   ],
   "source": [
    "plt.rcParams[\"figure.figsize\"] = (8, 8)\n",
    "sns.scatterplot(x='DER', y='Operating Profit Margin', hue=new_df.target.to_list(), data=new_df);"
   ]
  },
  {
   "cell_type": "code",
   "execution_count": 18,
   "id": "a15c0626",
   "metadata": {
    "execution": {
     "iopub.execute_input": "2022-04-19T13:18:21.665318Z",
     "iopub.status.busy": "2022-04-19T13:18:21.664901Z",
     "iopub.status.idle": "2022-04-19T13:18:21.676958Z",
     "shell.execute_reply": "2022-04-19T13:18:21.675956Z"
    },
    "papermill": {
     "duration": 0.081841,
     "end_time": "2022-04-19T13:18:21.679177",
     "exception": false,
     "start_time": "2022-04-19T13:18:21.597336",
     "status": "completed"
    },
    "tags": []
   },
   "outputs": [
    {
     "data": {
      "text/html": [
       "<div>\n",
       "<style scoped>\n",
       "    .dataframe tbody tr th:only-of-type {\n",
       "        vertical-align: middle;\n",
       "    }\n",
       "\n",
       "    .dataframe tbody tr th {\n",
       "        vertical-align: top;\n",
       "    }\n",
       "\n",
       "    .dataframe thead th {\n",
       "        text-align: right;\n",
       "    }\n",
       "</style>\n",
       "<table border=\"1\" class=\"dataframe\">\n",
       "  <thead>\n",
       "    <tr style=\"text-align: right;\">\n",
       "      <th></th>\n",
       "      <th>DER</th>\n",
       "      <th>Operating Profit Margin</th>\n",
       "      <th>Sales Growth</th>\n",
       "      <th>target</th>\n",
       "      <th>fit</th>\n",
       "    </tr>\n",
       "  </thead>\n",
       "  <tbody>\n",
       "    <tr>\n",
       "      <th>0</th>\n",
       "      <td>0.208527</td>\n",
       "      <td>-0.089974</td>\n",
       "      <td>0.124375</td>\n",
       "      <td>NaN</td>\n",
       "      <td>0</td>\n",
       "    </tr>\n",
       "    <tr>\n",
       "      <th>1</th>\n",
       "      <td>-0.383473</td>\n",
       "      <td>-0.272245</td>\n",
       "      <td>-2.002435</td>\n",
       "      <td>NaN</td>\n",
       "      <td>2</td>\n",
       "    </tr>\n",
       "    <tr>\n",
       "      <th>2</th>\n",
       "      <td>-0.322927</td>\n",
       "      <td>-0.183453</td>\n",
       "      <td>0.951468</td>\n",
       "      <td>NaN</td>\n",
       "      <td>0</td>\n",
       "    </tr>\n",
       "    <tr>\n",
       "      <th>3</th>\n",
       "      <td>-0.260493</td>\n",
       "      <td>-0.321663</td>\n",
       "      <td>-0.820874</td>\n",
       "      <td>NaN</td>\n",
       "      <td>4</td>\n",
       "    </tr>\n",
       "    <tr>\n",
       "      <th>4</th>\n",
       "      <td>-0.356067</td>\n",
       "      <td>-0.268703</td>\n",
       "      <td>-0.466406</td>\n",
       "      <td>NaN</td>\n",
       "      <td>4</td>\n",
       "    </tr>\n",
       "  </tbody>\n",
       "</table>\n",
       "</div>"
      ],
      "text/plain": [
       "        DER  Operating Profit Margin  Sales Growth  target  fit\n",
       "0  0.208527                -0.089974      0.124375     NaN    0\n",
       "1 -0.383473                -0.272245     -2.002435     NaN    2\n",
       "2 -0.322927                -0.183453      0.951468     NaN    0\n",
       "3 -0.260493                -0.321663     -0.820874     NaN    4\n",
       "4 -0.356067                -0.268703     -0.466406     NaN    4"
      ]
     },
     "execution_count": 18,
     "metadata": {},
     "output_type": "execute_result"
    }
   ],
   "source": [
    "new_df.head(5)"
   ]
  },
  {
   "cell_type": "code",
   "execution_count": 19,
   "id": "04460960",
   "metadata": {
    "execution": {
     "iopub.execute_input": "2022-04-19T13:18:21.796690Z",
     "iopub.status.busy": "2022-04-19T13:18:21.795851Z",
     "iopub.status.idle": "2022-04-19T13:18:21.815052Z",
     "shell.execute_reply": "2022-04-19T13:18:21.814252Z"
    },
    "papermill": {
     "duration": 0.080852,
     "end_time": "2022-04-19T13:18:21.817119",
     "exception": false,
     "start_time": "2022-04-19T13:18:21.736267",
     "status": "completed"
    },
    "tags": []
   },
   "outputs": [
    {
     "data": {
      "text/html": [
       "<div>\n",
       "<style scoped>\n",
       "    .dataframe tbody tr th:only-of-type {\n",
       "        vertical-align: middle;\n",
       "    }\n",
       "\n",
       "    .dataframe tbody tr th {\n",
       "        vertical-align: top;\n",
       "    }\n",
       "\n",
       "    .dataframe thead th {\n",
       "        text-align: right;\n",
       "    }\n",
       "</style>\n",
       "<table border=\"1\" class=\"dataframe\">\n",
       "  <thead>\n",
       "    <tr style=\"text-align: right;\">\n",
       "      <th></th>\n",
       "      <th>Category</th>\n",
       "      <th>DER</th>\n",
       "      <th>Operating Profit Margin</th>\n",
       "      <th>Sales Growth</th>\n",
       "      <th>target</th>\n",
       "      <th>fit</th>\n",
       "    </tr>\n",
       "  </thead>\n",
       "  <tbody>\n",
       "    <tr>\n",
       "      <th>0</th>\n",
       "      <td>2</td>\n",
       "      <td>0.208527</td>\n",
       "      <td>-0.089974</td>\n",
       "      <td>0.124375</td>\n",
       "      <td>NaN</td>\n",
       "      <td>0</td>\n",
       "    </tr>\n",
       "    <tr>\n",
       "      <th>1</th>\n",
       "      <td>1</td>\n",
       "      <td>-0.383473</td>\n",
       "      <td>-0.272245</td>\n",
       "      <td>-2.002435</td>\n",
       "      <td>NaN</td>\n",
       "      <td>2</td>\n",
       "    </tr>\n",
       "    <tr>\n",
       "      <th>2</th>\n",
       "      <td>2</td>\n",
       "      <td>-0.322927</td>\n",
       "      <td>-0.183453</td>\n",
       "      <td>0.951468</td>\n",
       "      <td>NaN</td>\n",
       "      <td>0</td>\n",
       "    </tr>\n",
       "    <tr>\n",
       "      <th>3</th>\n",
       "      <td>3</td>\n",
       "      <td>-0.260493</td>\n",
       "      <td>-0.321663</td>\n",
       "      <td>-0.820874</td>\n",
       "      <td>NaN</td>\n",
       "      <td>4</td>\n",
       "    </tr>\n",
       "    <tr>\n",
       "      <th>4</th>\n",
       "      <td>3</td>\n",
       "      <td>-0.356067</td>\n",
       "      <td>-0.268703</td>\n",
       "      <td>-0.466406</td>\n",
       "      <td>NaN</td>\n",
       "      <td>4</td>\n",
       "    </tr>\n",
       "  </tbody>\n",
       "</table>\n",
       "</div>"
      ],
      "text/plain": [
       "   Category       DER  Operating Profit Margin  Sales Growth  target  fit\n",
       "0         2  0.208527                -0.089974      0.124375     NaN    0\n",
       "1         1 -0.383473                -0.272245     -2.002435     NaN    2\n",
       "2         2 -0.322927                -0.183453      0.951468     NaN    0\n",
       "3         3 -0.260493                -0.321663     -0.820874     NaN    4\n",
       "4         3 -0.356067                -0.268703     -0.466406     NaN    4"
      ]
     },
     "execution_count": 19,
     "metadata": {},
     "output_type": "execute_result"
    }
   ],
   "source": [
    "new_df.insert(0,\"Category\",np.nan,True)\n",
    "new_df.loc[new_df['fit'] == 0, 'Category'] = 2\n",
    "new_df.loc[new_df['fit'] == 1, 'Category'] = 4\n",
    "new_df.loc[new_df['fit'] == 2, 'Category'] = 1\n",
    "new_df.loc[new_df['fit'] == 3, 'Category'] = 0\n",
    "new_df.loc[new_df['fit'] == 4, 'Category'] = 3\n",
    "new_df['Category'] = new_df['Category'].astype(int)\n",
    "new_df.head(5)"
   ]
  },
  {
   "cell_type": "code",
   "execution_count": 20,
   "id": "fc904d9f",
   "metadata": {
    "execution": {
     "iopub.execute_input": "2022-04-19T13:18:21.934447Z",
     "iopub.status.busy": "2022-04-19T13:18:21.934027Z",
     "iopub.status.idle": "2022-04-19T13:18:21.947093Z",
     "shell.execute_reply": "2022-04-19T13:18:21.946239Z"
    },
    "papermill": {
     "duration": 0.074705,
     "end_time": "2022-04-19T13:18:21.949775",
     "exception": false,
     "start_time": "2022-04-19T13:18:21.875070",
     "status": "completed"
    },
    "tags": []
   },
   "outputs": [
    {
     "name": "stdout",
     "output_type": "stream",
     "text": [
      "<class 'pandas.core.frame.DataFrame'>\n",
      "RangeIndex: 19 entries, 0 to 18\n",
      "Data columns (total 4 columns):\n",
      " #   Column                         Non-Null Count  Dtype  \n",
      "---  ------                         --------------  -----  \n",
      " 0   Category                       19 non-null     int64  \n",
      " 1   DER (St.)                      19 non-null     float64\n",
      " 2   Operating Profit Margin (St.)  19 non-null     float64\n",
      " 3   Sales Growth (St.)             19 non-null     float64\n",
      "dtypes: float64(3), int64(1)\n",
      "memory usage: 736.0 bytes\n"
     ]
    }
   ],
   "source": [
    "new_df.drop([\"fit\",\"target\"], axis=1, inplace=True)\n",
    "new_df.columns = ['Category','DER (St.)','Operating Profit Margin (St.)', 'Sales Growth (St.)']\n",
    "new_df.info()"
   ]
  },
  {
   "cell_type": "markdown",
   "id": "44ea380f",
   "metadata": {
    "papermill": {
     "duration": 0.057819,
     "end_time": "2022-04-19T13:18:22.064876",
     "exception": false,
     "start_time": "2022-04-19T13:18:22.007057",
     "status": "completed"
    },
    "tags": []
   },
   "source": [
    "# **2.6.1 3D Scatter Plot**"
   ]
  },
  {
   "cell_type": "code",
   "execution_count": 21,
   "id": "574f02c1",
   "metadata": {
    "execution": {
     "iopub.execute_input": "2022-04-19T13:18:22.183015Z",
     "iopub.status.busy": "2022-04-19T13:18:22.182578Z",
     "iopub.status.idle": "2022-04-19T13:18:22.733300Z",
     "shell.execute_reply": "2022-04-19T13:18:22.732528Z"
    },
    "papermill": {
     "duration": 0.612687,
     "end_time": "2022-04-19T13:18:22.735209",
     "exception": false,
     "start_time": "2022-04-19T13:18:22.122522",
     "status": "completed"
    },
    "tags": []
   },
   "outputs": [
    {
     "data": {
      "image/png": "[encoded data removed]",
      "text/plain": [
       "<Figure size 576x576 with 1 Axes>"
      ]
     },
     "metadata": {
      "needs_background": "light"
     },
     "output_type": "display_data"
    }
   ],
   "source": [
    "from mpl_toolkits.mplot3d import Axes3D\n",
    "\n",
    "fig = plt.figure()\n",
    "ax = fig.add_subplot(111, projection = '3d')\n",
    "\n",
    "\n",
    "x = new_df['DER (St.)']\n",
    "y = new_df['Operating Profit Margin (St.)']\n",
    "z = new_df['Sales Growth (St.)']\n",
    "\n",
    "ax.set_xlabel(\"DER (St.)\")\n",
    "ax.set_ylabel(\"Operating Profit Margin (St.)\")\n",
    "ax.set_zlabel(\"Sales Growth (St.)\")\n",
    "\n",
    "cmap = ListedColormap(sns.color_palette(\"RdYlGn\", 256).as_hex())\n",
    "\n",
    "sc = ax.scatter(x, y, z, s=40, c=new_df['Category'], marker='o', cmap=cmap, alpha=1)\n",
    "plt.legend(*sc.legend_elements(), bbox_to_anchor=(1.05, 1), loc=2)\n",
    "\n",
    "plt.show()"
   ]
  },
  {
   "cell_type": "markdown",
   "id": "e89b9127",
   "metadata": {
    "papermill": {
     "duration": 0.059016,
     "end_time": "2022-04-19T13:18:22.854172",
     "exception": false,
     "start_time": "2022-04-19T13:18:22.795156",
     "status": "completed"
    },
    "tags": []
   },
   "source": [
    "# **2.6.2 X vs Z View**"
   ]
  },
  {
   "cell_type": "code",
   "execution_count": 22,
   "id": "abccdce0",
   "metadata": {
    "execution": {
     "iopub.execute_input": "2022-04-19T13:18:22.976129Z",
     "iopub.status.busy": "2022-04-19T13:18:22.975412Z",
     "iopub.status.idle": "2022-04-19T13:18:23.291458Z",
     "shell.execute_reply": "2022-04-19T13:18:23.290328Z"
    },
    "papermill": {
     "duration": 0.379219,
     "end_time": "2022-04-19T13:18:23.293624",
     "exception": false,
     "start_time": "2022-04-19T13:18:22.914405",
     "status": "completed"
    },
    "tags": []
   },
   "outputs": [
    {
     "data": {
      "image/png": "[encoded data removed]",
      "text/plain": [
       "<Figure size 576x576 with 1 Axes>"
      ]
     },
     "metadata": {
      "needs_background": "light"
     },
     "output_type": "display_data"
    }
   ],
   "source": [
    "# color palette as dictionary\n",
    "palette = {0:\"tab:red\",\n",
    "           1:\"tab:orange\", \n",
    "           2:\"lime\",\n",
    "           3:\"yellow\",\n",
    "           4:\"darkgreen\"}\n",
    "\n",
    "sns.scatterplot(x='DER (St.)', y='Sales Growth (St.)', \n",
    "                hue='Category', data=new_df, s=80,\n",
    "                palette=palette)\n",
    "plt.title(\"DER vs Sales Growth (Standardisasi)\", fontsize=18, y=1.05)\n",
    "plt.show()"
   ]
  },
  {
   "cell_type": "markdown",
   "id": "f13e32bb",
   "metadata": {
    "papermill": {
     "duration": 0.062417,
     "end_time": "2022-04-19T13:18:23.417350",
     "exception": false,
     "start_time": "2022-04-19T13:18:23.354933",
     "status": "completed"
    },
    "tags": []
   },
   "source": [
    "# **2.6.3 Y vs Z View**"
   ]
  },
  {
   "cell_type": "code",
   "execution_count": 23,
   "id": "42ac1a72",
   "metadata": {
    "execution": {
     "iopub.execute_input": "2022-04-19T13:18:23.541120Z",
     "iopub.status.busy": "2022-04-19T13:18:23.540763Z",
     "iopub.status.idle": "2022-04-19T13:18:23.849627Z",
     "shell.execute_reply": "2022-04-19T13:18:23.848810Z"
    },
    "papermill": {
     "duration": 0.373645,
     "end_time": "2022-04-19T13:18:23.852018",
     "exception": false,
     "start_time": "2022-04-19T13:18:23.478373",
     "status": "completed"
    },
    "tags": []
   },
   "outputs": [
    {
     "data": {
      "image/png": "[encoded data removed]",
      "text/plain": [
       "<Figure size 576x576 with 1 Axes>"
      ]
     },
     "metadata": {
      "needs_background": "light"
     },
     "output_type": "display_data"
    }
   ],
   "source": [
    "sns.scatterplot(x='Operating Profit Margin (St.)', y='Sales Growth (St.)', \n",
    "                hue='Category', data=new_df, s=80,\n",
    "                palette=palette)\n",
    "plt.title(\"Operating Profit Margin vs Sales Growth (Standardisasi)\", fontsize=18, y=1.05)\n",
    "plt.show()"
   ]
  },
  {
   "cell_type": "markdown",
   "id": "218760b0",
   "metadata": {
    "papermill": {
     "duration": 0.06181,
     "end_time": "2022-04-19T13:18:23.976961",
     "exception": false,
     "start_time": "2022-04-19T13:18:23.915151",
     "status": "completed"
    },
    "tags": []
   },
   "source": [
    "# **X vs Y View**"
   ]
  },
  {
   "cell_type": "code",
   "execution_count": 24,
   "id": "fbae8444",
   "metadata": {
    "execution": {
     "iopub.execute_input": "2022-04-19T13:18:24.102307Z",
     "iopub.status.busy": "2022-04-19T13:18:24.102034Z",
     "iopub.status.idle": "2022-04-19T13:18:24.417047Z",
     "shell.execute_reply": "2022-04-19T13:18:24.415959Z"
    },
    "papermill": {
     "duration": 0.381108,
     "end_time": "2022-04-19T13:18:24.419970",
     "exception": false,
     "start_time": "2022-04-19T13:18:24.038862",
     "status": "completed"
    },
    "tags": []
   },
   "outputs": [
    {
     "data": {
      "image/png": "[encoded data removed]",
      "text/plain": [
       "<Figure size 576x576 with 1 Axes>"
      ]
     },
     "metadata": {
      "needs_background": "light"
     },
     "output_type": "display_data"
    }
   ],
   "source": [
    "sns.scatterplot(x='DER (St.)', y='Operating Profit Margin (St.)', \n",
    "                hue='Category', data=new_df, s=80,\n",
    "                palette=palette)\n",
    "plt.title(\"DER vs Operating Profit Margin (Standardisasi)\", fontsize=18, y=1.05)\n",
    "plt.show()"
   ]
  },
  {
   "cell_type": "markdown",
   "id": "f5be4ae6",
   "metadata": {
    "papermill": {
     "duration": 0.063845,
     "end_time": "2022-04-19T13:18:24.559037",
     "exception": false,
     "start_time": "2022-04-19T13:18:24.495192",
     "status": "completed"
    },
    "tags": []
   },
   "source": [
    "# **3 Export Result**"
   ]
  },
  {
   "cell_type": "code",
   "execution_count": 25,
   "id": "db5174b0",
   "metadata": {
    "execution": {
     "iopub.execute_input": "2022-04-19T13:18:24.687158Z",
     "iopub.status.busy": "2022-04-19T13:18:24.686882Z",
     "iopub.status.idle": "2022-04-19T13:18:24.694274Z",
     "shell.execute_reply": "2022-04-19T13:18:24.693690Z"
    },
    "papermill": {
     "duration": 0.07351,
     "end_time": "2022-04-19T13:18:24.696064",
     "exception": false,
     "start_time": "2022-04-19T13:18:24.622554",
     "status": "completed"
    },
    "tags": []
   },
   "outputs": [],
   "source": [
    "index_names = df0[ df0['Emitten'] == 'ARTO' ].index\n",
    "df0.drop(index_names, inplace = True)\n",
    "df0.reset_index(drop=True, inplace=True)\n",
    "df0.drop([\"Category\",\n",
    "         ], axis=1, inplace=True)"
   ]
  },
  {
   "cell_type": "code",
   "execution_count": 26,
   "id": "9160cbff",
   "metadata": {
    "execution": {
     "iopub.execute_input": "2022-04-19T13:18:24.824289Z",
     "iopub.status.busy": "2022-04-19T13:18:24.823781Z",
     "iopub.status.idle": "2022-04-19T13:18:24.847616Z",
     "shell.execute_reply": "2022-04-19T13:18:24.847036Z"
    },
    "papermill": {
     "duration": 0.090116,
     "end_time": "2022-04-19T13:18:24.849314",
     "exception": false,
     "start_time": "2022-04-19T13:18:24.759198",
     "status": "completed"
    },
    "tags": []
   },
   "outputs": [
    {
     "data": {
      "text/html": [
       "<div>\n",
       "<style scoped>\n",
       "    .dataframe tbody tr th:only-of-type {\n",
       "        vertical-align: middle;\n",
       "    }\n",
       "\n",
       "    .dataframe tbody tr th {\n",
       "        vertical-align: top;\n",
       "    }\n",
       "\n",
       "    .dataframe thead th {\n",
       "        text-align: right;\n",
       "    }\n",
       "</style>\n",
       "<table border=\"1\" class=\"dataframe\">\n",
       "  <thead>\n",
       "    <tr style=\"text-align: right;\">\n",
       "      <th></th>\n",
       "      <th>Industry</th>\n",
       "      <th>Company</th>\n",
       "      <th>Category</th>\n",
       "      <th>DER (St.)</th>\n",
       "      <th>Operating Profit Margin (St.)</th>\n",
       "      <th>Sales Growth (St.)</th>\n",
       "      <th>Emitten</th>\n",
       "      <th>DER</th>\n",
       "      <th>Operating Profit Margin</th>\n",
       "      <th>Return on Assets</th>\n",
       "      <th>Sales Growth</th>\n",
       "      <th>Unnamed: 6</th>\n",
       "    </tr>\n",
       "  </thead>\n",
       "  <tbody>\n",
       "    <tr>\n",
       "      <th>0</th>\n",
       "      <td>Food and Beverages</td>\n",
       "      <td>Daimond  Food Indonesia Tbk.</td>\n",
       "      <td>2.0</td>\n",
       "      <td>0.208527</td>\n",
       "      <td>-0.089974</td>\n",
       "      <td>0.124375</td>\n",
       "      <td>DMND</td>\n",
       "      <td>4449.058000</td>\n",
       "      <td>165.027000</td>\n",
       "      <td>0.24</td>\n",
       "      <td>0.04</td>\n",
       "      <td>NaN</td>\n",
       "    </tr>\n",
       "    <tr>\n",
       "      <th>1</th>\n",
       "      <td>Food and Beverages</td>\n",
       "      <td>Prima Cakrawala Abadi Tbk.</td>\n",
       "      <td>1.0</td>\n",
       "      <td>-0.383473</td>\n",
       "      <td>-0.272245</td>\n",
       "      <td>-2.002435</td>\n",
       "      <td>PCAR</td>\n",
       "      <td>33.821513</td>\n",
       "      <td>-11.714724</td>\n",
       "      <td>0.56</td>\n",
       "      <td>-0.14</td>\n",
       "      <td>NaN</td>\n",
       "    </tr>\n",
       "    <tr>\n",
       "      <th>2</th>\n",
       "      <td>Food and Beverages</td>\n",
       "      <td>Akasha Wira International Tbk.</td>\n",
       "      <td>2.0</td>\n",
       "      <td>-0.322927</td>\n",
       "      <td>-0.183453</td>\n",
       "      <td>0.951468</td>\n",
       "      <td>ADES</td>\n",
       "      <td>485.384000</td>\n",
       "      <td>74.384000</td>\n",
       "      <td>0.39</td>\n",
       "      <td>0.11</td>\n",
       "      <td>NaN</td>\n",
       "    </tr>\n",
       "    <tr>\n",
       "      <th>3</th>\n",
       "      <td>Food and Beverages</td>\n",
       "      <td>FKS Food Sejahtera Tbk.</td>\n",
       "      <td>3.0</td>\n",
       "      <td>-0.260493</td>\n",
       "      <td>-0.321663</td>\n",
       "      <td>-0.820874</td>\n",
       "      <td>AISA</td>\n",
       "      <td>951.024000</td>\n",
       "      <td>-59.633000</td>\n",
       "      <td>-2.54</td>\n",
       "      <td>-0.04</td>\n",
       "      <td>NaN</td>\n",
       "    </tr>\n",
       "    <tr>\n",
       "      <th>4</th>\n",
       "      <td>Food and Beverages</td>\n",
       "      <td>Tri Banyan Tirta Tbk.</td>\n",
       "      <td>3.0</td>\n",
       "      <td>-0.356067</td>\n",
       "      <td>-0.268703</td>\n",
       "      <td>-0.466406</td>\n",
       "      <td>ALTO</td>\n",
       "      <td>238.218141</td>\n",
       "      <td>-8.280273</td>\n",
       "      <td>1.96</td>\n",
       "      <td>-0.01</td>\n",
       "      <td>NaN</td>\n",
       "    </tr>\n",
       "  </tbody>\n",
       "</table>\n",
       "</div>"
      ],
      "text/plain": [
       "             Industry                         Company  Category  DER (St.)  \\\n",
       "0  Food and Beverages    Daimond  Food Indonesia Tbk.       2.0   0.208527   \n",
       "1  Food and Beverages      Prima Cakrawala Abadi Tbk.       1.0  -0.383473   \n",
       "2  Food and Beverages  Akasha Wira International Tbk.       2.0  -0.322927   \n",
       "3  Food and Beverages         FKS Food Sejahtera Tbk.       3.0  -0.260493   \n",
       "4  Food and Beverages           Tri Banyan Tirta Tbk.       3.0  -0.356067   \n",
       "\n",
       "   Operating Profit Margin (St.)  Sales Growth (St.) Emitten          DER  \\\n",
       "0                      -0.089974            0.124375    DMND  4449.058000   \n",
       "1                      -0.272245           -2.002435    PCAR    33.821513   \n",
       "2                      -0.183453            0.951468    ADES   485.384000   \n",
       "3                      -0.321663           -0.820874    AISA   951.024000   \n",
       "4                      -0.268703           -0.466406    ALTO   238.218141   \n",
       "\n",
       "   Operating Profit Margin  Return on Assets  Sales Growth  Unnamed: 6  \n",
       "0               165.027000              0.24          0.04         NaN  \n",
       "1               -11.714724              0.56         -0.14         NaN  \n",
       "2                74.384000              0.39          0.11         NaN  \n",
       "3               -59.633000             -2.54         -0.04         NaN  \n",
       "4                -8.280273              1.96         -0.01         NaN  "
      ]
     },
     "execution_count": 26,
     "metadata": {},
     "output_type": "execute_result"
    }
   ],
   "source": [
    "dftemp = pd.read_csv('../input/resultfb/resultFB.csv')\n",
    "df = pd.concat([dftemp, new_df, df0], axis=1)\n",
    "df.head(5)"
   ]
  },
  {
   "cell_type": "code",
   "execution_count": 27,
   "id": "4e8a9f05",
   "metadata": {
    "execution": {
     "iopub.execute_input": "2022-04-19T13:18:24.979057Z",
     "iopub.status.busy": "2022-04-19T13:18:24.978633Z",
     "iopub.status.idle": "2022-04-19T13:18:24.985357Z",
     "shell.execute_reply": "2022-04-19T13:18:24.984794Z"
    },
    "papermill": {
     "duration": 0.073621,
     "end_time": "2022-04-19T13:18:24.987248",
     "exception": false,
     "start_time": "2022-04-19T13:18:24.913627",
     "status": "completed"
    },
    "tags": []
   },
   "outputs": [],
   "source": [
    "df.to_csv('resultFB.csv', index = False)"
   ]
  },
  {
   "cell_type": "markdown",
   "id": "e460f5f5",
   "metadata": {
    "papermill": {
     "duration": 0.064051,
     "end_time": "2022-04-19T13:18:25.114737",
     "exception": false,
     "start_time": "2022-04-19T13:18:25.050686",
     "status": "completed"
    },
    "tags": []
   },
   "source": [
    "# **4 Get Centroid**"
   ]
  },
  {
   "cell_type": "code",
   "execution_count": 28,
   "id": "5d562adc",
   "metadata": {
    "execution": {
     "iopub.execute_input": "2022-04-19T13:18:25.243478Z",
     "iopub.status.busy": "2022-04-19T13:18:25.242997Z",
     "iopub.status.idle": "2022-04-19T13:18:25.248205Z",
     "shell.execute_reply": "2022-04-19T13:18:25.247660Z"
    },
    "papermill": {
     "duration": 0.071895,
     "end_time": "2022-04-19T13:18:25.249941",
     "exception": false,
     "start_time": "2022-04-19T13:18:25.178046",
     "status": "completed"
    },
    "tags": []
   },
   "outputs": [
    {
     "data": {
      "text/plain": [
       "array([[-0.09703814, -0.15031561,  0.56324034],\n",
       "       [ 4.15692981,  4.21337019,  0.24253094],\n",
       "       [-0.32387566, -0.45805212, -1.76612271],\n",
       "       [-0.29578937, -0.13725035,  2.72380896],\n",
       "       [-0.31676527, -0.26347579, -0.42209711]])"
      ]
     },
     "execution_count": 28,
     "metadata": {},
     "output_type": "execute_result"
    }
   ],
   "source": [
    "kmeans.cluster_centers_"
   ]
  },
  {
   "cell_type": "code",
   "execution_count": 29,
   "id": "4c098ee0",
   "metadata": {
    "execution": {
     "iopub.execute_input": "2022-04-19T13:18:25.381042Z",
     "iopub.status.busy": "2022-04-19T13:18:25.380449Z",
     "iopub.status.idle": "2022-04-19T13:18:25.612728Z",
     "shell.execute_reply": "2022-04-19T13:18:25.611874Z"
    },
    "papermill": {
     "duration": 0.300953,
     "end_time": "2022-04-19T13:18:25.614848",
     "exception": false,
     "start_time": "2022-04-19T13:18:25.313895",
     "status": "completed"
    },
    "tags": []
   },
   "outputs": [
    {
     "data": {
      "image/png": "[encoded data removed]",
      "text/plain": [
       "<Figure size 576x576 with 1 Axes>"
      ]
     },
     "metadata": {
      "needs_background": "light"
     },
     "output_type": "display_data"
    }
   ],
   "source": [
    "from mpl_toolkits.mplot3d import Axes3D\n",
    "\n",
    "fig = plt.figure()\n",
    "ax = fig.add_subplot(111, projection = '3d')\n",
    "x = [0.07796577,3.3825386,-0.19978728,-0.22183117,-0.32525515]\n",
    "y = [1.27721216,-0.22442569,-1.39490532,0.15549501,-0.03911061]\n",
    "z = [-0.22773712,0.35006475,-0.89274149,4.44060221,0.14030381]\n",
    "\n",
    "ax.set_xlabel(\"DER (St.)\")\n",
    "ax.set_ylabel(\"Operating Profit Margin (St.)\")\n",
    "ax.set_zlabel(\"Sales Growth (St.)\")\n",
    "ax.scatter(x, y, z)\n",
    "plt.show()"
   ]
  },
  {
   "cell_type": "markdown",
   "id": "086276d4",
   "metadata": {
    "papermill": {
     "duration": 0.066053,
     "end_time": "2022-04-19T13:18:25.748098",
     "exception": false,
     "start_time": "2022-04-19T13:18:25.682045",
     "status": "completed"
    },
    "tags": []
   },
   "source": [
    "# **5 Cluster Description**"
   ]
  },
  {
   "cell_type": "code",
   "execution_count": 30,
   "id": "5ad6c8d3",
   "metadata": {
    "execution": {
     "iopub.execute_input": "2022-04-19T13:18:25.883857Z",
     "iopub.status.busy": "2022-04-19T13:18:25.883274Z",
     "iopub.status.idle": "2022-04-19T13:18:25.921300Z",
     "shell.execute_reply": "2022-04-19T13:18:25.920751Z"
    },
    "papermill": {
     "duration": 0.108312,
     "end_time": "2022-04-19T13:18:25.923132",
     "exception": false,
     "start_time": "2022-04-19T13:18:25.814820",
     "status": "completed"
    },
    "tags": []
   },
   "outputs": [
    {
     "data": {
      "text/html": [
       "<div>\n",
       "<style scoped>\n",
       "    .dataframe tbody tr th:only-of-type {\n",
       "        vertical-align: middle;\n",
       "    }\n",
       "\n",
       "    .dataframe tbody tr th {\n",
       "        vertical-align: top;\n",
       "    }\n",
       "\n",
       "    .dataframe thead th {\n",
       "        text-align: right;\n",
       "    }\n",
       "</style>\n",
       "<table border=\"1\" class=\"dataframe\">\n",
       "  <thead>\n",
       "    <tr style=\"text-align: right;\">\n",
       "      <th></th>\n",
       "      <th>Category</th>\n",
       "      <th>DER (St.)</th>\n",
       "      <th>Operating Profit Margin (St.)</th>\n",
       "      <th>Sales Growth (St.)</th>\n",
       "      <th>DER</th>\n",
       "      <th>Operating Profit Margin</th>\n",
       "      <th>Return on Assets</th>\n",
       "      <th>Sales Growth</th>\n",
       "      <th>Unnamed: 6</th>\n",
       "    </tr>\n",
       "  </thead>\n",
       "  <tbody>\n",
       "    <tr>\n",
       "      <th>count</th>\n",
       "      <td>1.0</td>\n",
       "      <td>1.00000</td>\n",
       "      <td>1.00000</td>\n",
       "      <td>1.000000</td>\n",
       "      <td>1.000</td>\n",
       "      <td>1.000</td>\n",
       "      <td>1.00</td>\n",
       "      <td>1.00</td>\n",
       "      <td>0.0</td>\n",
       "    </tr>\n",
       "    <tr>\n",
       "      <th>mean</th>\n",
       "      <td>4.0</td>\n",
       "      <td>4.15693</td>\n",
       "      <td>4.21337</td>\n",
       "      <td>0.242531</td>\n",
       "      <td>33896.887</td>\n",
       "      <td>4337.822</td>\n",
       "      <td>1.14</td>\n",
       "      <td>0.05</td>\n",
       "      <td>NaN</td>\n",
       "    </tr>\n",
       "    <tr>\n",
       "      <th>std</th>\n",
       "      <td>NaN</td>\n",
       "      <td>NaN</td>\n",
       "      <td>NaN</td>\n",
       "      <td>NaN</td>\n",
       "      <td>NaN</td>\n",
       "      <td>NaN</td>\n",
       "      <td>NaN</td>\n",
       "      <td>NaN</td>\n",
       "      <td>NaN</td>\n",
       "    </tr>\n",
       "    <tr>\n",
       "      <th>min</th>\n",
       "      <td>4.0</td>\n",
       "      <td>4.15693</td>\n",
       "      <td>4.21337</td>\n",
       "      <td>0.242531</td>\n",
       "      <td>33896.887</td>\n",
       "      <td>4337.822</td>\n",
       "      <td>1.14</td>\n",
       "      <td>0.05</td>\n",
       "      <td>NaN</td>\n",
       "    </tr>\n",
       "    <tr>\n",
       "      <th>25%</th>\n",
       "      <td>4.0</td>\n",
       "      <td>4.15693</td>\n",
       "      <td>4.21337</td>\n",
       "      <td>0.242531</td>\n",
       "      <td>33896.887</td>\n",
       "      <td>4337.822</td>\n",
       "      <td>1.14</td>\n",
       "      <td>0.05</td>\n",
       "      <td>NaN</td>\n",
       "    </tr>\n",
       "    <tr>\n",
       "      <th>50%</th>\n",
       "      <td>4.0</td>\n",
       "      <td>4.15693</td>\n",
       "      <td>4.21337</td>\n",
       "      <td>0.242531</td>\n",
       "      <td>33896.887</td>\n",
       "      <td>4337.822</td>\n",
       "      <td>1.14</td>\n",
       "      <td>0.05</td>\n",
       "      <td>NaN</td>\n",
       "    </tr>\n",
       "    <tr>\n",
       "      <th>75%</th>\n",
       "      <td>4.0</td>\n",
       "      <td>4.15693</td>\n",
       "      <td>4.21337</td>\n",
       "      <td>0.242531</td>\n",
       "      <td>33896.887</td>\n",
       "      <td>4337.822</td>\n",
       "      <td>1.14</td>\n",
       "      <td>0.05</td>\n",
       "      <td>NaN</td>\n",
       "    </tr>\n",
       "    <tr>\n",
       "      <th>max</th>\n",
       "      <td>4.0</td>\n",
       "      <td>4.15693</td>\n",
       "      <td>4.21337</td>\n",
       "      <td>0.242531</td>\n",
       "      <td>33896.887</td>\n",
       "      <td>4337.822</td>\n",
       "      <td>1.14</td>\n",
       "      <td>0.05</td>\n",
       "      <td>NaN</td>\n",
       "    </tr>\n",
       "  </tbody>\n",
       "</table>\n",
       "</div>"
      ],
      "text/plain": [
       "       Category  DER (St.)  Operating Profit Margin (St.)  Sales Growth (St.)  \\\n",
       "count       1.0    1.00000                        1.00000            1.000000   \n",
       "mean        4.0    4.15693                        4.21337            0.242531   \n",
       "std         NaN        NaN                            NaN                 NaN   \n",
       "min         4.0    4.15693                        4.21337            0.242531   \n",
       "25%         4.0    4.15693                        4.21337            0.242531   \n",
       "50%         4.0    4.15693                        4.21337            0.242531   \n",
       "75%         4.0    4.15693                        4.21337            0.242531   \n",
       "max         4.0    4.15693                        4.21337            0.242531   \n",
       "\n",
       "             DER  Operating Profit Margin  Return on Assets  Sales Growth  \\\n",
       "count      1.000                    1.000              1.00          1.00   \n",
       "mean   33896.887                 4337.822              1.14          0.05   \n",
       "std          NaN                      NaN               NaN           NaN   \n",
       "min    33896.887                 4337.822              1.14          0.05   \n",
       "25%    33896.887                 4337.822              1.14          0.05   \n",
       "50%    33896.887                 4337.822              1.14          0.05   \n",
       "75%    33896.887                 4337.822              1.14          0.05   \n",
       "max    33896.887                 4337.822              1.14          0.05   \n",
       "\n",
       "       Unnamed: 6  \n",
       "count         0.0  \n",
       "mean          NaN  \n",
       "std           NaN  \n",
       "min           NaN  \n",
       "25%           NaN  \n",
       "50%           NaN  \n",
       "75%           NaN  \n",
       "max           NaN  "
      ]
     },
     "execution_count": 30,
     "metadata": {},
     "output_type": "execute_result"
    }
   ],
   "source": [
    "#Highly Positively Impacted\n",
    "df[df['Category'] == 4].describe()"
   ]
  },
  {
   "cell_type": "code",
   "execution_count": 31,
   "id": "c549e332",
   "metadata": {
    "execution": {
     "iopub.execute_input": "2022-04-19T13:18:26.059684Z",
     "iopub.status.busy": "2022-04-19T13:18:26.059277Z",
     "iopub.status.idle": "2022-04-19T13:18:26.093659Z",
     "shell.execute_reply": "2022-04-19T13:18:26.093074Z"
    },
    "papermill": {
     "duration": 0.104978,
     "end_time": "2022-04-19T13:18:26.095600",
     "exception": false,
     "start_time": "2022-04-19T13:18:25.990622",
     "status": "completed"
    },
    "tags": []
   },
   "outputs": [
    {
     "data": {
      "text/html": [
       "<div>\n",
       "<style scoped>\n",
       "    .dataframe tbody tr th:only-of-type {\n",
       "        vertical-align: middle;\n",
       "    }\n",
       "\n",
       "    .dataframe tbody tr th {\n",
       "        vertical-align: top;\n",
       "    }\n",
       "\n",
       "    .dataframe thead th {\n",
       "        text-align: right;\n",
       "    }\n",
       "</style>\n",
       "<table border=\"1\" class=\"dataframe\">\n",
       "  <thead>\n",
       "    <tr style=\"text-align: right;\">\n",
       "      <th></th>\n",
       "      <th>Category</th>\n",
       "      <th>DER (St.)</th>\n",
       "      <th>Operating Profit Margin (St.)</th>\n",
       "      <th>Sales Growth (St.)</th>\n",
       "      <th>DER</th>\n",
       "      <th>Operating Profit Margin</th>\n",
       "      <th>Return on Assets</th>\n",
       "      <th>Sales Growth</th>\n",
       "      <th>Unnamed: 6</th>\n",
       "    </tr>\n",
       "  </thead>\n",
       "  <tbody>\n",
       "    <tr>\n",
       "      <th>count</th>\n",
       "      <td>8.0</td>\n",
       "      <td>8.000000</td>\n",
       "      <td>8.000000</td>\n",
       "      <td>8.000000</td>\n",
       "      <td>8.000000</td>\n",
       "      <td>8.000000</td>\n",
       "      <td>8.000000</td>\n",
       "      <td>8.000000</td>\n",
       "      <td>0.0</td>\n",
       "    </tr>\n",
       "    <tr>\n",
       "      <th>mean</th>\n",
       "      <td>3.0</td>\n",
       "      <td>-0.316765</td>\n",
       "      <td>-0.263476</td>\n",
       "      <td>-0.422097</td>\n",
       "      <td>531.339265</td>\n",
       "      <td>-3.211394</td>\n",
       "      <td>0.582500</td>\n",
       "      <td>-0.006250</td>\n",
       "      <td>NaN</td>\n",
       "    </tr>\n",
       "    <tr>\n",
       "      <th>std</th>\n",
       "      <td>0.0</td>\n",
       "      <td>0.081460</td>\n",
       "      <td>0.026386</td>\n",
       "      <td>0.321652</td>\n",
       "      <td>607.542028</td>\n",
       "      <td>25.585687</td>\n",
       "      <td>1.373002</td>\n",
       "      <td>0.027223</td>\n",
       "      <td>NaN</td>\n",
       "    </tr>\n",
       "    <tr>\n",
       "      <th>min</th>\n",
       "      <td>3.0</td>\n",
       "      <td>-0.379883</td>\n",
       "      <td>-0.321663</td>\n",
       "      <td>-0.939030</td>\n",
       "      <td>60.593691</td>\n",
       "      <td>-59.633000</td>\n",
       "      <td>-2.540000</td>\n",
       "      <td>-0.050000</td>\n",
       "      <td>NaN</td>\n",
       "    </tr>\n",
       "    <tr>\n",
       "      <th>25%</th>\n",
       "      <td>3.0</td>\n",
       "      <td>-0.375736</td>\n",
       "      <td>-0.266595</td>\n",
       "      <td>-0.555023</td>\n",
       "      <td>91.526612</td>\n",
       "      <td>-6.235601</td>\n",
       "      <td>0.582500</td>\n",
       "      <td>-0.017500</td>\n",
       "      <td>NaN</td>\n",
       "    </tr>\n",
       "    <tr>\n",
       "      <th>50%</th>\n",
       "      <td>3.0</td>\n",
       "      <td>-0.350869</td>\n",
       "      <td>-0.259919</td>\n",
       "      <td>-0.348250</td>\n",
       "      <td>276.989902</td>\n",
       "      <td>0.237437</td>\n",
       "      <td>0.835000</td>\n",
       "      <td>0.000000</td>\n",
       "      <td>NaN</td>\n",
       "    </tr>\n",
       "    <tr>\n",
       "      <th>75%</th>\n",
       "      <td>3.0</td>\n",
       "      <td>-0.284479</td>\n",
       "      <td>-0.252493</td>\n",
       "      <td>-0.230093</td>\n",
       "      <td>772.139068</td>\n",
       "      <td>7.438297</td>\n",
       "      <td>1.320000</td>\n",
       "      <td>0.010000</td>\n",
       "      <td>NaN</td>\n",
       "    </tr>\n",
       "    <tr>\n",
       "      <th>max</th>\n",
       "      <td>3.0</td>\n",
       "      <td>-0.146086</td>\n",
       "      <td>-0.236624</td>\n",
       "      <td>0.006219</td>\n",
       "      <td>1804.295000</td>\n",
       "      <td>22.825563</td>\n",
       "      <td>1.960000</td>\n",
       "      <td>0.030000</td>\n",
       "      <td>NaN</td>\n",
       "    </tr>\n",
       "  </tbody>\n",
       "</table>\n",
       "</div>"
      ],
      "text/plain": [
       "       Category  DER (St.)  Operating Profit Margin (St.)  Sales Growth (St.)  \\\n",
       "count       8.0   8.000000                       8.000000            8.000000   \n",
       "mean        3.0  -0.316765                      -0.263476           -0.422097   \n",
       "std         0.0   0.081460                       0.026386            0.321652   \n",
       "min         3.0  -0.379883                      -0.321663           -0.939030   \n",
       "25%         3.0  -0.375736                      -0.266595           -0.555023   \n",
       "50%         3.0  -0.350869                      -0.259919           -0.348250   \n",
       "75%         3.0  -0.284479                      -0.252493           -0.230093   \n",
       "max         3.0  -0.146086                      -0.236624            0.006219   \n",
       "\n",
       "               DER  Operating Profit Margin  Return on Assets  Sales Growth  \\\n",
       "count     8.000000                 8.000000          8.000000      8.000000   \n",
       "mean    531.339265                -3.211394          0.582500     -0.006250   \n",
       "std     607.542028                25.585687          1.373002      0.027223   \n",
       "min      60.593691               -59.633000         -2.540000     -0.050000   \n",
       "25%      91.526612                -6.235601          0.582500     -0.017500   \n",
       "50%     276.989902                 0.237437          0.835000      0.000000   \n",
       "75%     772.139068                 7.438297          1.320000      0.010000   \n",
       "max    1804.295000                22.825563          1.960000      0.030000   \n",
       "\n",
       "       Unnamed: 6  \n",
       "count         0.0  \n",
       "mean          NaN  \n",
       "std           NaN  \n",
       "min           NaN  \n",
       "25%           NaN  \n",
       "50%           NaN  \n",
       "75%           NaN  \n",
       "max           NaN  "
      ]
     },
     "execution_count": 31,
     "metadata": {},
     "output_type": "execute_result"
    }
   ],
   "source": [
    "#Highly Positively Impacted\n",
    "df[df['Category'] == 3].describe()"
   ]
  },
  {
   "cell_type": "code",
   "execution_count": 32,
   "id": "4ac4a97d",
   "metadata": {
    "execution": {
     "iopub.execute_input": "2022-04-19T13:18:26.232713Z",
     "iopub.status.busy": "2022-04-19T13:18:26.232306Z",
     "iopub.status.idle": "2022-04-19T13:18:26.266351Z",
     "shell.execute_reply": "2022-04-19T13:18:26.265795Z"
    },
    "papermill": {
     "duration": 0.105192,
     "end_time": "2022-04-19T13:18:26.268347",
     "exception": false,
     "start_time": "2022-04-19T13:18:26.163155",
     "status": "completed"
    },
    "tags": []
   },
   "outputs": [
    {
     "data": {
      "text/html": [
       "<div>\n",
       "<style scoped>\n",
       "    .dataframe tbody tr th:only-of-type {\n",
       "        vertical-align: middle;\n",
       "    }\n",
       "\n",
       "    .dataframe tbody tr th {\n",
       "        vertical-align: top;\n",
       "    }\n",
       "\n",
       "    .dataframe thead th {\n",
       "        text-align: right;\n",
       "    }\n",
       "</style>\n",
       "<table border=\"1\" class=\"dataframe\">\n",
       "  <thead>\n",
       "    <tr style=\"text-align: right;\">\n",
       "      <th></th>\n",
       "      <th>Category</th>\n",
       "      <th>DER (St.)</th>\n",
       "      <th>Operating Profit Margin (St.)</th>\n",
       "      <th>Sales Growth (St.)</th>\n",
       "      <th>DER</th>\n",
       "      <th>Operating Profit Margin</th>\n",
       "      <th>Return on Assets</th>\n",
       "      <th>Sales Growth</th>\n",
       "      <th>Unnamed: 6</th>\n",
       "    </tr>\n",
       "  </thead>\n",
       "  <tbody>\n",
       "    <tr>\n",
       "      <th>count</th>\n",
       "      <td>7.0</td>\n",
       "      <td>7.000000</td>\n",
       "      <td>7.000000</td>\n",
       "      <td>7.000000</td>\n",
       "      <td>7.000000</td>\n",
       "      <td>7.000000</td>\n",
       "      <td>7.000000</td>\n",
       "      <td>7.000000</td>\n",
       "      <td>0.0</td>\n",
       "    </tr>\n",
       "    <tr>\n",
       "      <th>mean</th>\n",
       "      <td>2.0</td>\n",
       "      <td>-0.097038</td>\n",
       "      <td>-0.150316</td>\n",
       "      <td>0.563240</td>\n",
       "      <td>2170.100012</td>\n",
       "      <td>106.515885</td>\n",
       "      <td>0.407143</td>\n",
       "      <td>0.077143</td>\n",
       "      <td>NaN</td>\n",
       "    </tr>\n",
       "    <tr>\n",
       "      <th>std</th>\n",
       "      <td>0.0</td>\n",
       "      <td>0.288808</td>\n",
       "      <td>0.060013</td>\n",
       "      <td>0.365548</td>\n",
       "      <td>2153.980307</td>\n",
       "      <td>58.191982</td>\n",
       "      <td>0.250713</td>\n",
       "      <td>0.030938</td>\n",
       "      <td>NaN</td>\n",
       "    </tr>\n",
       "    <tr>\n",
       "      <th>min</th>\n",
       "      <td>2.0</td>\n",
       "      <td>-0.341204</td>\n",
       "      <td>-0.230679</td>\n",
       "      <td>0.124375</td>\n",
       "      <td>349.070293</td>\n",
       "      <td>28.590701</td>\n",
       "      <td>0.170000</td>\n",
       "      <td>0.040000</td>\n",
       "      <td>NaN</td>\n",
       "    </tr>\n",
       "    <tr>\n",
       "      <th>25%</th>\n",
       "      <td>2.0</td>\n",
       "      <td>-0.307212</td>\n",
       "      <td>-0.185442</td>\n",
       "      <td>0.242531</td>\n",
       "      <td>602.588454</td>\n",
       "      <td>72.455073</td>\n",
       "      <td>0.235000</td>\n",
       "      <td>0.050000</td>\n",
       "      <td>NaN</td>\n",
       "    </tr>\n",
       "    <tr>\n",
       "      <th>50%</th>\n",
       "      <td>2.0</td>\n",
       "      <td>-0.262431</td>\n",
       "      <td>-0.162933</td>\n",
       "      <td>0.596999</td>\n",
       "      <td>936.570659</td>\n",
       "      <td>94.281205</td>\n",
       "      <td>0.380000</td>\n",
       "      <td>0.080000</td>\n",
       "      <td>NaN</td>\n",
       "    </tr>\n",
       "    <tr>\n",
       "      <th>75%</th>\n",
       "      <td>2.0</td>\n",
       "      <td>0.078541</td>\n",
       "      <td>-0.115580</td>\n",
       "      <td>0.892389</td>\n",
       "      <td>3479.596215</td>\n",
       "      <td>140.197320</td>\n",
       "      <td>0.465000</td>\n",
       "      <td>0.105000</td>\n",
       "      <td>NaN</td>\n",
       "    </tr>\n",
       "    <tr>\n",
       "      <th>max</th>\n",
       "      <td>2.0</td>\n",
       "      <td>0.381711</td>\n",
       "      <td>-0.056553</td>\n",
       "      <td>0.951468</td>\n",
       "      <td>5740.689797</td>\n",
       "      <td>197.434505</td>\n",
       "      <td>0.900000</td>\n",
       "      <td>0.110000</td>\n",
       "      <td>NaN</td>\n",
       "    </tr>\n",
       "  </tbody>\n",
       "</table>\n",
       "</div>"
      ],
      "text/plain": [
       "       Category  DER (St.)  Operating Profit Margin (St.)  Sales Growth (St.)  \\\n",
       "count       7.0   7.000000                       7.000000            7.000000   \n",
       "mean        2.0  -0.097038                      -0.150316            0.563240   \n",
       "std         0.0   0.288808                       0.060013            0.365548   \n",
       "min         2.0  -0.341204                      -0.230679            0.124375   \n",
       "25%         2.0  -0.307212                      -0.185442            0.242531   \n",
       "50%         2.0  -0.262431                      -0.162933            0.596999   \n",
       "75%         2.0   0.078541                      -0.115580            0.892389   \n",
       "max         2.0   0.381711                      -0.056553            0.951468   \n",
       "\n",
       "               DER  Operating Profit Margin  Return on Assets  Sales Growth  \\\n",
       "count     7.000000                 7.000000          7.000000      7.000000   \n",
       "mean   2170.100012               106.515885          0.407143      0.077143   \n",
       "std    2153.980307                58.191982          0.250713      0.030938   \n",
       "min     349.070293                28.590701          0.170000      0.040000   \n",
       "25%     602.588454                72.455073          0.235000      0.050000   \n",
       "50%     936.570659                94.281205          0.380000      0.080000   \n",
       "75%    3479.596215               140.197320          0.465000      0.105000   \n",
       "max    5740.689797               197.434505          0.900000      0.110000   \n",
       "\n",
       "       Unnamed: 6  \n",
       "count         0.0  \n",
       "mean          NaN  \n",
       "std           NaN  \n",
       "min           NaN  \n",
       "25%           NaN  \n",
       "50%           NaN  \n",
       "75%           NaN  \n",
       "max           NaN  "
      ]
     },
     "execution_count": 32,
     "metadata": {},
     "output_type": "execute_result"
    }
   ],
   "source": [
    "#Highly Positively Impacted\n",
    "df[df['Category'] == 2].describe()"
   ]
  },
  {
   "cell_type": "code",
   "execution_count": 33,
   "id": "4a0e3224",
   "metadata": {
    "execution": {
     "iopub.execute_input": "2022-04-19T13:18:26.406570Z",
     "iopub.status.busy": "2022-04-19T13:18:26.406180Z",
     "iopub.status.idle": "2022-04-19T13:18:26.440462Z",
     "shell.execute_reply": "2022-04-19T13:18:26.439607Z"
    },
    "papermill": {
     "duration": 0.105991,
     "end_time": "2022-04-19T13:18:26.442585",
     "exception": false,
     "start_time": "2022-04-19T13:18:26.336594",
     "status": "completed"
    },
    "tags": []
   },
   "outputs": [
    {
     "data": {
      "text/html": [
       "<div>\n",
       "<style scoped>\n",
       "    .dataframe tbody tr th:only-of-type {\n",
       "        vertical-align: middle;\n",
       "    }\n",
       "\n",
       "    .dataframe tbody tr th {\n",
       "        vertical-align: top;\n",
       "    }\n",
       "\n",
       "    .dataframe thead th {\n",
       "        text-align: right;\n",
       "    }\n",
       "</style>\n",
       "<table border=\"1\" class=\"dataframe\">\n",
       "  <thead>\n",
       "    <tr style=\"text-align: right;\">\n",
       "      <th></th>\n",
       "      <th>Category</th>\n",
       "      <th>DER (St.)</th>\n",
       "      <th>Operating Profit Margin (St.)</th>\n",
       "      <th>Sales Growth (St.)</th>\n",
       "      <th>DER</th>\n",
       "      <th>Operating Profit Margin</th>\n",
       "      <th>Return on Assets</th>\n",
       "      <th>Sales Growth</th>\n",
       "      <th>Unnamed: 6</th>\n",
       "    </tr>\n",
       "  </thead>\n",
       "  <tbody>\n",
       "    <tr>\n",
       "      <th>count</th>\n",
       "      <td>2.0</td>\n",
       "      <td>2.000000</td>\n",
       "      <td>2.000000</td>\n",
       "      <td>2.000000</td>\n",
       "      <td>2.000000</td>\n",
       "      <td>2.000000</td>\n",
       "      <td>2.000000</td>\n",
       "      <td>2.000000</td>\n",
       "      <td>0.0</td>\n",
       "    </tr>\n",
       "    <tr>\n",
       "      <th>mean</th>\n",
       "      <td>1.0</td>\n",
       "      <td>-0.323876</td>\n",
       "      <td>-0.458052</td>\n",
       "      <td>-1.766123</td>\n",
       "      <td>478.308760</td>\n",
       "      <td>-191.884928</td>\n",
       "      <td>1.145000</td>\n",
       "      <td>-0.120000</td>\n",
       "      <td>NaN</td>\n",
       "    </tr>\n",
       "    <tr>\n",
       "      <th>std</th>\n",
       "      <td>0.0</td>\n",
       "      <td>0.084283</td>\n",
       "      <td>0.262771</td>\n",
       "      <td>0.334196</td>\n",
       "      <td>628.599893</td>\n",
       "      <td>254.799146</td>\n",
       "      <td>0.827315</td>\n",
       "      <td>0.028284</td>\n",
       "      <td>NaN</td>\n",
       "    </tr>\n",
       "    <tr>\n",
       "      <th>min</th>\n",
       "      <td>1.0</td>\n",
       "      <td>-0.383473</td>\n",
       "      <td>-0.643859</td>\n",
       "      <td>-2.002435</td>\n",
       "      <td>33.821513</td>\n",
       "      <td>-372.055132</td>\n",
       "      <td>0.560000</td>\n",
       "      <td>-0.140000</td>\n",
       "      <td>NaN</td>\n",
       "    </tr>\n",
       "    <tr>\n",
       "      <th>25%</th>\n",
       "      <td>1.0</td>\n",
       "      <td>-0.353674</td>\n",
       "      <td>-0.550956</td>\n",
       "      <td>-1.884279</td>\n",
       "      <td>256.065137</td>\n",
       "      <td>-281.970030</td>\n",
       "      <td>0.852500</td>\n",
       "      <td>-0.130000</td>\n",
       "      <td>NaN</td>\n",
       "    </tr>\n",
       "    <tr>\n",
       "      <th>50%</th>\n",
       "      <td>1.0</td>\n",
       "      <td>-0.323876</td>\n",
       "      <td>-0.458052</td>\n",
       "      <td>-1.766123</td>\n",
       "      <td>478.308760</td>\n",
       "      <td>-191.884928</td>\n",
       "      <td>1.145000</td>\n",
       "      <td>-0.120000</td>\n",
       "      <td>NaN</td>\n",
       "    </tr>\n",
       "    <tr>\n",
       "      <th>75%</th>\n",
       "      <td>1.0</td>\n",
       "      <td>-0.294077</td>\n",
       "      <td>-0.365149</td>\n",
       "      <td>-1.647967</td>\n",
       "      <td>700.552383</td>\n",
       "      <td>-101.799826</td>\n",
       "      <td>1.437500</td>\n",
       "      <td>-0.110000</td>\n",
       "      <td>NaN</td>\n",
       "    </tr>\n",
       "    <tr>\n",
       "      <th>max</th>\n",
       "      <td>1.0</td>\n",
       "      <td>-0.264278</td>\n",
       "      <td>-0.272245</td>\n",
       "      <td>-1.529811</td>\n",
       "      <td>922.796007</td>\n",
       "      <td>-11.714724</td>\n",
       "      <td>1.730000</td>\n",
       "      <td>-0.100000</td>\n",
       "      <td>NaN</td>\n",
       "    </tr>\n",
       "  </tbody>\n",
       "</table>\n",
       "</div>"
      ],
      "text/plain": [
       "       Category  DER (St.)  Operating Profit Margin (St.)  Sales Growth (St.)  \\\n",
       "count       2.0   2.000000                       2.000000            2.000000   \n",
       "mean        1.0  -0.323876                      -0.458052           -1.766123   \n",
       "std         0.0   0.084283                       0.262771            0.334196   \n",
       "min         1.0  -0.383473                      -0.643859           -2.002435   \n",
       "25%         1.0  -0.353674                      -0.550956           -1.884279   \n",
       "50%         1.0  -0.323876                      -0.458052           -1.766123   \n",
       "75%         1.0  -0.294077                      -0.365149           -1.647967   \n",
       "max         1.0  -0.264278                      -0.272245           -1.529811   \n",
       "\n",
       "              DER  Operating Profit Margin  Return on Assets  Sales Growth  \\\n",
       "count    2.000000                 2.000000          2.000000      2.000000   \n",
       "mean   478.308760              -191.884928          1.145000     -0.120000   \n",
       "std    628.599893               254.799146          0.827315      0.028284   \n",
       "min     33.821513              -372.055132          0.560000     -0.140000   \n",
       "25%    256.065137              -281.970030          0.852500     -0.130000   \n",
       "50%    478.308760              -191.884928          1.145000     -0.120000   \n",
       "75%    700.552383              -101.799826          1.437500     -0.110000   \n",
       "max    922.796007               -11.714724          1.730000     -0.100000   \n",
       "\n",
       "       Unnamed: 6  \n",
       "count         0.0  \n",
       "mean          NaN  \n",
       "std           NaN  \n",
       "min           NaN  \n",
       "25%           NaN  \n",
       "50%           NaN  \n",
       "75%           NaN  \n",
       "max           NaN  "
      ]
     },
     "execution_count": 33,
     "metadata": {},
     "output_type": "execute_result"
    }
   ],
   "source": [
    "#Highly Positively Impacted\n",
    "df[df['Category'] == 1].describe()"
   ]
  },
  {
   "cell_type": "code",
   "execution_count": 34,
   "id": "ef23fab9",
   "metadata": {
    "execution": {
     "iopub.execute_input": "2022-04-19T13:18:26.584197Z",
     "iopub.status.busy": "2022-04-19T13:18:26.583928Z",
     "iopub.status.idle": "2022-04-19T13:18:26.620503Z",
     "shell.execute_reply": "2022-04-19T13:18:26.619677Z"
    },
    "papermill": {
     "duration": 0.108918,
     "end_time": "2022-04-19T13:18:26.622658",
     "exception": false,
     "start_time": "2022-04-19T13:18:26.513740",
     "status": "completed"
    },
    "tags": []
   },
   "outputs": [
    {
     "data": {
      "text/html": [
       "<div>\n",
       "<style scoped>\n",
       "    .dataframe tbody tr th:only-of-type {\n",
       "        vertical-align: middle;\n",
       "    }\n",
       "\n",
       "    .dataframe tbody tr th {\n",
       "        vertical-align: top;\n",
       "    }\n",
       "\n",
       "    .dataframe thead th {\n",
       "        text-align: right;\n",
       "    }\n",
       "</style>\n",
       "<table border=\"1\" class=\"dataframe\">\n",
       "  <thead>\n",
       "    <tr style=\"text-align: right;\">\n",
       "      <th></th>\n",
       "      <th>Category</th>\n",
       "      <th>DER (St.)</th>\n",
       "      <th>Operating Profit Margin (St.)</th>\n",
       "      <th>Sales Growth (St.)</th>\n",
       "      <th>DER</th>\n",
       "      <th>Operating Profit Margin</th>\n",
       "      <th>Return on Assets</th>\n",
       "      <th>Sales Growth</th>\n",
       "      <th>Unnamed: 6</th>\n",
       "    </tr>\n",
       "  </thead>\n",
       "  <tbody>\n",
       "    <tr>\n",
       "      <th>count</th>\n",
       "      <td>1.0</td>\n",
       "      <td>1.000000</td>\n",
       "      <td>1.00000</td>\n",
       "      <td>1.000000</td>\n",
       "      <td>1.000</td>\n",
       "      <td>1.000</td>\n",
       "      <td>1.00</td>\n",
       "      <td>1.00</td>\n",
       "      <td>0.0</td>\n",
       "    </tr>\n",
       "    <tr>\n",
       "      <th>mean</th>\n",
       "      <td>0.0</td>\n",
       "      <td>-0.295789</td>\n",
       "      <td>-0.13725</td>\n",
       "      <td>2.723809</td>\n",
       "      <td>58775.946</td>\n",
       "      <td>4729.034</td>\n",
       "      <td>1.15</td>\n",
       "      <td>0.03</td>\n",
       "      <td>NaN</td>\n",
       "    </tr>\n",
       "    <tr>\n",
       "      <th>std</th>\n",
       "      <td>NaN</td>\n",
       "      <td>NaN</td>\n",
       "      <td>NaN</td>\n",
       "      <td>NaN</td>\n",
       "      <td>NaN</td>\n",
       "      <td>NaN</td>\n",
       "      <td>NaN</td>\n",
       "      <td>NaN</td>\n",
       "      <td>NaN</td>\n",
       "    </tr>\n",
       "    <tr>\n",
       "      <th>min</th>\n",
       "      <td>0.0</td>\n",
       "      <td>-0.295789</td>\n",
       "      <td>-0.13725</td>\n",
       "      <td>2.723809</td>\n",
       "      <td>58775.946</td>\n",
       "      <td>4729.034</td>\n",
       "      <td>1.15</td>\n",
       "      <td>0.03</td>\n",
       "      <td>NaN</td>\n",
       "    </tr>\n",
       "    <tr>\n",
       "      <th>25%</th>\n",
       "      <td>0.0</td>\n",
       "      <td>-0.295789</td>\n",
       "      <td>-0.13725</td>\n",
       "      <td>2.723809</td>\n",
       "      <td>58775.946</td>\n",
       "      <td>4729.034</td>\n",
       "      <td>1.15</td>\n",
       "      <td>0.03</td>\n",
       "      <td>NaN</td>\n",
       "    </tr>\n",
       "    <tr>\n",
       "      <th>50%</th>\n",
       "      <td>0.0</td>\n",
       "      <td>-0.295789</td>\n",
       "      <td>-0.13725</td>\n",
       "      <td>2.723809</td>\n",
       "      <td>58775.946</td>\n",
       "      <td>4729.034</td>\n",
       "      <td>1.15</td>\n",
       "      <td>0.03</td>\n",
       "      <td>NaN</td>\n",
       "    </tr>\n",
       "    <tr>\n",
       "      <th>75%</th>\n",
       "      <td>0.0</td>\n",
       "      <td>-0.295789</td>\n",
       "      <td>-0.13725</td>\n",
       "      <td>2.723809</td>\n",
       "      <td>58775.946</td>\n",
       "      <td>4729.034</td>\n",
       "      <td>1.15</td>\n",
       "      <td>0.03</td>\n",
       "      <td>NaN</td>\n",
       "    </tr>\n",
       "    <tr>\n",
       "      <th>max</th>\n",
       "      <td>0.0</td>\n",
       "      <td>-0.295789</td>\n",
       "      <td>-0.13725</td>\n",
       "      <td>2.723809</td>\n",
       "      <td>58775.946</td>\n",
       "      <td>4729.034</td>\n",
       "      <td>1.15</td>\n",
       "      <td>0.03</td>\n",
       "      <td>NaN</td>\n",
       "    </tr>\n",
       "  </tbody>\n",
       "</table>\n",
       "</div>"
      ],
      "text/plain": [
       "       Category  DER (St.)  Operating Profit Margin (St.)  Sales Growth (St.)  \\\n",
       "count       1.0   1.000000                        1.00000            1.000000   \n",
       "mean        0.0  -0.295789                       -0.13725            2.723809   \n",
       "std         NaN        NaN                            NaN                 NaN   \n",
       "min         0.0  -0.295789                       -0.13725            2.723809   \n",
       "25%         0.0  -0.295789                       -0.13725            2.723809   \n",
       "50%         0.0  -0.295789                       -0.13725            2.723809   \n",
       "75%         0.0  -0.295789                       -0.13725            2.723809   \n",
       "max         0.0  -0.295789                       -0.13725            2.723809   \n",
       "\n",
       "             DER  Operating Profit Margin  Return on Assets  Sales Growth  \\\n",
       "count      1.000                    1.000              1.00          1.00   \n",
       "mean   58775.946                 4729.034              1.15          0.03   \n",
       "std          NaN                      NaN               NaN           NaN   \n",
       "min    58775.946                 4729.034              1.15          0.03   \n",
       "25%    58775.946                 4729.034              1.15          0.03   \n",
       "50%    58775.946                 4729.034              1.15          0.03   \n",
       "75%    58775.946                 4729.034              1.15          0.03   \n",
       "max    58775.946                 4729.034              1.15          0.03   \n",
       "\n",
       "       Unnamed: 6  \n",
       "count         0.0  \n",
       "mean          NaN  \n",
       "std           NaN  \n",
       "min           NaN  \n",
       "25%           NaN  \n",
       "50%           NaN  \n",
       "75%           NaN  \n",
       "max           NaN  "
      ]
     },
     "execution_count": 34,
     "metadata": {},
     "output_type": "execute_result"
    }
   ],
   "source": [
    "#Highly Positively Impacted\n",
    "df[df['Category'] == 0].describe()"
   ]
  }
 ],
 "metadata": {
  "kernelspec": {
   "display_name": "Python 3",
   "language": "python",
   "name": "python3"
  },
  "language_info": {
   "codemirror_mode": {
    "name": "ipython",
    "version": 3
   },
   "file_extension": ".py",
   "mimetype": "text/x-python",
   "name": "python",
   "nbconvert_exporter": "python",
   "pygments_lexer": "ipython3",
   "version": "3.7.12"
  },
  "papermill": {
   "default_parameters": {},
   "duration": 25.234782,
   "end_time": "2022-04-19T13:18:27.614226",
   "environment_variables": {},
   "exception": null,
   "input_path": "__notebook__.ipynb",
   "output_path": "__notebook__.ipynb",
   "parameters": {},
   "start_time": "2022-04-19T13:18:02.379444",
   "version": "2.3.4"
  }
 },
 "nbformat": 4,
 "nbformat_minor": 5
}
