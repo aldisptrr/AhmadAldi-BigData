{
 "cells": [
  {
   "cell_type": "code",
   "execution_count": 1,
   "id": "b431ce72",
   "metadata": {
    "_cell_guid": "b1076dfc-b9ad-4769-8c92-a6c4dae69d19",
    "_uuid": "8f2839f25d086af736a60e9eeb907d3b93b6e0e5",
    "execution": {
     "iopub.execute_input": "2022-04-15T08:44:12.398529Z",
     "iopub.status.busy": "2022-04-15T08:44:12.396517Z",
     "iopub.status.idle": "2022-04-15T08:44:12.418122Z",
     "shell.execute_reply": "2022-04-15T08:44:12.418672Z",
     "shell.execute_reply.started": "2022-04-15T08:28:58.106510Z"
    },
    "papermill": {
     "duration": 0.046125,
     "end_time": "2022-04-15T08:44:12.418993",
     "exception": false,
     "start_time": "2022-04-15T08:44:12.372868",
     "status": "completed"
    },
    "tags": []
   },
   "outputs": [
    {
     "name": "stdout",
     "output_type": "stream",
     "text": [
      "/kaggle/input/bbri-dataset/BBRI.JK (2).csv\n",
      "/kaggle/input/allobank-dataset/BBHI.JK.csv\n"
     ]
    }
   ],
   "source": [
    "# This Python 3 environment comes with many helpful analytics libraries installed\n",
    "# It is defined by the kaggle/python Docker image: https://github.com/kaggle/docker-python\n",
    "# For example, here's several helpful packages to load\n",
    "\n",
    "import numpy as np # linear algebra\n",
    "import pandas as pd # data processing, CSV file I/O (e.g. pd.read_csv)\n",
    "\n",
    "# Input data files are available in the read-only \"../input/\" directory\n",
    "# For example, running this (by clicking run or pressing Shift+Enter) will list all files under the input directory\n",
    "\n",
    "import os\n",
    "for dirname, _, filenames in os.walk('/kaggle/input'):\n",
    "    for filename in filenames:\n",
    "        print(os.path.join(dirname, filename))\n",
    "\n",
    "# You can write up to 20GB to the current directory (/kaggle/working/) that gets preserved as output when you create a version using \"Save & Run All\" \n",
    "# You can also write temporary files to /kaggle/temp/, but they won't be saved outside of the current session"
   ]
  },
  {
   "cell_type": "code",
   "execution_count": 2,
   "id": "de0d429a",
   "metadata": {
    "execution": {
     "iopub.execute_input": "2022-04-15T08:44:12.459790Z",
     "iopub.status.busy": "2022-04-15T08:44:12.459168Z",
     "iopub.status.idle": "2022-04-15T08:44:13.492813Z",
     "shell.execute_reply": "2022-04-15T08:44:13.492168Z",
     "shell.execute_reply.started": "2022-04-15T08:28:58.151147Z"
    },
    "papermill": {
     "duration": 1.054458,
     "end_time": "2022-04-15T08:44:13.492977",
     "exception": false,
     "start_time": "2022-04-15T08:44:12.438519",
     "status": "completed"
    },
    "tags": []
   },
   "outputs": [],
   "source": [
    "import numpy as np\n",
    "import pandas as pd\n",
    "import matplotlib.pyplot as plt\n",
    "import seaborn as sns"
   ]
  },
  {
   "cell_type": "code",
   "execution_count": 3,
   "id": "740457b5",
   "metadata": {
    "execution": {
     "iopub.execute_input": "2022-04-15T08:44:13.536482Z",
     "iopub.status.busy": "2022-04-15T08:44:13.535715Z",
     "iopub.status.idle": "2022-04-15T08:44:13.553127Z",
     "shell.execute_reply": "2022-04-15T08:44:13.552538Z",
     "shell.execute_reply.started": "2022-04-15T08:28:59.328716Z"
    },
    "papermill": {
     "duration": 0.041233,
     "end_time": "2022-04-15T08:44:13.553274",
     "exception": false,
     "start_time": "2022-04-15T08:44:13.512041",
     "status": "completed"
    },
    "tags": []
   },
   "outputs": [],
   "source": [
    "df=pd.read_csv('../input/bbri-dataset/BBRI.JK (2).csv')\n",
    "df=pd.read_csv('../input/allobank-dataset/BBHI.JK.csv')"
   ]
  },
  {
   "cell_type": "markdown",
   "id": "8b4294b4",
   "metadata": {
    "papermill": {
     "duration": 0.018172,
     "end_time": "2022-04-15T08:44:13.590868",
     "exception": false,
     "start_time": "2022-04-15T08:44:13.572696",
     "status": "completed"
    },
    "tags": []
   },
   "source": [
    "# BBRI Data Closing"
   ]
  },
  {
   "cell_type": "code",
   "execution_count": 4,
   "id": "4334c2fc",
   "metadata": {
    "execution": {
     "iopub.execute_input": "2022-04-15T08:44:13.633565Z",
     "iopub.status.busy": "2022-04-15T08:44:13.632600Z",
     "iopub.status.idle": "2022-04-15T08:44:13.654387Z",
     "shell.execute_reply": "2022-04-15T08:44:13.655049Z",
     "shell.execute_reply.started": "2022-04-15T08:28:59.353240Z"
    },
    "papermill": {
     "duration": 0.04553,
     "end_time": "2022-04-15T08:44:13.655218",
     "exception": false,
     "start_time": "2022-04-15T08:44:13.609688",
     "status": "completed"
    },
    "tags": []
   },
   "outputs": [
    {
     "data": {
      "text/html": [
       "<div>\n",
       "<style scoped>\n",
       "    .dataframe tbody tr th:only-of-type {\n",
       "        vertical-align: middle;\n",
       "    }\n",
       "\n",
       "    .dataframe tbody tr th {\n",
       "        vertical-align: top;\n",
       "    }\n",
       "\n",
       "    .dataframe thead th {\n",
       "        text-align: right;\n",
       "    }\n",
       "</style>\n",
       "<table border=\"1\" class=\"dataframe\">\n",
       "  <thead>\n",
       "    <tr style=\"text-align: right;\">\n",
       "      <th></th>\n",
       "      <th>BBRI</th>\n",
       "    </tr>\n",
       "  </thead>\n",
       "  <tbody>\n",
       "    <tr>\n",
       "      <th>0</th>\n",
       "      <td>4630.0</td>\n",
       "    </tr>\n",
       "    <tr>\n",
       "      <th>1</th>\n",
       "      <td>4670.0</td>\n",
       "    </tr>\n",
       "    <tr>\n",
       "      <th>2</th>\n",
       "      <td>4670.0</td>\n",
       "    </tr>\n",
       "    <tr>\n",
       "      <th>3</th>\n",
       "      <td>4620.0</td>\n",
       "    </tr>\n",
       "    <tr>\n",
       "      <th>4</th>\n",
       "      <td>4720.0</td>\n",
       "    </tr>\n",
       "    <tr>\n",
       "      <th>...</th>\n",
       "      <td>...</td>\n",
       "    </tr>\n",
       "    <tr>\n",
       "      <th>242</th>\n",
       "      <td>4610.0</td>\n",
       "    </tr>\n",
       "    <tr>\n",
       "      <th>243</th>\n",
       "      <td>4650.0</td>\n",
       "    </tr>\n",
       "    <tr>\n",
       "      <th>244</th>\n",
       "      <td>4650.0</td>\n",
       "    </tr>\n",
       "    <tr>\n",
       "      <th>245</th>\n",
       "      <td>4580.0</td>\n",
       "    </tr>\n",
       "    <tr>\n",
       "      <th>246</th>\n",
       "      <td>4590.0</td>\n",
       "    </tr>\n",
       "  </tbody>\n",
       "</table>\n",
       "<p>247 rows × 1 columns</p>\n",
       "</div>"
      ],
      "text/plain": [
       "       BBRI\n",
       "0    4630.0\n",
       "1    4670.0\n",
       "2    4670.0\n",
       "3    4620.0\n",
       "4    4720.0\n",
       "..      ...\n",
       "242  4610.0\n",
       "243  4650.0\n",
       "244  4650.0\n",
       "245  4580.0\n",
       "246  4590.0\n",
       "\n",
       "[247 rows x 1 columns]"
      ]
     },
     "metadata": {},
     "output_type": "display_data"
    }
   ],
   "source": [
    "bbri_close = pd.read_csv('../input/bbri-dataset/BBRI.JK (2).csv', usecols=['Close'])\n",
    "bbri = bbri_close.rename(columns={'Close' : 'BBRI'})\n",
    "display(bbri)"
   ]
  },
  {
   "cell_type": "markdown",
   "id": "a6dabd10",
   "metadata": {
    "papermill": {
     "duration": 0.018473,
     "end_time": "2022-04-15T08:44:13.693654",
     "exception": false,
     "start_time": "2022-04-15T08:44:13.675181",
     "status": "completed"
    },
    "tags": []
   },
   "source": [
    "# Allobank Data Close"
   ]
  },
  {
   "cell_type": "code",
   "execution_count": 5,
   "id": "386dccf0",
   "metadata": {
    "execution": {
     "iopub.execute_input": "2022-04-15T08:44:13.735641Z",
     "iopub.status.busy": "2022-04-15T08:44:13.735020Z",
     "iopub.status.idle": "2022-04-15T08:44:13.748222Z",
     "shell.execute_reply": "2022-04-15T08:44:13.748795Z",
     "shell.execute_reply.started": "2022-04-15T08:28:59.386590Z"
    },
    "papermill": {
     "duration": 0.035679,
     "end_time": "2022-04-15T08:44:13.748968",
     "exception": false,
     "start_time": "2022-04-15T08:44:13.713289",
     "status": "completed"
    },
    "tags": []
   },
   "outputs": [
    {
     "data": {
      "text/html": [
       "<div>\n",
       "<style scoped>\n",
       "    .dataframe tbody tr th:only-of-type {\n",
       "        vertical-align: middle;\n",
       "    }\n",
       "\n",
       "    .dataframe tbody tr th {\n",
       "        vertical-align: top;\n",
       "    }\n",
       "\n",
       "    .dataframe thead th {\n",
       "        text-align: right;\n",
       "    }\n",
       "</style>\n",
       "<table border=\"1\" class=\"dataframe\">\n",
       "  <thead>\n",
       "    <tr style=\"text-align: right;\">\n",
       "      <th></th>\n",
       "      <th>BBHI</th>\n",
       "    </tr>\n",
       "  </thead>\n",
       "  <tbody>\n",
       "    <tr>\n",
       "      <th>0</th>\n",
       "      <td>1700.0</td>\n",
       "    </tr>\n",
       "    <tr>\n",
       "      <th>1</th>\n",
       "      <td>1610.0</td>\n",
       "    </tr>\n",
       "    <tr>\n",
       "      <th>2</th>\n",
       "      <td>1500.0</td>\n",
       "    </tr>\n",
       "    <tr>\n",
       "      <th>3</th>\n",
       "      <td>1395.0</td>\n",
       "    </tr>\n",
       "    <tr>\n",
       "      <th>4</th>\n",
       "      <td>1380.0</td>\n",
       "    </tr>\n",
       "    <tr>\n",
       "      <th>...</th>\n",
       "      <td>...</td>\n",
       "    </tr>\n",
       "    <tr>\n",
       "      <th>242</th>\n",
       "      <td>4980.0</td>\n",
       "    </tr>\n",
       "    <tr>\n",
       "      <th>243</th>\n",
       "      <td>5250.0</td>\n",
       "    </tr>\n",
       "    <tr>\n",
       "      <th>244</th>\n",
       "      <td>5150.0</td>\n",
       "    </tr>\n",
       "    <tr>\n",
       "      <th>245</th>\n",
       "      <td>5425.0</td>\n",
       "    </tr>\n",
       "    <tr>\n",
       "      <th>246</th>\n",
       "      <td>5375.0</td>\n",
       "    </tr>\n",
       "  </tbody>\n",
       "</table>\n",
       "<p>247 rows × 1 columns</p>\n",
       "</div>"
      ],
      "text/plain": [
       "       BBHI\n",
       "0    1700.0\n",
       "1    1610.0\n",
       "2    1500.0\n",
       "3    1395.0\n",
       "4    1380.0\n",
       "..      ...\n",
       "242  4980.0\n",
       "243  5250.0\n",
       "244  5150.0\n",
       "245  5425.0\n",
       "246  5375.0\n",
       "\n",
       "[247 rows x 1 columns]"
      ]
     },
     "metadata": {},
     "output_type": "display_data"
    }
   ],
   "source": [
    "allo_close = pd.read_csv('../input/allobank-dataset/BBHI.JK.csv', usecols=['Close'])\n",
    "allo = allo_close.rename(columns={'Close' : 'BBHI'})\n",
    "display(allo)"
   ]
  },
  {
   "cell_type": "code",
   "execution_count": 6,
   "id": "889fefa2",
   "metadata": {
    "execution": {
     "iopub.execute_input": "2022-04-15T08:44:13.793287Z",
     "iopub.status.busy": "2022-04-15T08:44:13.792564Z",
     "iopub.status.idle": "2022-04-15T08:44:13.826595Z",
     "shell.execute_reply": "2022-04-15T08:44:13.827172Z",
     "shell.execute_reply.started": "2022-04-15T08:28:59.405680Z"
    },
    "papermill": {
     "duration": 0.0584,
     "end_time": "2022-04-15T08:44:13.827331",
     "exception": false,
     "start_time": "2022-04-15T08:44:13.768931",
     "status": "completed"
    },
    "tags": []
   },
   "outputs": [
    {
     "data": {
      "text/html": [
       "<div>\n",
       "<style scoped>\n",
       "    .dataframe tbody tr th:only-of-type {\n",
       "        vertical-align: middle;\n",
       "    }\n",
       "\n",
       "    .dataframe tbody tr th {\n",
       "        vertical-align: top;\n",
       "    }\n",
       "\n",
       "    .dataframe thead th {\n",
       "        text-align: right;\n",
       "    }\n",
       "</style>\n",
       "<table border=\"1\" class=\"dataframe\">\n",
       "  <thead>\n",
       "    <tr style=\"text-align: right;\">\n",
       "      <th></th>\n",
       "      <th>Open</th>\n",
       "      <th>High</th>\n",
       "      <th>Low</th>\n",
       "      <th>Close</th>\n",
       "      <th>Adj Close</th>\n",
       "      <th>Volume</th>\n",
       "    </tr>\n",
       "  </thead>\n",
       "  <tbody>\n",
       "    <tr>\n",
       "      <th>count</th>\n",
       "      <td>247.000000</td>\n",
       "      <td>247.000000</td>\n",
       "      <td>247.000000</td>\n",
       "      <td>247.000000</td>\n",
       "      <td>247.000000</td>\n",
       "      <td>2.470000e+02</td>\n",
       "    </tr>\n",
       "    <tr>\n",
       "      <th>mean</th>\n",
       "      <td>3882.273865</td>\n",
       "      <td>4062.846209</td>\n",
       "      <td>3766.481423</td>\n",
       "      <td>3904.247055</td>\n",
       "      <td>3904.247055</td>\n",
       "      <td>1.196918e+07</td>\n",
       "    </tr>\n",
       "    <tr>\n",
       "      <th>std</th>\n",
       "      <td>2196.025263</td>\n",
       "      <td>2268.356268</td>\n",
       "      <td>2145.760386</td>\n",
       "      <td>2195.626317</td>\n",
       "      <td>2195.626317</td>\n",
       "      <td>1.587760e+07</td>\n",
       "    </tr>\n",
       "    <tr>\n",
       "      <th>min</th>\n",
       "      <td>930.000000</td>\n",
       "      <td>980.000000</td>\n",
       "      <td>910.000000</td>\n",
       "      <td>930.000000</td>\n",
       "      <td>930.000000</td>\n",
       "      <td>7.001000e+05</td>\n",
       "    </tr>\n",
       "    <tr>\n",
       "      <th>25%</th>\n",
       "      <td>1726.550171</td>\n",
       "      <td>1876.285644</td>\n",
       "      <td>1625.246399</td>\n",
       "      <td>1763.409729</td>\n",
       "      <td>1763.409729</td>\n",
       "      <td>2.998197e+06</td>\n",
       "    </tr>\n",
       "    <tr>\n",
       "      <th>50%</th>\n",
       "      <td>3670.000000</td>\n",
       "      <td>3800.000000</td>\n",
       "      <td>3530.000000</td>\n",
       "      <td>3660.000000</td>\n",
       "      <td>3660.000000</td>\n",
       "      <td>6.488800e+06</td>\n",
       "    </tr>\n",
       "    <tr>\n",
       "      <th>75%</th>\n",
       "      <td>5700.000000</td>\n",
       "      <td>5875.000000</td>\n",
       "      <td>5575.000000</td>\n",
       "      <td>5664.000488</td>\n",
       "      <td>5664.000488</td>\n",
       "      <td>1.320295e+07</td>\n",
       "    </tr>\n",
       "    <tr>\n",
       "      <th>max</th>\n",
       "      <td>8025.000000</td>\n",
       "      <td>8275.000000</td>\n",
       "      <td>7850.000000</td>\n",
       "      <td>8025.000000</td>\n",
       "      <td>8025.000000</td>\n",
       "      <td>9.573220e+07</td>\n",
       "    </tr>\n",
       "  </tbody>\n",
       "</table>\n",
       "</div>"
      ],
      "text/plain": [
       "              Open         High          Low        Close    Adj Close  \\\n",
       "count   247.000000   247.000000   247.000000   247.000000   247.000000   \n",
       "mean   3882.273865  4062.846209  3766.481423  3904.247055  3904.247055   \n",
       "std    2196.025263  2268.356268  2145.760386  2195.626317  2195.626317   \n",
       "min     930.000000   980.000000   910.000000   930.000000   930.000000   \n",
       "25%    1726.550171  1876.285644  1625.246399  1763.409729  1763.409729   \n",
       "50%    3670.000000  3800.000000  3530.000000  3660.000000  3660.000000   \n",
       "75%    5700.000000  5875.000000  5575.000000  5664.000488  5664.000488   \n",
       "max    8025.000000  8275.000000  7850.000000  8025.000000  8025.000000   \n",
       "\n",
       "             Volume  \n",
       "count  2.470000e+02  \n",
       "mean   1.196918e+07  \n",
       "std    1.587760e+07  \n",
       "min    7.001000e+05  \n",
       "25%    2.998197e+06  \n",
       "50%    6.488800e+06  \n",
       "75%    1.320295e+07  \n",
       "max    9.573220e+07  "
      ]
     },
     "execution_count": 6,
     "metadata": {},
     "output_type": "execute_result"
    }
   ],
   "source": [
    "df.describe()"
   ]
  },
  {
   "cell_type": "code",
   "execution_count": 7,
   "id": "925e2776",
   "metadata": {
    "execution": {
     "iopub.execute_input": "2022-04-15T08:44:13.871014Z",
     "iopub.status.busy": "2022-04-15T08:44:13.870334Z",
     "iopub.status.idle": "2022-04-15T08:44:13.879658Z",
     "shell.execute_reply": "2022-04-15T08:44:13.879151Z",
     "shell.execute_reply.started": "2022-04-15T08:28:59.479487Z"
    },
    "papermill": {
     "duration": 0.03233,
     "end_time": "2022-04-15T08:44:13.879814",
     "exception": false,
     "start_time": "2022-04-15T08:44:13.847484",
     "status": "completed"
    },
    "tags": []
   },
   "outputs": [
    {
     "name": "stdout",
     "output_type": "stream",
     "text": [
      "         Date    Open    High     Low   Close  Adj Close    Volume\n",
      "0  2021-03-22  1600.0  1760.0  1550.0  1700.0     1700.0  25815600\n",
      "1  2021-03-23  1720.0  1760.0  1600.0  1610.0     1610.0   7000800\n",
      "2  2021-03-24  1595.0  1600.0  1500.0  1500.0     1500.0   6216200\n",
      "3  2021-03-25  1500.0  1500.0  1395.0  1395.0     1395.0   2318800\n",
      "4  2021-03-26  1385.0  1450.0  1300.0  1380.0     1380.0   3582400\n"
     ]
    }
   ],
   "source": [
    "print(df.head())"
   ]
  },
  {
   "cell_type": "markdown",
   "id": "f99f380a",
   "metadata": {
    "papermill": {
     "duration": 0.020524,
     "end_time": "2022-04-15T08:44:13.921558",
     "exception": false,
     "start_time": "2022-04-15T08:44:13.901034",
     "status": "completed"
    },
    "tags": []
   },
   "source": [
    "# Merging Data"
   ]
  },
  {
   "cell_type": "code",
   "execution_count": 8,
   "id": "b7079926",
   "metadata": {
    "execution": {
     "iopub.execute_input": "2022-04-15T08:44:13.967678Z",
     "iopub.status.busy": "2022-04-15T08:44:13.967042Z",
     "iopub.status.idle": "2022-04-15T08:44:13.986774Z",
     "shell.execute_reply": "2022-04-15T08:44:13.987329Z",
     "shell.execute_reply.started": "2022-04-15T08:28:59.492896Z"
    },
    "papermill": {
     "duration": 0.044245,
     "end_time": "2022-04-15T08:44:13.987496",
     "exception": false,
     "start_time": "2022-04-15T08:44:13.943251",
     "status": "completed"
    },
    "tags": []
   },
   "outputs": [
    {
     "data": {
      "text/html": [
       "<div>\n",
       "<style scoped>\n",
       "    .dataframe tbody tr th:only-of-type {\n",
       "        vertical-align: middle;\n",
       "    }\n",
       "\n",
       "    .dataframe tbody tr th {\n",
       "        vertical-align: top;\n",
       "    }\n",
       "\n",
       "    .dataframe thead th {\n",
       "        text-align: right;\n",
       "    }\n",
       "</style>\n",
       "<table border=\"1\" class=\"dataframe\">\n",
       "  <thead>\n",
       "    <tr style=\"text-align: right;\">\n",
       "      <th></th>\n",
       "      <th>BBRI</th>\n",
       "      <th>BBHI</th>\n",
       "    </tr>\n",
       "  </thead>\n",
       "  <tbody>\n",
       "    <tr>\n",
       "      <th>0</th>\n",
       "      <td>4630.0</td>\n",
       "      <td>1700.0</td>\n",
       "    </tr>\n",
       "    <tr>\n",
       "      <th>1</th>\n",
       "      <td>4670.0</td>\n",
       "      <td>1610.0</td>\n",
       "    </tr>\n",
       "    <tr>\n",
       "      <th>2</th>\n",
       "      <td>4670.0</td>\n",
       "      <td>1500.0</td>\n",
       "    </tr>\n",
       "    <tr>\n",
       "      <th>3</th>\n",
       "      <td>4620.0</td>\n",
       "      <td>1395.0</td>\n",
       "    </tr>\n",
       "    <tr>\n",
       "      <th>4</th>\n",
       "      <td>4720.0</td>\n",
       "      <td>1380.0</td>\n",
       "    </tr>\n",
       "    <tr>\n",
       "      <th>...</th>\n",
       "      <td>...</td>\n",
       "      <td>...</td>\n",
       "    </tr>\n",
       "    <tr>\n",
       "      <th>242</th>\n",
       "      <td>4610.0</td>\n",
       "      <td>4980.0</td>\n",
       "    </tr>\n",
       "    <tr>\n",
       "      <th>243</th>\n",
       "      <td>4650.0</td>\n",
       "      <td>5250.0</td>\n",
       "    </tr>\n",
       "    <tr>\n",
       "      <th>244</th>\n",
       "      <td>4650.0</td>\n",
       "      <td>5150.0</td>\n",
       "    </tr>\n",
       "    <tr>\n",
       "      <th>245</th>\n",
       "      <td>4580.0</td>\n",
       "      <td>5425.0</td>\n",
       "    </tr>\n",
       "    <tr>\n",
       "      <th>246</th>\n",
       "      <td>4590.0</td>\n",
       "      <td>5375.0</td>\n",
       "    </tr>\n",
       "  </tbody>\n",
       "</table>\n",
       "<p>247 rows × 2 columns</p>\n",
       "</div>"
      ],
      "text/plain": [
       "       BBRI    BBHI\n",
       "0    4630.0  1700.0\n",
       "1    4670.0  1610.0\n",
       "2    4670.0  1500.0\n",
       "3    4620.0  1395.0\n",
       "4    4720.0  1380.0\n",
       "..      ...     ...\n",
       "242  4610.0  4980.0\n",
       "243  4650.0  5250.0\n",
       "244  4650.0  5150.0\n",
       "245  4580.0  5425.0\n",
       "246  4590.0  5375.0\n",
       "\n",
       "[247 rows x 2 columns]"
      ]
     },
     "metadata": {},
     "output_type": "display_data"
    }
   ],
   "source": [
    "df = bbri.join(allo)\n",
    "display(df)"
   ]
  },
  {
   "cell_type": "code",
   "execution_count": 9,
   "id": "d4f247e5",
   "metadata": {
    "execution": {
     "iopub.execute_input": "2022-04-15T08:44:14.035146Z",
     "iopub.status.busy": "2022-04-15T08:44:14.034514Z",
     "iopub.status.idle": "2022-04-15T08:44:14.039035Z",
     "shell.execute_reply": "2022-04-15T08:44:14.039589Z",
     "shell.execute_reply.started": "2022-04-15T08:28:59.524601Z"
    },
    "papermill": {
     "duration": 0.029699,
     "end_time": "2022-04-15T08:44:14.039779",
     "exception": false,
     "start_time": "2022-04-15T08:44:14.010080",
     "status": "completed"
    },
    "tags": []
   },
   "outputs": [
    {
     "name": "stdout",
     "output_type": "stream",
     "text": [
      "(247, 2)\n"
     ]
    }
   ],
   "source": [
    "print(df.shape)"
   ]
  },
  {
   "cell_type": "markdown",
   "id": "f1734e45",
   "metadata": {
    "papermill": {
     "duration": 0.022108,
     "end_time": "2022-04-15T08:44:14.084361",
     "exception": false,
     "start_time": "2022-04-15T08:44:14.062253",
     "status": "completed"
    },
    "tags": []
   },
   "source": [
    "# Konstanta dan Koefisien"
   ]
  },
  {
   "cell_type": "code",
   "execution_count": 10,
   "id": "72e16f2c",
   "metadata": {
    "execution": {
     "iopub.execute_input": "2022-04-15T08:44:14.131313Z",
     "iopub.status.busy": "2022-04-15T08:44:14.130691Z",
     "iopub.status.idle": "2022-04-15T08:44:14.134141Z",
     "shell.execute_reply": "2022-04-15T08:44:14.134595Z",
     "shell.execute_reply.started": "2022-04-15T08:28:59.533317Z"
    },
    "papermill": {
     "duration": 0.028008,
     "end_time": "2022-04-15T08:44:14.134757",
     "exception": false,
     "start_time": "2022-04-15T08:44:14.106749",
     "status": "completed"
    },
    "tags": []
   },
   "outputs": [],
   "source": [
    "X = df['BBRI'].values\n",
    "Y = df['BBHI'].values"
   ]
  },
  {
   "cell_type": "code",
   "execution_count": 11,
   "id": "cecbc2c3",
   "metadata": {
    "execution": {
     "iopub.execute_input": "2022-04-15T08:44:14.190678Z",
     "iopub.status.busy": "2022-04-15T08:44:14.185689Z",
     "iopub.status.idle": "2022-04-15T08:44:14.193886Z",
     "shell.execute_reply": "2022-04-15T08:44:14.194613Z",
     "shell.execute_reply.started": "2022-04-15T08:28:59.546166Z"
    },
    "papermill": {
     "duration": 0.034621,
     "end_time": "2022-04-15T08:44:14.194853",
     "exception": false,
     "start_time": "2022-04-15T08:44:14.160232",
     "status": "completed"
    },
    "tags": []
   },
   "outputs": [
    {
     "name": "stdout",
     "output_type": "stream",
     "text": [
      "2.4232455903698655 -6061.48491111845\n"
     ]
    }
   ],
   "source": [
    "#Mean X and Y\n",
    "mean_x = np.mean(X)\n",
    "mean_y = np.mean(Y)\n",
    "\n",
    "#Total number of values\n",
    "m = len(X)\n",
    "\n",
    "#using the formula to calculate b1 and b2\n",
    "numer = 0\n",
    "denom = 0\n",
    "for i in range(m):\n",
    "    numer += (X[i] - mean_x) * (Y[i]- mean_y)\n",
    "    denom += (X[i] - mean_x) ** 2\n",
    "b1 = numer/denom\n",
    "b0 = mean_y - (b1 * mean_x)\n",
    "\n",
    "#Print coefficients\n",
    "print(b1,b0)"
   ]
  },
  {
   "cell_type": "markdown",
   "id": "3fd139ef",
   "metadata": {
    "papermill": {
     "duration": 0.022506,
     "end_time": "2022-04-15T08:44:14.241092",
     "exception": false,
     "start_time": "2022-04-15T08:44:14.218586",
     "status": "completed"
    },
    "tags": []
   },
   "source": [
    "# 2D Graph"
   ]
  },
  {
   "cell_type": "code",
   "execution_count": 12,
   "id": "4baa6c48",
   "metadata": {
    "execution": {
     "iopub.execute_input": "2022-04-15T08:44:14.288584Z",
     "iopub.status.busy": "2022-04-15T08:44:14.287693Z",
     "iopub.status.idle": "2022-04-15T08:44:14.293878Z",
     "shell.execute_reply": "2022-04-15T08:44:14.294356Z",
     "shell.execute_reply.started": "2022-04-15T08:28:59.566451Z"
    },
    "papermill": {
     "duration": 0.031315,
     "end_time": "2022-04-15T08:44:14.294504",
     "exception": false,
     "start_time": "2022-04-15T08:44:14.263189",
     "status": "completed"
    },
    "tags": []
   },
   "outputs": [],
   "source": [
    "%matplotlib inline\n",
    "import matplotlib.pyplot as plt\n",
    "plt.rcParams['figure.figsize'] = (20.0, 10.0)"
   ]
  },
  {
   "cell_type": "code",
   "execution_count": 13,
   "id": "3f8ba1f9",
   "metadata": {
    "execution": {
     "iopub.execute_input": "2022-04-15T08:44:14.342058Z",
     "iopub.status.busy": "2022-04-15T08:44:14.341106Z",
     "iopub.status.idle": "2022-04-15T08:44:14.656996Z",
     "shell.execute_reply": "2022-04-15T08:44:14.657476Z",
     "shell.execute_reply.started": "2022-04-15T08:28:59.585937Z"
    },
    "papermill": {
     "duration": 0.341714,
     "end_time": "2022-04-15T08:44:14.657672",
     "exception": false,
     "start_time": "2022-04-15T08:44:14.315958",
     "status": "completed"
    },
    "tags": []
   },
   "outputs": [
    {
     "data": {
      "image/png": "[encoded data removed]",
      "text/plain": [
       "<Figure size 1440x720 with 1 Axes>"
      ]
     },
     "metadata": {
      "needs_background": "light"
     },
     "output_type": "display_data"
    }
   ],
   "source": [
    "#Plotting values and regression line\n",
    "max_x = np.max(X) + 100\n",
    "min_x = np.min(X) - 100\n",
    "\n",
    "#Calculating line values x and y\n",
    "x = np.linspace(min_x, max_x, 1000)\n",
    "y = b0 + b1 * x\n",
    "\n",
    "#Ploting line\n",
    "plt.plot(x,y, color='#58b970', label = 'Regression Line')\n",
    "\n",
    "#PLoting Scatter Points\n",
    "plt.scatter(X,Y, c='#ef5423', label='Scatter PLot')\n",
    "\n",
    "plt.xlabel('BBRI')\n",
    "plt.ylabel('BBHI')\n",
    "plt.legend()\n",
    "plt.show()"
   ]
  },
  {
   "cell_type": "markdown",
   "id": "c1dc43fd",
   "metadata": {
    "papermill": {
     "duration": 0.023877,
     "end_time": "2022-04-15T08:44:14.705882",
     "exception": false,
     "start_time": "2022-04-15T08:44:14.682005",
     "status": "completed"
    },
    "tags": []
   },
   "source": [
    "# **R Squared**"
   ]
  },
  {
   "cell_type": "code",
   "execution_count": 14,
   "id": "f76f7ab3",
   "metadata": {
    "execution": {
     "iopub.execute_input": "2022-04-15T08:44:14.759783Z",
     "iopub.status.busy": "2022-04-15T08:44:14.758766Z",
     "iopub.status.idle": "2022-04-15T08:44:14.766896Z",
     "shell.execute_reply": "2022-04-15T08:44:14.768128Z",
     "shell.execute_reply.started": "2022-04-15T08:28:59.960689Z"
    },
    "papermill": {
     "duration": 0.038049,
     "end_time": "2022-04-15T08:44:14.768451",
     "exception": false,
     "start_time": "2022-04-15T08:44:14.730402",
     "status": "completed"
    },
    "tags": []
   },
   "outputs": [
    {
     "name": "stdout",
     "output_type": "stream",
     "text": [
      "0.09056521956618302\n"
     ]
    }
   ],
   "source": [
    "ss_t = 0\n",
    "ss_r = 0\n",
    "for i in range(m):\n",
    "    y_pred = b0 + b1 * X[i]\n",
    "    ss_t += (Y[i] - mean_y) ** 2\n",
    "    ss_r += (Y[i] - y_pred) ** 2\n",
    "r2 = 1 - (ss_r/ss_t)\n",
    "print(r2)"
   ]
  }
 ],
 "metadata": {
  "kernelspec": {
   "display_name": "Python 3",
   "language": "python",
   "name": "python3"
  },
  "language_info": {
   "codemirror_mode": {
    "name": "ipython",
    "version": 3
   },
   "file_extension": ".py",
   "mimetype": "text/x-python",
   "name": "python",
   "nbconvert_exporter": "python",
   "pygments_lexer": "ipython3",
   "version": "3.7.12"
  },
  "papermill": {
   "default_parameters": {},
   "duration": 12.88372,
   "end_time": "2022-04-15T08:44:15.504225",
   "environment_variables": {},
   "exception": null,
   "input_path": "__notebook__.ipynb",
   "output_path": "__notebook__.ipynb",
   "parameters": {},
   "start_time": "2022-04-15T08:44:02.620505",
   "version": "2.3.3"
  }
 },
 "nbformat": 4,
 "nbformat_minor": 5
}
